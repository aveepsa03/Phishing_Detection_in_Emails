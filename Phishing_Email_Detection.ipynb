{
  "cells": [
    {
      "cell_type": "markdown",
      "source": [
        "# Initializations"
      ],
      "metadata": {
        "id": "SvOx17Gaa3dc"
      }
    },
    {
      "cell_type": "code",
      "source": [
        "data = {}"
      ],
      "metadata": {
        "id": "VaaRkv-ra2cl"
      },
      "execution_count": null,
      "outputs": []
    },
    {
      "cell_type": "code",
      "source": [
        "import pandas as pd\n",
        "import os"
      ],
      "metadata": {
        "id": "8cYRiU5zb_O3"
      },
      "execution_count": null,
      "outputs": []
    },
    {
      "cell_type": "markdown",
      "metadata": {
        "id": "74KVRH0WjcEg"
      },
      "source": [
        "# Extract Email"
      ]
    },
    {
      "cell_type": "code",
      "execution_count": null,
      "metadata": {
        "colab": {
          "base_uri": "https://localhost:8080/"
        },
        "id": "_n36aRolPyRM",
        "outputId": "bca0fac4-79be-473d-9c23-0b7ac2279713"
      },
      "outputs": [
        {
          "output_type": "stream",
          "name": "stdout",
          "text": [
            "Subject: Your trial has expired\n",
            "From: Mailosaur <hello@mailosaur.com>\n",
            "If you would still like to upgrade click through to choose the right plan for you.\r\n",
            "\r\n",
            "Your trial has expired\r\n",
            "\r\n",
            "Hi there,\r\n",
            "\r\n",
            "Your Mailosaur trial has come to an end, which means that you'll no longer have access to email and SMS testing features.\r\n",
            "\r\n",
            "If you would still like to upgrade click below to choose the right plan for you. Alternatively, if you have any questions get in touch (https://d2mwGW04.na1.hubspotlinks.com/Ctc/LZ+113/d2mwGW04/VWmzK75btGkTW4_PK-74jVvgJW7HlLKX4WQsNZN1xVmZL3pl37V1-WJV7CgRc6W1ZQQXl1HF0FhW2Tj3KK8nKCxLW5M76lM65CsGkN2_ZkC6Zn5sVW6T8Vd93BNbbhW6qxF8k7QJ5QqW6LlFRs4T0zY-W2W81D55rPQ28W8ZTqmy4fdx0ZW1nx48C1d-4G0W2WdcnZ6KBbFqN982C9jH8VnkW276_d92lmqSKW6XrDB07mcNthW91-Zl29f16vvW9dt-_H2_wK9FW5qfRM-7t4szlW17FyTF86_lD0W8gZBxS3gMl38W67LPHc6ck5XYW1B0Flv6ZM5d5W2pBcqK76Xc1vVwbwRG3RpDnrW8bKRRb8QfdTDN8N5C9Mv1PvzW5XPZXK7n__2331yM1 ) and let us know how we can help.\r\n",
            "\r\n",
            "Upgrade your plan\r\n",
            "(https://d2mwGW04.na1.hubspotlinks.com/Ctc/LZ+113/d2mwGW04/VWmzK75btGkTW4_PK-74jVvgJW7HlLKX4WQsNZN1xVmZL3pl37V1-WJV7CgHldV6z2zJ6gcfFfVRjD6P1ZfFRvW4mVNkY8ZglQ-W1D9XDP5tSBvWW8vT-tt3LkffQW6ymwSj7YhTJSW8CF_CC9k1M0xW4N1Xw35jNXNfW5t93pg4MW5bGW35lhRr6pPNyVW7YvqjQ4dCkHJVyCb9b7rh95dW4HrGMd1Rcz5PW60VC4P97G_jcW2MYrvs4y5yHqVyR3l76zTF3FW1fFfkt2V6Y3SVnnsxh21j6ycW6gwzjf17WsHpW5WX-_j5-xr1DW8t2-TN8ZVv1nN5mKSqPbdvwVW2b5VYQ7zkckFW30C5c335SXZyW1Jx_FQ72g8nvW9hgHPd41lWtg360z1 )\r\n",
            "\r\n",
            "Documentation (https://d2mwGW04.na1.hubspotlinks.com/Ctc/LZ+113/d2mwGW04/VWmzK75btGkTW4_PK-74jVvgJW7HlLKX4WQsNZN1xVmZr3pl2SV1-WJV7CgLcmW3DSx8V6cHlwqN53mtsXZTKPkW7ZDTPw63fkNGW3jVHZK97S21mW1wyPsS6v9NR8W3C15CF5jljbLW6KCrgP1mKmSNW6r9kT1326mN3W1cgNkB7lFPzKW91ffRB5kpsrKW3zwhQj4DpPx3W3NQp_l35fp_cW4_jz1K8bQMQsW5SyvSw10SkrMW5SFx853f26GNW3LKxmF3rY_X5W7CW_2S7-DGs_W861nc174NnhnW2C2t4n1pqsX3W2HF4fY4352b2W8WtxKr2p5tLJW2QNynK5Yqb-JW8Rnk5m3k25dyW5nSBtN1bVxC03jzV1 )\r\n",
            "\r\n",
            "Explore our Mailosaur guides and API documentation.\r\n",
            "\r\n",
            "Pricing (https://d2mwGW04.na1.hubspotlinks.com/Ctc/LZ+113/d2mwGW04/VWmzK75btGkTW4_PK-74jVvgJW7HlLKX4WQsNZN1xVmZL3pl37V1-WJV7CgTyPW7mwSzj7y6XhxN8jt255V159GW4MLW8H932GWZW7ZK2x45ykkwHW7sQ95X28fFJQN7_hFv8Vq5Z_W8Ycy5g6pkfpWW19VtlB8MgQckW1g482v8VRj_jW5gXYCZ1p3Q14W6D8bNR6Qw3TzW7MMbGn5SMjMHW19lk-p7l0c0sW6Fngzx7Zx2dvW8xyrF-1bDLCFV1tDW89flYcWW8rpLwl6qcvJcW2vkyPF35c7ZKV48sFh7XhrrNN4tSMwrNN6XzW7JqhzT4KmLQ5W7QLQM61--qwKW5NwP_-5lBkBqW15b01z8tlkMDVtFjly8m12w0W1WZRDm21sx0B37MW1 )\r\n",
            "\r\n",
            "Plans to fit any size of business. No commitments, cancel anytime.\r\n",
            "\r\n",
            "Blogs (https://d2mwGW04.na1.hubspotlinks.com/Ctc/LZ+113/d2mwGW04/VWmzK75btGkTW4_PK-74jVvgJW7HlLKX4WQsNZN1xVmZr3pl2SV1-WJV7CgzNGV-Sg864tjTcvW9kJSZr1frHg9W59TQz_5tW2ybN2xnZ3Nd5VxRN6WN7G_3SR9dW867gNc5qvVpdW5gwtr36JYcB9W7gr5SN8WSD06W7mfbNd4H9FvkW6hyGQw2Wr5xtW8lmLq01T3CVNW908R_m34LLwBW1kXPGx81d4CKW59G_CY3nlSDxW343p_n46wFBFN4ZkxnHhr0RDW3bcxmG1Klnn5N9g9gLFxRLqWN3dtZwnr8lW1W8M_K2l42FlNQN2Wf_BJVSH7_VMRD0q1mDw_VW8Zr-4R8yWVRtW8SmDXT1x_-ZP369Q1 )\r\n",
            "\r\n",
            "Updates, ideas, and ramblings from Mailosaur, the email testing software.\r\n",
            "\r\n",
            "Have any further questions?\r\n",
            "\r\n",
            "Get in touch and let us know how we can help (https://d2mwGW04.na1.hubspotlinks.com/Ctc/LZ+113/d2mwGW04/VWmzK75btGkTW4_PK-74jVvgJW7HlLKX4WQsNZN1xVmZL3pl37V1-WJV7CgRc6W1ZQQXl1HF0FhW2Tj3KK8nKCxLW5M76lM65CsGkN2_ZkC6Zn5sVW6T8Vd93BNbbhW6qxF8k7QJ5QqW6LlFRs4T0zY-W2W81D55rPQ28W8ZTqmy4fdx0ZW1nx48C1d-4G0W2WdcnZ6KBbFqN982C9jH8VnkW276_d92lmqSKW6XrDB07mcNthW91-Zl29f16vvW9dt-_H2_wK9FW5qfRM-7t4szlW17FyTF86_lD0W8gZBxS3gMl38W67LPHc6ck5XYW1B0Flv6ZM5d5W2pBcqK76Xc1vVwbwRG3RpDnrW8bKRRb8QfdTDN8N5C9Mv1PvzW5XPZXK7n__2331yM1 ) .\r\n",
            "\r\n",
            "Twitter (https://d2mwGW04.na1.hubspotlinks.com/Ctc/LZ+113/d2mwGW04/VWmzK75btGkTW4_PK-74jVvgJW7HlLKX4WQsNZN1xVmZr3pl2SV1-WJV7CgHs-W5BF3N11BVkmvW6cY9fW3hqhR0W1g4s_K5s3msKW8T5Zw68xry3SW8vRBfS4Ypjd0W4vJyRk6dhHbvW6R91Ng3W5-tVW2wLxXL38YY4zW8hDnLM2NWLYjW5PR2pt3f3tz3N1XfDt9yvnt5W7PK-H76RDTQVW3FSg-V7lPFlrW7ZQggc5yvk7WW424-dr1FMcz6W92G_6X7_TwhtVd86DZ5vVP2gVFPRsd7gzSs9W3RGLhZ3JSxnSW4xvbJf4N2kskW1V2V1t8WffbbW939Mg96ql5gBW3flckZ8PXF48W4_zjds3rw_vY363_1 )\r\n",
            "\r\n",
            "YouTube (https://d2mwGW04.na1.hubspotlinks.com/Ctc/LZ+113/d2mwGW04/VWmzK75btGkTW4_PK-74jVvgJW7HlLKX4WQsNZN1xVm-13pl3rV1-WJV7CgCyDW40YH2l6JSs6vVfjvrj1FzYgJW4YxjY84M7PVmW3c63KD28DsHFN57NCS0M3dQcW1S8Z435kkBt8W8F4PwR4qfZWkW7HYCJT8114WvN42pMzFlBsWgW4Rb32g359sCWW6s8X-M6Y1pJjVVB9zR7D-lgcW5LnZs987xzz3W1hg3k69b7bRtW6hWY-X1LG8JbW8JD0YW6DwhlQW95Drpg8pS7DTW14RG8Q3_WxZMW5Tbn8P33JkmQW2BqJm03NJzlJW3NpF6K1pHqTtW3L3CY74gbgMlW4w8qjt5DkCPhN2nGwXHdx6k-W1xwh2x4PC1-mVpcYmj3VHWzhW1WglX817bv2MW4QC7FQ16sdVs33Jk1 )\r\n",
            "\r\n",
            "Mailosaur Ltd, PO Box 170, Winchester, Hampshire SO24 4BP, United Kingdom\r\n",
            "\r\n",
            "Unsubscribe (https://hs-20078598.s.hubspotemail.net/hs/manage-preferences/unsubscribe-all?languagePreference=en&d=VngbxK72nzT6VW6Wsf43X4SyW4fGBYD3T0pK8W3P3Q7w3ZsjYmW3_fQLS7jMpMwVmWFfx7Mgt7YN8LmFn425r4JW8-Q7JB8hLvL7VWH4fD6h7_2vMXk_7Qbw650W2cGffG2byr4gN7LVT9m1NNgz39Nq2&v=3&_hsenc=p2ANqtz-9buXxQV3ht8yuFsO-qPNzl5mOF86eTy8FoBlXANrw7Gpto_plMQC81BtkCm7qAOXXI6iIqRPpcx98MHAvYAx7OHVs9Yg&_hsmi=222923341 )\r\n",
            "\r\n",
            "Manage preferences (https://hs-20078598.s.hubspotemail.net/hs/manage-preferences/unsubscribe?languagePreference=en&d=VngbxK72nzT6VW6Wsf43X4SyW4fGBYD3T0pK8W3P3Q7w3ZsjYmW3_fQLS7jMpMwVmWFfx7Mgt7YN8LmFn425r4JW8-Q7JB8hLvL7VWH4fD6h7_2vMXk_7Qbw650W2cGffG2byr4gN7LVT9m1NNgz39Nq2&v=3&_hsenc=p2ANqtz-9buXxQV3ht8yuFsO-qPNzl5mOF86eTy8FoBlXANrw7Gpto_plMQC81BtkCm7qAOXXI6iIqRPpcx98MHAvYAx7OHVs9Yg&_hsmi=222923341 )\n",
            "====================================================================================================\n",
            "Subject: Reminder: 2 days until your trial expires\n",
            "From: Mailosaur <hello@mailosaur.com>\n",
            "If you are ready to upgrade click through to choose the right plan for you.\r\n",
            "\r\n",
            "Your trial expires in 2 days\r\n",
            "\r\n",
            "Hi there,\r\n",
            "\r\n",
            "This is just a reminder that your trial account is expiring. We hope you have found the trial useful and are considering upgrading your account.\r\n",
            "\r\n",
            "We’d love to keep your onboard, so if you are ready to upgrade click below to choose the right plan for you.\r\n",
            "\r\n",
            "Alternatively, if you have any questions get in touch (https://d2mwGW04.na1.hubspotlinks.com/Ctc/LZ+113/d2mwGW04/VWRpHg2F98cqW7ZfKdQ3B2xm-W5QKV2t4WL9hKN5JQGlS3pl37V1-WJV7CgMg3W1J5pfk5pH8tQW65y8bg9gkgY2VCyzC98rWKpTW7Rvhqf6r0PbDW6L_C-t8gkGGYW77DW0-1yd35JW2zZ4l07HWfxMVZzhxp1lVzRcW8sfYSs3RDTthW6My0BP3h6_LvW4_hqq_9gR-z1W3GDNlX38t1c4W902DYj4CzrLXW7gjRj980zLqVW3JvPWX8Yt3_BW6fB8nd8PQb3kW1p89xH3zdy0cW68MXxZ2Z6YMPW1_2GjT5_V9c_W2DRRlx7zJ6JqW5mLPgs8cY4C3W6DxhKk7N1TVrN1kbW_jY4yljW7grgQd4BnBtgW8MlPVW5bzG6gW119QcY8LP9T93hrS1 ) and let us know how we can help.\r\n",
            "\r\n",
            "Upgrade your plan\r\n",
            "(https://d2mwGW04.na1.hubspotlinks.com/Ctc/LZ+113/d2mwGW04/VWRpHg2F98cqW7ZfKdQ3B2xm-W5QKV2t4WL9hKN5JQGlS3pl37V1-WJV7CgD99W4SGp2j3Y3Jl2W96xVbR8sQfSzW20d7lJ2y0844W2zMfdF6pyZ58V9XjM72F0TJcW8rVcdZ6FXX_BW109PPp309SQQW97CDg053d2gnW2lRC3T1n4b1CW4pqzBl6-ZSlBW4j_dFQ3zrtn4W2PwLsL2s0ZkdW992h3X5MsXPlW4CSdMf5JFQmkN116qMzxX6WPN8-ympTH70nJN4nmw-3n0nlDW12GW4N7-C696W25jp-m5vy6yXW7Q1Hy05LVqHlW3MNcgD6VmWxdVxVkYF2QlSnsW7h99YH7K3yzZVWMPMW32tRFDW5ZdYfX24phglMQW0B9kS3Rr34fq1 )\r\n",
            "\r\n",
            "Documentation (https://d2mwGW04.na1.hubspotlinks.com/Ctc/LZ+113/d2mwGW04/VWRpHg2F98cqW7ZfKdQ3B2xm-W5QKV2t4WL9hKN5JQGly3pl2SV1-WJV7CgCyqN7jCY1ghQM2BW6MX9gy1vP4bYW8WDGL86dpR5_W3fDrKj17rs9-W4Gl8V-99mkpTN9ljZ-qZX5j4W6swvKr9knhYjW3BcHkP5lP5j1W2fD6pP7vz5sdN7QVD6Xp1WrGW2R2C-t1h9YK1W6PgtVL4lDtTNW1qvtbl8GBQ1gW6QJFNK8slfnWVS8LDy48Dk8sW7L6dsl2jjDCNN5RMYPCrRqPNW6R5JH317K3kjVCc2rc5RGcchW2468YJ1Hz1nqW11ZMXS846cZQW8Hy3Pb1YcCb-VpyLj_1HFhWlW61-Sf83pkkMy33qs1 )\r\n",
            "\r\n",
            "Explore our Mailosaur guides and API documentation.\r\n",
            "\r\n",
            "Pricing (https://d2mwGW04.na1.hubspotlinks.com/Ctc/LZ+113/d2mwGW04/VWRpHg2F98cqW7ZfKdQ3B2xm-W5QKV2t4WL9hKN5JQGlS3pl37V1-WJV7CgNH-W13S9x92BMgxJW6_VYP36vTPfhVhGq-c37K_yJW8VYpzf4fdCgFW2Y6xyW1LPv2zW57vzb-2-psp4N2cF5QVy6H2RW4RDpSw2P84vHW3zLgCN328fJLV216N26p9qKHN8DqpYphrDY2W61Mmb73j0nwkW10Yvdf4VhQQ9V2MP6S8j98xnW2_h2dX83tph6W1q1HSn1JZsrgW4KmWKj7XqRR1W1BwC-J1GX7dwW4B8yWw4V_MTqVk2D-B3bySZwN1BBpmyCkzjRN3D79Twf5M_XN6Kt9234-glTW58cLs76h2pP3VZfgP46-P0lsW27fgn-7vQlmp31mX1 )\r\n",
            "\r\n",
            "Plans to fit any size of business. No commitments, cancel anytime.\r\n",
            "\r\n",
            "Blogs (https://d2mwGW04.na1.hubspotlinks.com/Ctc/LZ+113/d2mwGW04/VWRpHg2F98cqW7ZfKdQ3B2xm-W5QKV2t4WL9hKN5JQGly3pl2SV1-WJV7CgCpgN9dH2YcnQCG-N6vzwVgk33R8VG9lRf8kWWtFW8stBjX311J1ZW79s3c28BDT9pW8MrjNF9gV_yHN1tnKMYcBKN9W8TX81t3xm0G1TqrMf7D_Sh3W3f4FTZ6pbv57V_KQ7d1bbFXxW4T6sR928ykRYW87tNVc7g3Y0pVkLF3Y5BXZvWW3q9fSH5cv1r2W5-Yky25G5Jq6N2VVP_yNx22wW1hr6jz1f4XlHW3ZXvHZ1ZRYK-MLymLPGg6xKW6fTvKn5dmFmzW7rTwks4g_NKJW1fV-7c4YFR6rW2jPrhC7Jgddq3fmS1 )\r\n",
            "\r\n",
            "Updates, ideas, and ramblings from Mailosaur, the email testing software.\r\n",
            "\r\n",
            "Have any further questions?\r\n",
            "\r\n",
            "Get in touch and let us know how we can help (https://d2mwGW04.na1.hubspotlinks.com/Ctc/LZ+113/d2mwGW04/VWRpHg2F98cqW7ZfKdQ3B2xm-W5QKV2t4WL9hKN5JQGlS3pl37V1-WJV7CgMg3W1J5pfk5pH8tQW65y8bg9gkgY2VCyzC98rWKpTW7Rvhqf6r0PbDW6L_C-t8gkGGYW77DW0-1yd35JW2zZ4l07HWfxMVZzhxp1lVzRcW8sfYSs3RDTthW6My0BP3h6_LvW4_hqq_9gR-z1W3GDNlX38t1c4W902DYj4CzrLXW7gjRj980zLqVW3JvPWX8Yt3_BW6fB8nd8PQb3kW1p89xH3zdy0cW68MXxZ2Z6YMPW1_2GjT5_V9c_W2DRRlx7zJ6JqW5mLPgs8cY4C3W6DxhKk7N1TVrN1kbW_jY4yljW7grgQd4BnBtgW8MlPVW5bzG6gW119QcY8LP9T93hrS1 ) .\r\n",
            "\r\n",
            "Twitter (https://d2mwGW04.na1.hubspotlinks.com/Ctc/LZ+113/d2mwGW04/VWRpHg2F98cqW7ZfKdQ3B2xm-W5QKV2t4WL9hKN5JQGly3pl2SV1-WJV7CgCfdW80jQmj8ZRZG3W3z6qW256gJCvW6PXPkB89BL9tW2nkBpJ1qKy_wW5MnqMS6y04YKW1PB4xM8KQF_7W4cZX5P4khG7FW7MHZyg2scM5NW4fQqC68nvtLPW3v9n1S2SZFwFW52LmkB2zttvWN8-yn5_s2H7tW9bvd1v1d90lTW2fZMdl5tz1CzW86YK4Q7GbTFTW3VyZxL2KPSr3N4LZKSR42QsQW6P_C1F8JCcRhW7qltg91WDrCXW736XP92gvLx2W7VSQp46F37rdW1wJYSX3TgprnW37Ybkt5HrhB0N4xb--jVMcwV32Gm1 )\r\n",
            "\r\n",
            "YouTube (https://d2mwGW04.na1.hubspotlinks.com/Ctc/LZ+113/d2mwGW04/VWRpHg2F98cqW7ZfKdQ3B2xm-W5QKV2t4WL9hKN5JQGm73pl3rV1-WJV7CgL4VW2_R_QP43qlxxN1h0jpFMWvPYW8CQshx82b8y2W2RdN1965YKTyW7Lv1FR7_3fx-W2QKvlw6V8CbNW27xr7-89CSB3W2ZxLm124MkHSW2rV5sT6D2bh3W2D8qkF9fP9sJW2TXC4D4t5FJpW55-fD46_VrC8W24yBJn2Q2QDmW3V7vtL9j2fR8VDgNPC9l9M_RW2PQWkK8j9NHhW7NQ4sG6bp7MCW1zGsVK971yt_W5yy7y27vh-0KW8S4M0V8NpsHnN7fwwxPG0KVrVF3Z_P3rZRBRN48Ckkvmf5g8VjJcf25kY_xnV_kVCm7gZdXlW7mHm5w59-9NTW2ydrhD39PTxfW8K1_W83v9X1R3ntc1 )\r\n",
            "\r\n",
            "Mailosaur Ltd, PO Box 170, Winchester, Hampshire SO24 4BP, United Kingdom\r\n",
            "\r\n",
            "Unsubscribe (https://hs-20078598.s.hubspotemail.net/hs/manage-preferences/unsubscribe-all?languagePreference=en&d=VngbxK72nzT6VW6Wsf43X4SyW4fGBYD3T0pK8W3P3Q7w3ZsjYmW3_fQLS7jMpMwVmWFdB7xlCPXN8Gq3y425zbpW8fPD0J9jF_HJVWzs1_7ZWJLnMXk_7Qbw6CCW5bVrR24qlKrlM9Q2qLB-8_l3mB42&v=3&_hsenc=p2ANqtz-9rOTSsih4HJbD-9yhksyNgAJhDJ7EI0z4Re8DmNbQlyxM2fW2WqAEleBYJ8wkREfdcRibxioG2-HwAiCmM_7ucCbV-HA&_hsmi=222923629 )\r\n",
            "\r\n",
            "Manage preferences (https://hs-20078598.s.hubspotemail.net/hs/manage-preferences/unsubscribe?languagePreference=en&d=VngbxK72nzT6VW6Wsf43X4SyW4fGBYD3T0pK8W3P3Q7w3ZsjYmW3_fQLS7jMpMwVmWFdB7xlCPXN8Gq3y425zbpW8fPD0J9jF_HJVWzs1_7ZWJLnMXk_7Qbw6CCW5bVrR24qlKrlM9Q2qLB-8_l3mB42&v=3&_hsenc=p2ANqtz-9rOTSsih4HJbD-9yhksyNgAJhDJ7EI0z4Re8DmNbQlyxM2fW2WqAEleBYJ8wkREfdcRibxioG2-HwAiCmM_7ucCbV-HA&_hsmi=222923629 )\n",
            "====================================================================================================\n",
            "Subject: Help strengthen the security of your Google Account\n",
            "From: Google <no-reply@accounts.google.com>\n",
            "[image: Google]\n",
            "\n",
            "\n",
            "\n",
            "Add a recovery email\n",
            "\n",
            "\n",
            "demotestemail4@gmail.com\n",
            "\n",
            "\n",
            "\n",
            "Google can use your recovery email to make sure it’s really you if you get\n",
            "locked out of your account or if we notice suspicious activity.\n",
            "Add a recovery email and see other personalized security recommendations in\n",
            "the Security Checkup\n",
            "<https://accounts.google.com/AccountChooser?Email=demotestemail4@gmail.com&continue=https://myaccount.google.com/security-checkup?utm_source%3Dgoogle%26utm_medium%3Demail%26utm_campaign%3Dsap%26aneid%3D4629429626420377538%26sea%3D15%26rfn%3D1675647785884%26anexp%3Dsaprfsm-const--sapef-a13>\n",
            ".\n",
            "Take action\n",
            "<https://accounts.google.com/AccountChooser?Email=demotestemail4@gmail.com&continue=https://myaccount.google.com/security-checkup?utm_source%3Dgoogle%26utm_medium%3Demail%26utm_campaign%3Dsap%26aneid%3D4629429626420377538%26sea%3D15%26rfn%3D1675647785884%26anexp%3Dsaprfsm-const--sapef-a13>\n",
            "You can also go directly to:\n",
            "https://myaccount.google.com/security-checkup\n",
            "You received this email to let you know about important changes to your\n",
            "Google Account and services.\n",
            "© 2023 Google LLC, 1600 Amphitheatre Parkway, Mountain View, CA 94043, USA\n",
            "\n",
            "====================================================================================================\n",
            "Subject: Your trial expires in 4 days\n",
            "From: Mailosaur <hello@mailosaur.com>\n",
            "If you are ready to upgrade click below to choose the right plan for you.\n",
            "\n",
            "Your trial expires in 4 days\n",
            "\n",
            "Hi there,\n",
            "\n",
            "Hopefully by now you have a feel for whether Mailosaur is a good fit for your organisation. If you are ready to upgrade click below to choose the right plan for you.\n",
            "\n",
            "Alternatively, if you have any questions get in touch (https://d2mwGW04.na1.hubspotlinks.com/Ctc/LZ+113/d2mwGW04/VVYH6y6pXrh1N4Svz0-N75z8W7Kkhd54WFVQxN8hWs4_3pl37V1-WJV7CgQY0W24cywz977dnZW84lGZ58J2wWKW6ZXGCG8CDRWQW4kCMSS4rW193Vyd7575xQ3DtW8VF_kf7l-BylW7hzqfr3G9JJCW8T8Txr23M4RQW91kVW884RMYHW4c5vRZ4m9XsBW67hrBb7syTn1W13yHyF5rb9PGW8m8Lh78jdlw4VmjgLZ655VnrW52Y_vL602D9sVLzDWp4rpjLTW3nX3bc3FplpSW2yh32v8qFYRSW5YLkrP2L_YHHW5XGKf77FzN57W1RRZcH2H7m64W4_d-w17zpqKJN29GlJ1yrjl7W5H1zJb6LYPSbW7d3KS1418nqwVcNbnh8Vq3QZ3fkc1 ) and let us know how we can help.\n",
            "\n",
            "Upgrade your plan\n",
            "(https://d2mwGW04.na1.hubspotlinks.com/Ctc/LZ+113/d2mwGW04/VVYH6y6pXrh1N4Svz0-N75z8W7Kkhd54WFVQxN8hWs4_3pl37V1-WJV7CgWgtW51hmtp4sKf-3W5SKvNK6sM9yYW8Zy7tz3gP-8kW1qT7S926G8kqVqbV0M6DXZnZW7jSb9v1YtR48W8Kl7Gn503KRsW59_TnW3G5JGsW7XDB-81y8WJVW8G8Rsb7qh-qQW5C37sf5v7DxVW6bMS523k-pg_W507c8q1ZdhNbW4tbN3F8M02dqW26hC0P6Qf2VJN5j900FY39hyW4Yf9j28HJxnQW3hHGcJ2VVwsCN9hyhYn9Vgf6W55p4wn16frKzW4bZDxQ2BPQDMW6nXWVG1tQ9YLW51h32v2D_xzHN8yVWhjcvfS1W6k0Ln86-5h-bVc7Vz66p9dwv3hsg1 )\n",
            "\n",
            "Documentation (https://d2mwGW04.na1.hubspotlinks.com/Ctc/LZ+113/d2mwGW04/VVYH6y6pXrh1N4Svz0-N75z8W7Kkhd54WFVQxN8hWs4J3pl2SV1-WJV7CgMvKW8HTXMF5xyd6WN37gR0Ch40zNW5QVdZL8j8BlgN7DjslBg6Nh3W2g93S66jdVHtW2fxxxC443djZW75zYqm4MVx_mV8wK6X7rKCT9N8Z4zxBGby6qW7llZNP1HGD4JW5k93003vH5kmW4clMj14myDkGW4MHqS77_D8j0W1S89PH7ZDM_pW7_R3xZ10QJ4hW4ZCjL66ph61xW22mFB52XMQWKW768mX83vGT60W1-PxtP7_cT5JW45LVqx5G4bpMW5vnBlz89Q0lkW34rHM47HPNRMW97hZ_j3BrjfsV3XFmq4pmXhD3bt11 )\n",
            "\n",
            "Explore our Mailosaur guides and API documentation.\n",
            "\n",
            "Pricing (https://d2mwGW04.na1.hubspotlinks.com/Ctc/LZ+113/d2mwGW04/VVYH6y6pXrh1N4Svz0-N75z8W7Kkhd54WFVQxN8hWs4_3pl37V1-WJV7CgMmNW9j4nSz5xhFF6N16j1JZc770qW19zPMl9lkMLdW9gNzSJ5wyYVVW2xNGfr7snXMxW3SYTZ53w8Yr6W5srVhw6l9KHTW8rX1SK2B_mFlVQtdYY78kHQLN16CvPpxPhJBW29H0c58zYvWnW2P2r6L5YT-NmW6w2jVv889FyvW1mMqwP6kJn7_W3r_X_N5d5fghVd9KQ73QcMCpW6DM3hX6rfl49W4W9nKn52BQBXW1ZDpfP79DV3_W6_KT1t8BLcHjW8rRBdM2zV3q-W8-9cqj6Z82_jW3vgzl34n8CpcW45v5h-3ycfBqW2ZydZd6TslJgW917lJr1cr5Lt3pBX1 )\n",
            "\n",
            "Plans to fit any size of business. No commitments, cancel anytime.\n",
            "\n",
            "Blogs (https://d2mwGW04.na1.hubspotlinks.com/Ctc/LZ+113/d2mwGW04/VVYH6y6pXrh1N4Svz0-N75z8W7Kkhd54WFVQxN8hWs4J3pl2SV1-WJV7CgQCkW4qDmGs2KttxqW1CmNnx303kqNW8vKdB370FwYpW6d_p9Y16n79tW1JR0Vg1Zm2JbW74H7wT6t8f5XV95QTl8BK3wkW2g_CVW48FvfDW6cxcDM2RKTTnVzgY1-8YFMH_Mh-TKyyx9LhW6W98kZ5zGWJRW5BQ9Vv2YNwSRW3m-0KJ51kWB2W5wq7gk8Gq4ZxW5R-DY-3VMD4_W2J4B7G6CQt7kW5mNnZJ206-xGN8zMzhx-XGsJW2g2nfD5Hhw_KW4WKVsm1xn693W9hsP_25wnj-rW2SVltf6jvKDFW4DH4Yz2Rm_h-38RV1 )\n",
            "\n",
            "Updates, ideas, and ramblings from Mailosaur, the email testing software.\n",
            "\n",
            "Have any further questions?\n",
            "\n",
            "Get in touch and let us know how we can help (https://d2mwGW04.na1.hubspotlinks.com/Ctc/LZ+113/d2mwGW04/VVYH6y6pXrh1N4Svz0-N75z8W7Kkhd54WFVQxN8hWs4_3pl37V1-WJV7CgQY0W24cywz977dnZW84lGZ58J2wWKW6ZXGCG8CDRWQW4kCMSS4rW193Vyd7575xQ3DtW8VF_kf7l-BylW7hzqfr3G9JJCW8T8Txr23M4RQW91kVW884RMYHW4c5vRZ4m9XsBW67hrBb7syTn1W13yHyF5rb9PGW8m8Lh78jdlw4VmjgLZ655VnrW52Y_vL602D9sVLzDWp4rpjLTW3nX3bc3FplpSW2yh32v8qFYRSW5YLkrP2L_YHHW5XGKf77FzN57W1RRZcH2H7m64W4_d-w17zpqKJN29GlJ1yrjl7W5H1zJb6LYPSbW7d3KS1418nqwVcNbnh8Vq3QZ3fkc1 ) .\n",
            "\n",
            "Twitter (https://d2mwGW04.na1.hubspotlinks.com/Ctc/LZ+113/d2mwGW04/VVYH6y6pXrh1N4Svz0-N75z8W7Kkhd54WFVQxN8hWs4J3pl2SV1-WJV7CgVXbW5H7hCz5rH3M0W2qP-k376BxHXW6zsYJh53TTJCW6tw2TM8Vw4C1W2V-z2f6vnT_pW2T1HnW88YDKMW64g8NK1FT5B_W5dtbPL27z8wSW4bh_l01r1CTgW8JMDt_32vs05VZ8tGG9lLHkSW7Hh_9m5dWLk5W3K5tmq3QS5bNW2wchVg4M6JpXW2X5Lnb93g7rwW5nWP3-3RxtnpW9bd1t82Kgn4KVVZVpq6MSkT9W88pXM12LD5whW36bqNV3SFwRxW47SZBW5tbCcgN25FYR5cvzjwW1ZsqZ76f3fFNN31wGHwMSZ8L3mnh1 )\n",
            "\n",
            "YouTube (https://d2mwGW04.na1.hubspotlinks.com/Ctc/LZ+113/d2mwGW04/VVYH6y6pXrh1N4Svz0-N75z8W7Kkhd54WFVQxN8hWs5h3pl3rV1-WJV7CgSR5W4j_fPz5y4fKnW6Vftx426gfx3W7-CLk56zQbHrW432rNT13p_fGW1RXN7k8hn5BfW6D6KlD6TzJwVW5wsGPw209nq0W1dVC3Q1lrhSfVMvxr1258t4zW8dHVW36VW51dW6p_tq-8xLxfrW52h5T896JH4PW5cvFhg2Ss6XpM_byRF_lb8jN8-PGVrdqPwNVS712J536RZnW2PCK7C3JX-DyW7v1HfX7Vvc4HW3ZNTZl3ZsvkqW1614Q33tQCRJVSKzd-8sTPVGW29Bmdt3BfLhKW6Wbhy28Yh3pBN89ZtKx5DnpHW52MT0m5s1BJhW3fZP698JSk1HMBm_mL4lR2MW5tV7x987qFff3b_W1 )\n",
            "\n",
            "Mailosaur Ltd, PO Box 170, Winchester, Hampshire SO24 4BP, United Kingdom\n",
            "\n",
            "Unsubscribe (https://hs-20078598.s.hubspotemail.net/hs/manage-preferences/unsubscribe-all?languagePreference=en&d=VnfP3472nzT6VW6Wsf43X4SyW4fGBYD3T0pK8W3P3Q7w3ZsjYmW3_fQLS7jMpMvVmWcNX5kqj2DN4Pk8YG25qL_W4Vvw1m4TfcF8W8kPm-F8ghv7VV1yf0N30sQZyW396V355yY664W2GBNZ63KQMnN24G3&v=3&_hsenc=p2ANqtz--BaGSaw9oPfNBB2b-Wq6-USyJwS5DijzwsTI84Cs9Tl9RTd7JPisZTSwAUfYdFh9GaVAcBSLZPaRvnTGqPFDETuq7fgw&_hsmi=222923372 )\n",
            "\n",
            "Manage preferences (https://hs-20078598.s.hubspotemail.net/hs/manage-preferences/unsubscribe?languagePreference=en&d=VnfP3472nzT6VW6Wsf43X4SyW4fGBYD3T0pK8W3P3Q7w3ZsjYmW3_fQLS7jMpMvVmWcNX5kqj2DN4Pk8YG25qL_W4Vvw1m4TfcF8W8kPm-F8ghv7VV1yf0N30sQZyW396V355yY664W2GBNZ63KQMnN24G3&v=3&_hsenc=p2ANqtz--BaGSaw9oPfNBB2b-Wq6-USyJwS5DijzwsTI84Cs9Tl9RTd7JPisZTSwAUfYdFh9GaVAcBSLZPaRvnTGqPFDETuq7fgw&_hsmi=222923372 )\n",
            "====================================================================================================\n",
            "Subject: Want to stay in touch?\n",
            "From: Mailosaur <hello@mailosaur.com>\n",
            "Follow us on social media to hear the latest updates from Mailosaur.\n",
            "\n",
            "Want to stay in touch?\n",
            "\n",
            " For the latest updates, or if you want to share your customer experience, follow us on Twitter and join the Mailosaur community!\n",
            "\n",
            "Follow us on Twitter\n",
            "(https://d2mwGW04.na1.hubspotlinks.com/Ctc/LZ+113/d2mwGW04/VVXQ256-HvFgVD1mCc8-PfzgW6N147h4WzBkxKqQG3pl2SV1-WJV7CgVYxW2nTqLR6R2wgtVnhfXH6F4zgMW6ZrSgK6S0HSMN3cntkhS7PNRW87BdK05fNGbBVnFbGv2xZY4NW6LMfj85j-yLMW39CH2F3QDnS_W7ykNQZ9lFCR4W3Q9CGt74_4YyW3H_G2S3TG4HCV2cZzc34HtpYW36zCrT5YQSlRN4sJYHYgZPSXW5jzhvn6xVVwWW3JLyLJ5gMvDZW1H3J8B5PdXYbW5L2MVk692wfyW5vL0wC352mwFW20hDL-8ll2brW82g6F_9k1J24W4BZPJG4gQCr_W33x8w87b1nKBW1T87lR71QZ1x3kFC1 )\n",
            "\n",
            "Documentation (https://d2mwGW04.na1.hubspotlinks.com/Ctc/LZ+113/d2mwGW04/VVXQ256-HvFgVD1mCc8-PfzgW6N147h4WzBkxKqQG3pl2SV1-WJV7CgzK3W1YG1Rw2MDrJ7VDF7B367rKyDW6P54bR7HghJDW29YC8q1HvX-ZW58gJK26X7_JlW34f2zr7dWkBfN50lFLg61pjqW3r2yHZ8s4XJ0W2vM05X28zJRfW15k6922tyjbbW61WHSy3h8mTtW1n4qnJ3M30CSW2VjDzZ3DDgbdN7GG0KpggdKqW1np8Y_3p4Q0bN1mg9-FKF5PMW7zk59f5JPTbHW606ymh10L3sHW3zcRN651HMd2W5341528ThbWdW7rRK0Z6pYm-FW8dQrnV1p4rhhW3tST-w57q29sW73x_m83g8Hd939931 )\n",
            "\n",
            "Explore our Mailosaur guides and API documentation.\n",
            "\n",
            "Pricing (https://d2mwGW04.na1.hubspotlinks.com/Ctc/LZ+113/d2mwGW04/VVXQ256-HvFgVD1mCc8-PfzgW6N147h4WzBkxKqQG3pl2SV1-WJV7CgJzRN3DgMjNhzmNvW5XR5vm952dqbVBsL5K1pP9m3N7JX3PcvTT6jVHRhnn7VtmNfW900z-g8qW8P9VLQB7T5Zlk_NW6Scc-p1Wg2XnW30s1HR8sMYhXVClRNr1sTV2DW2h1Dxb93gl5kN2lgHD23ggv3W471sTR4mzTw3W3WH_Zn7prwXrW1k21kj74b51VW4Yc5yh4rDd1LN2_Jp-k6RNMKW7ZRFx22QJ__YVDd-j526D5tGW7HfV0J4hhB7QVXN0QR6JHPqFW1wK1-C9dQKX0N6H2MFwYNFtRW2PH-2p38_vLl336L1 )\n",
            "\n",
            "Plans to fit any size of business. No commitments, cancel anytime.\n",
            "\n",
            "Blogs (https://d2mwGW04.na1.hubspotlinks.com/Ctc/LZ+113/d2mwGW04/VVXQ256-HvFgVD1mCc8-PfzgW6N147h4WzBkxKqQG3pl2SV1-WJV7CgH9QW4qQWMJ3lQ5nlW79ZB5B8cpZrPVwjy9n1xj9kjVDF_wY7rpsjXW6WmSzB8vcZxJW1VzQ-g64BTgYW1Rvd1286_G44W17STXW6Y6rY9W4F3mXY3fXSLMW8YYrvR2mpJs_W8GqWmw4KcpZ1Dgl1Q-BWLWN93dJgZ1_3KhW4ZVNXh7KD9y2W7WXZ433q56nkW4r2cxX8bVw8NW86Z_sC5KPs3bW8TMXpY37j9MCV5Myy78hrl0tVg_Yr13fMP-8W1-9nvR4kMYH_W3x4-FT1XLL7vW3Vw2V47mK7VTW21JFGJ6B-gH03mGR1 )\n",
            "\n",
            "Updates, ideas, and ramblings from Mailosaur, the email testing software.\n",
            "\n",
            "Have any further questions?\n",
            "\n",
            "Get in touch and let us know how we can help (https://d2mwGW04.na1.hubspotlinks.com/Ctc/LZ+113/d2mwGW04/VVXQ256-HvFgVD1mCc8-PfzgW6N147h4WzBkxKqQG3pl2SV1-WJV7CgYZ8W6yxyRJ68y-j6W7CY1J264nQFrW2bTtDs3M275jW4s46J567cNw7Vv91Ds6P7CplW4-Vx5f2bJnYrW17DkgB4rftFSV-nCJC4wntLRW8J7_2Z9jlyFnW50V8hp6BjvFxN5q3Ch28xfCtN2byPB7cf3zWW509Hsd7-kQbJV-5gWM6htQXFW31pQk03wr-MYW5mQTKj7KGpPCW36wltl4K36F0W2f9YJ55-dlhqW6KFFQF3H774xW91fFND2GvPxMV6LCSw7m4TdhW126GM15q1WN4W1Q7j1J5v4WNlN8Kc1-jld8V9323K1 ) .\n",
            "\n",
            "Twitter (https://d2mwGW04.na1.hubspotlinks.com/Ctc/LZ+113/d2mwGW04/VVXQ256-HvFgVD1mCc8-PfzgW6N147h4WzBkxKqQG3pl2SV1-WJV7CgVYxW2nTqLR6R2wgtVnhfXH6F4zgMW6ZrSgK6S0HSMN3cntkhS7PNRW87BdK05fNGbBVnFbGv2xZY4NW6LMfj85j-yLMW39CH2F3QDnS_W7ykNQZ9lFCR4W3Q9CGt74_4YyW3H_G2S3TG4HCV2cZzc34HtpYW36zCrT5YQSlRN4sJYHYgZPSXW5jzhvn6xVVwWW3JLyLJ5gMvDZW1H3J8B5PdXYbW5L2MVk692wfyW5vL0wC352mwFW20hDL-8ll2brW82g6F_9k1J24W4BZPJG4gQCr_W33x8w87b1nKBW1T87lR71QZ1x3kFC1 )\n",
            "\n",
            "YouTube (https://d2mwGW04.na1.hubspotlinks.com/Ctc/LZ+113/d2mwGW04/VVXQ256-HvFgVD1mCc8-PfzgW6N147h4WzBkxKqRf3pl3rV1-WJV7CgMPcW5TlJ418TfM6YW5lc3zk1vbhktVc4c6-1hFC7SW3xRq0L8CtGJQVldpT47Mp0ZCW1tS17w6tnrdwW48xLV31MmNCCVBS2_r3pgrwhN1jQ7sr2mjpPW1L_Rk02cyf9gW8_CGjd1m99G8V-LFdq6bkf61W2YTBj84zNLT3W3sjHvX5hwdWrW2-rTJ678NGkdW5sNvr23zwYq-W3Q20Np4v3WYtW7XzsG12mmsZgW4YC48f9cB1XPW4GpgMr7PH9tYW1Jxq_h47KWGGMc4MDXrdSf3W68wWw-1R1d_8W78vJWg8WP_d2W7HX00x6X3SNBW5f_zVB1tm8MwW1glqBn2TV6KGW3y4Cw028Y7b_3mdf1 )\n",
            "\n",
            "Mailosaur Ltd, PO Box 170, Winchester, Hampshire SO24 4BP, United Kingdom\n",
            "\n",
            "Unsubscribe (https://hs-20078598.s.hubspotemail.net/hs/manage-preferences/unsubscribe-all?languagePreference=en&d=VnfP3472nzT6VW6Wsf43X4SyW4fGBYD3T0pK8W3P3Q7w3ZsjYmW3_fQLS7jMpMvVmWcNr7xqj0QN9jRGjW25rPnW6Pxc958Scm8HW4K0pH88djYFJV1yf0N30_zKdW71RKFT88bXhsW90M_wD4sQJXm1H3&v=3&_hsenc=p2ANqtz-_iUDDHLskj2eE0rnkqjEB6yaPDPxRkVwIhdQNPIGtfu23rQq2kSIchkNum0uOV11xZtS4zzP3UA62aO-camg3BC0uUHg&_hsmi=222923083 )\n",
            "\n",
            "Manage preferences (https://hs-20078598.s.hubspotemail.net/hs/manage-preferences/unsubscribe?languagePreference=en&d=VnfP3472nzT6VW6Wsf43X4SyW4fGBYD3T0pK8W3P3Q7w3ZsjYmW3_fQLS7jMpMvVmWcNr7xqj0QN9jRGjW25rPnW6Pxc958Scm8HW4K0pH88djYFJV1yf0N30_zKdW71RKFT88bXhsW90M_wD4sQJXm1H3&v=3&_hsenc=p2ANqtz-_iUDDHLskj2eE0rnkqjEB6yaPDPxRkVwIhdQNPIGtfu23rQq2kSIchkNum0uOV11xZtS4zzP3UA62aO-camg3BC0uUHg&_hsmi=222923083 )\n",
            "====================================================================================================\n",
            "Subject: Read about our customers’ experiences\n",
            "From: Mailosaur <hello@mailosaur.com>\n",
            "Hear from QAs and Developers about how they are using Mailosaur to build amazing software.\n",
            "\n",
            "Hi there,\n",
            "\n",
            "Mailosaur processes millions of emails per day and is trusted by over 1000 businesses globally to help them test their email and SMS communication.\n",
            "\n",
            " If you want to hear about our customers’ experiences and how QAs, Developers and other users are using Mailosaur to build high-quality products, applications and websites, click the link below.\n",
            "\n",
            "View Customer Stories\n",
            "(https://d2mwGW04.na1.hubspotlinks.com/Ctc/LZ+113/d2mwGW04/VVZNtV5XCPPlW7Jyyqc7_g-vrW67tPB74WvhShN5XFYmZ3pl37V1-WJV7CgY3vW5n5kGQ1qshK6W5x_v9L3ZNKTBW1GhGzM4l-SbxW3L5bfW1n5-RlW4XhmdS6lK6H_W70kZWm1xl72ZN16W4w2dn69MW47pWs43cz1phW6XwBFc4D_7R_W5YnxnV5t6LgHW27pXLR69x1kSW6pqKf91bFDFxW4_8rz-7NvtrrW3X9Djd4WMcQnW3j13BD8x8Zf5W5zFTlp2f0SmzW9ldQbq1cVX8mW2NS9rb7DBPnHW6KvtVP7dk2cdW97pJ7y15SCsYW3-YCpZ1ShDCjW2J0DWX654RT1W4sB-Yy3lrG_YW1ZR50D35H50_W743C_72fk5m7N1cb_N5DPryZ32TY1 )\n",
            "\n",
            "Documentation (https://d2mwGW04.na1.hubspotlinks.com/Ctc/LZ+113/d2mwGW04/VVZNtV5XCPPlW7Jyyqc7_g-vrW67tPB74WvhShN5XFYmG3pl2SV1-WJV7CgGkDW3nj7tm4nNjGhW5Ct-GY65jksCVsJ_Jp7CNKh9W7SlD2c6mx_W9N14fQN4qcTn9W3V0WH-3cQKhRW1Hkknd5DvzwkW4mLcgV3-cswbW2_N7cj6MVM2lW6DSGD92VRfg_W4Zv0M085DQWLN63j2XBw81HhV7yqzv2f6qKhW4GC-zL4tHsvcW5JDTMl8zd9znW5jPKL21tNy54W4T9BsY7xvVtYN7zFQ0dJm9BRW7768Y67Y9H2QW7Td3Bs97qZ0VW1pg5rF2qTvklVst87x8SN0d0W4SYxTJ8f11N3W4TbG0b8S5hf63prm1 )\n",
            "\n",
            "Explore our Mailosaur guides and API documentation.\n",
            "\n",
            "Pricing (https://d2mwGW04.na1.hubspotlinks.com/Ctc/LZ+113/d2mwGW04/VVZNtV5XCPPlW7Jyyqc7_g-vrW67tPB74WvhShN5XFYmG3pl2SV1-WJV7CgBv2W6VrkY06wpQlQW7Hrxh91rhgv2W2RbJTr7YDHLXW25cx9w82QTqWN8LcQ1vJ5h8MW8mj1R65n8dqkW5LYFl87XZVLxW6dTJTc5NYrqyW1jHhSq7f_1HLW77Gc886MftJ_W1W6Kfs3M7Cl8W6dvlxn6kqH6wW4Cj2Vb3ffZd7W4cfjhn3dGM9jW4HMV-Z6tjlbhW6-J7gc5xl3-0VSrtx26Xv7QyW1Mt9HG94rb-GVFz6d_69ty3HF3-tLylpXLxW5jH5nv6jcLDvW7n6DcL4CfVXKW2nzHsw5_ywtvW7dZ9sc40yGqY35qx1 )\n",
            "\n",
            "Plans to fit any size of business. No commitments, cancel anytime.\n",
            "\n",
            "Blogs (https://d2mwGW04.na1.hubspotlinks.com/Ctc/LZ+113/d2mwGW04/VVZNtV5XCPPlW7Jyyqc7_g-vrW67tPB74WvhShN5XFYmG3pl2SV1-WJV7CgSQcW292zkv8NcrkQW1pyCyZ1bFX8mW32Wj2x4hpHbBW8JSbd76mW_sCN4npq86yzfYkVLp8VR9htC7gW44zkBg11s0W3W4nrbnk6F3gRxW15Wyt092JDH1W4FfWD23sPbGGW7W2n_68YbG5LV2M6L91YJ1ByW3xwtV_7MFf-zW3xTM9r4sBtWVW5Cbp_84QVsD6W90BjJC97nSC2W5mt8bC1hD-nBW2Lg5Gx76ZrxLW2m1rFN38VBv8W37k4574txT3gW5bd84C5Flxr5W7jvFgs6RkXwGW3hJq2k8nGSrHW7qHv6d33_30m38FN1 )\n",
            "\n",
            "Updates, ideas, and ramblings from Mailosaur, the email testing software.\n",
            "\n",
            "Have any further questions?\n",
            "\n",
            "Get in touch and let us know how we can help (https://d2mwGW04.na1.hubspotlinks.com/Ctc/LZ+113/d2mwGW04/VVZNtV5XCPPlW7Jyyqc7_g-vrW67tPB74WvhShN5XFYmG3pl2SV1-WJV7CgYb5W8TdwC826ckFZN4wRb5ZzgQYNW1bmYcX5JwmsdW34jd2c1rG6ZWMDMtFw8SnGVW909ptp2p95Z1W8HWyk18BWMHSW3S04kb8pGSymW3gGxCz1JJgSQW4qKmG34XSlymW5V9-w57Q1cpdW71ZYMd4GCnHdW6rtBFb2Cf-znW1rb57-3WVVhPN3dTqTv-ZV-fV7_Cld1DHkC3W89cKs53v07MtVlW_JT1Pp_JpW63d6hM65FJRLW4Mmw9p98kyHmW8nFYbb8mXJwkW4MdZS06QvrZrW2JkwXj7DxwQ-W4LsqB74D7NCg39141 ) .\n",
            "\n",
            "Twitter (https://d2mwGW04.na1.hubspotlinks.com/Ctc/LZ+113/d2mwGW04/VVZNtV5XCPPlW7Jyyqc7_g-vrW67tPB74WvhShN5XFYmG3pl2SV1-WJV7CgzKcW73wzP41hKzpMVWF5sN2jpBPVW6nPGX21xTVhWW2Gdv5r32zNLtW8Wpl_72Lw2tjTJYW76yPsHKW49Snf38Ld11vW2KcVqj3XlfG8W8TCKw53xyhPVW421xsG22ZrL2W9k48n_5RhPCkW25mzG37Mf8vDW84sx2r5MnCWzW1_4xKP1VwY3wW4WZK1F3F6MjPVrqfcs3jwNsvW3m_nzq7rbGYnW3tRQ4M74CFyYW3dLYvK6K8WxlW6DflSn8XrrBVW8XVH9j43QsNnVPcS-d615721W6NsnYQ3rMhrwW8t4R5V7D6kqZ3kp-1 )\n",
            "\n",
            "YouTube (https://d2mwGW04.na1.hubspotlinks.com/Ctc/LZ+113/d2mwGW04/VVZNtV5XCPPlW7Jyyqc7_g-vrW67tPB74WvhShN5XFYnf3pl3rV1-WJV7CgHvKW2p-ScB51KxcjW6pvppb422NgkVdqDhS3rlQLgW1-yBGc83l0Z2W7Q13Ps1bWfPnW6NLQCf1VH409W4-dsYZ1fMKXSW7T6G6J8qch7RVt_V5G6tYt1QW6_ZxD56MK660W2HGDhv5Jj9cgW7MJWXz2h9B9zW3_t8nD4_xvNRN4_2532DTcy6W7bR3WR8n3M3HW37rVhC3nRwDlW7NTWpb1Hk3bnW3FkGDr6g0C8YW5MKStp6WYPK3VvrMzp7k2YDKW1VYCqZ86DyRfW4BCMMx8tC-v8W6qQpr71tJPTLM-YH3RzL7XLW8FkTcp47vrP-W6BYSQm6Zr0kxW7cx_8d7-kgR-W24RR-98B_6zR3fTr1 )\n",
            "\n",
            "Mailosaur Ltd, PO Box 170, Winchester, Hampshire SO24 4BP, United Kingdom\n",
            "\n",
            "Unsubscribe (https://hs-20078598.s.hubspotemail.net/hs/manage-preferences/unsubscribe-all?languagePreference=en&d=VnfP3472nzT6VW6Wsf43X4SyW4fGBYD3T0pK8W3P3Q7w3ZsjYmW3_fQLS7jMpMvVmWcN67hPB-pN9c2VJX25yBrW9gWVMM57Hs4WW5Z1mhG8blp7wV1yf0N30sC1FW5Ty7cQ5wPjhpW8CRjWZ73DZQH23s3&v=3&_hsenc=p2ANqtz-9HkNDQ27p24-w4O0_jHFtiM1FLttkY0RueMmsvTR-cL1Nd02OEjjWMQxvM0_F-qMncYqSbgGTq-gXu38wdwtr9yDxujA&_hsmi=222923847 )\n",
            "\n",
            "Manage preferences (https://hs-20078598.s.hubspotemail.net/hs/manage-preferences/unsubscribe?languagePreference=en&d=VnfP3472nzT6VW6Wsf43X4SyW4fGBYD3T0pK8W3P3Q7w3ZsjYmW3_fQLS7jMpMvVmWcN67hPB-pN9c2VJX25yBrW9gWVMM57Hs4WW5Z1mhG8blp7wV1yf0N30sC1FW5Ty7cQ5wPjhpW8CRjWZ73DZQH23s3&v=3&_hsenc=p2ANqtz-9HkNDQ27p24-w4O0_jHFtiM1FLttkY0RueMmsvTR-cL1Nd02OEjjWMQxvM0_F-qMncYqSbgGTq-gXu38wdwtr9yDxujA&_hsmi=222923847 )\n",
            "====================================================================================================\n",
            "Subject: Need help getting started?\n",
            "From: Mailosaur <hello@mailosaur.com>\n",
            "Explore our guides and API documentation to learn how to test email and SMS with Mailosaur.\n",
            "\n",
            "Hi there,\n",
            "\n",
            "If you need help running your first email or SMS test, or need to better understand a specific feature or tool, we have plenty of support documentation and insightful articles to suit all users, that can help you get started or answer any questions you might have.\n",
            "\n",
            " Our Documentation (https://d2mwGW04.na1.hubspotlinks.com/Ctc/LZ+113/d2mwGW04/VWBZl497v_tkN9bHCXC2wqDTW7swsJQ4Wq0m4N6WXHZG3pl2SV1-WJV7CgVKmN3CM5Rx42DrpN4XX-49H3vWsW1YMyX66WNkKcW8GnTng8JbJdfW7ymfvS1Jpk_mW72q0Xd5SwTDhVlzVlL3dzkwsW3LMYKP240S7FW1BDYMD9bTXMhW8BkNWD3S3LzTW8J0mdg3n7Ts-W663JLx2VW_4lW8M5_xj4qHsQPW47V5GF3xqhGcW3KKp033Q_hbYW95bYby1q10JwW6vmXsV6wqNS_W75YXq42ZCG3HW87MSRK2fxkcMW5S3g_b6fTJv4N4K1JPShNgkHN89xK7hlRM_sVghJ1_45RZ04W3MGcZ11fTld8317Q1 ) page has plenty of guides and API documentation covering all areas of our platform. Or you can check out the Blog (https://d2mwGW04.na1.hubspotlinks.com/Ctc/LZ+113/d2mwGW04/VWBZl497v_tkN9bHCXC2wqDTW7swsJQ4Wq0m4N6WXHZG3pl2SV1-WJV7CgFKzT4XxP3QHj3jW7JGh8L7fxLWtW1ZGY-24X3wWcW5HbhN23cyGxkW1Z0vjt1ZDDzHW4CSkbP6HJnhlW8y_p239dwggbW4zF5CQ2lxTzfW8s192t6D28KzW7rr6-43ZS0N8W5SSwmH4rygQhW6S9K_76BBl0nW4R7wtW3kw2NnW7vlZrZ78vHtwW725g041gFF82W6VTTgp2MSF60W6HxbLv3Qxz4QN5Mq3gnC091vW8BLNmz8Vp-DXW6p3SFc62kh7TW7ylklV4QqBt-N1z5vtHBHpNQW4ZLNwP2lQmQ_W4Y5dF16p83tW3g-Y1 ) page on our website for updates and ideas from Mailosaur.\n",
            "\n",
            "  If you have any other questions and wish to get in touch you can contact us via support@mailosaur.com (mailto:support@mailosaur.com) or the link below.\n",
            "\n",
            "Get in touch\n",
            "(https://d2mwGW04.na1.hubspotlinks.com/Ctc/LZ+113/d2mwGW04/VWBZl497v_tkN9bHCXC2wqDTW7swsJQ4Wq0m4N6WXHZG3pl2SV1-WJV7CgJ6CW5SMhyX4-cBZvVPyKqm61XTL-W8rmgTP7ck18VW5rhRb27BJjwdW7Ph0B040HQjSN1jFH9z2tc2bW2XVyKV6Yn1dTW5ZCj3X6q-bQQW2HdRNY1VbKmFN1CYZSLBBg7HW7cBVX98YfhdLN25lvDjPScflW4RGv_-48gWlhW1ZGt1b1lWhD_W2tdQYS1lTyB0W37NV-P2tddlmW4Qs58t3PdSMLW5k047W6rPMNgN5FRltpZx0wSN5Vss6Wz7W27W1S4K377JXKmXW2CxZ0f4-_RDDW7bQqgP6BktYvW3n-kP65TYz2X33dl1 )\n",
            "\n",
            "Documentation (https://d2mwGW04.na1.hubspotlinks.com/Ctc/LZ+113/d2mwGW04/VWBZl497v_tkN9bHCXC2wqDTW7swsJQ4Wq0m4N6WXHZG3pl2SV1-WJV7CgVKmN3CM5Rx42DrpN4XX-49H3vWsW1YMyX66WNkKcW8GnTng8JbJdfW7ymfvS1Jpk_mW72q0Xd5SwTDhVlzVlL3dzkwsW3LMYKP240S7FW1BDYMD9bTXMhW8BkNWD3S3LzTW8J0mdg3n7Ts-W663JLx2VW_4lW8M5_xj4qHsQPW47V5GF3xqhGcW3KKp033Q_hbYW95bYby1q10JwW6vmXsV6wqNS_W75YXq42ZCG3HW87MSRK2fxkcMW5S3g_b6fTJv4N4K1JPShNgkHN89xK7hlRM_sVghJ1_45RZ04W3MGcZ11fTld8317Q1 )\n",
            "\n",
            "Explore our Mailosaur guides and API documentation.\n",
            "\n",
            "Pricing (https://d2mwGW04.na1.hubspotlinks.com/Ctc/LZ+113/d2mwGW04/VWBZl497v_tkN9bHCXC2wqDTW7swsJQ4Wq0m4N6WXHZG3pl2SV1-WJV7CgGQqW1DsS_G4gmpkNW80Gvf15Px2JYN32yKC7Rj9s8W4MJK-x995Jj5W1S932_8tgKwjVTwvfP2nTPblW3KKKVl8npnN3W4N4f0V75Vnn9W4fpxp389f6NPW3wXfYv6wm06YW2y4zW072B9FpW2rdhmN1lSb74VK2cl23FrPHGN7y_LlCLkT_0W2__mHZ491k03W994w6D8MxdwqW2KKNjC72Cx21VdcBHw90cbr7W63ML4Y63wq_pW5RQ-p85N_C8ZW96yplz8_9N7pW7CtcLg4qYNbDW2XGlcW5m0b5kW4Fvw8y8705st3kC31 )\n",
            "\n",
            "Plans to fit any size of business. No commitments, cancel anytime.\n",
            "\n",
            "Blogs (https://d2mwGW04.na1.hubspotlinks.com/Ctc/LZ+113/d2mwGW04/VWBZl497v_tkN9bHCXC2wqDTW7swsJQ4Wq0m4N6WXHZG3pl2SV1-WJV7CgFKzT4XxP3QHj3jW7JGh8L7fxLWtW1ZGY-24X3wWcW5HbhN23cyGxkW1Z0vjt1ZDDzHW4CSkbP6HJnhlW8y_p239dwggbW4zF5CQ2lxTzfW8s192t6D28KzW7rr6-43ZS0N8W5SSwmH4rygQhW6S9K_76BBl0nW4R7wtW3kw2NnW7vlZrZ78vHtwW725g041gFF82W6VTTgp2MSF60W6HxbLv3Qxz4QN5Mq3gnC091vW8BLNmz8Vp-DXW6p3SFc62kh7TW7ylklV4QqBt-N1z5vtHBHpNQW4ZLNwP2lQmQ_W4Y5dF16p83tW3g-Y1 )\n",
            "\n",
            "Updates, ideas, and ramblings from Mailosaur, the email testing software.\n",
            "\n",
            "Have any further questions?\n",
            "\n",
            "Get in touch and let us know how we can help (https://d2mwGW04.na1.hubspotlinks.com/Ctc/LZ+113/d2mwGW04/VWBZl497v_tkN9bHCXC2wqDTW7swsJQ4Wq0m4N6WXHZG3pl2SV1-WJV7CgJ6CW5SMhyX4-cBZvVPyKqm61XTL-W8rmgTP7ck18VW5rhRb27BJjwdW7Ph0B040HQjSN1jFH9z2tc2bW2XVyKV6Yn1dTW5ZCj3X6q-bQQW2HdRNY1VbKmFN1CYZSLBBg7HW7cBVX98YfhdLN25lvDjPScflW4RGv_-48gWlhW1ZGt1b1lWhD_W2tdQYS1lTyB0W37NV-P2tddlmW4Qs58t3PdSMLW5k047W6rPMNgN5FRltpZx0wSN5Vss6Wz7W27W1S4K377JXKmXW2CxZ0f4-_RDDW7bQqgP6BktYvW3n-kP65TYz2X33dl1 ) .\n",
            "\n",
            "Twitter (https://d2mwGW04.na1.hubspotlinks.com/Ctc/LZ+113/d2mwGW04/VWBZl497v_tkN9bHCXC2wqDTW7swsJQ4Wq0m4N6WXHZG3pl2SV1-WJV7CgKPYW3nY-Fy44Jj6xW9jvJxY512mNxW68VzmW4twsJdW8d71Xj7rDSRhW65pYjw165GmYW2PpWzp43bpQVW9bKP6Y7v5lD3W3177ZG5smkj8W24Zzsh698j0pW76yNnv3m01xMW96f2MX47g9ddW4mhYc48QF5-5W48WhNR4SXH6RW13lvx97-Q_lCW1TVBBr3jqbkhVRQCQg2T_580W7rH6LM2GBj1fW4RjZ066DvTnRW6zQC451Qj0dPW3Kk-Jb3nCr49VLPFWV2WT2H0W4q2py67ZyFBzW4k3_Zn2y3K25W1h6qwm7Zm07l33mh1 )\n",
            "\n",
            "YouTube (https://d2mwGW04.na1.hubspotlinks.com/Ctc/LZ+113/d2mwGW04/VWBZl497v_tkN9bHCXC2wqDTW7swsJQ4Wq0m4N6WXH-f3pl3rV1-WJV7CgLP-W6q63cX4gGWXrW5XWPt74V36spW8k6QfN2g-H7kW48srWh4KGNpNW6l5RDD5HnF3gW99VYKl7KvZLtW8PwJRM4rGn0DW93d24l6YdSjGW2cHwNh7J13FBW6LPWwc2bb3fNW2-0Zzl6RbbqqW5FB-rl4P3WklW1W01hx8FJT_YN8HrH8pN3zZ3W8JZnWd2T0LdMW1BcLnn6xkgk9W4D3Snp7DtGRsW4VWF348YFCzLW8-sBb22DXpp6W8pQQDV730g2MW2dCDMg1kXptcW5K5GQk3LHLDNW67Rnkk5Chqs9VSyZkD3-dwDSW3H1T-j3tNQwlW1xDcr01sj4DvN46WmG6f-34MVtX4Fh5VBCG53fyz1 )\n",
            "\n",
            "Mailosaur Ltd, PO Box 170, Winchester, Hampshire SO24 4BP, United Kingdom\n",
            "\n",
            "Unsubscribe (https://hs-20078598.s.hubspotemail.net/hs/manage-preferences/unsubscribe-all?languagePreference=en&d=VngbxK72nzT6VW6Wsf43X4SyW4fGBYD3T0pK8W3P3Q7w3ZsjYmW3_fQLS7jMpMwVmWFfq7nypfbN72tPFg25D9_W6m9Sf58yj2JwVWR31C5fVrxqMXk_7QbvXk6W1tCYsL8gpZq9W14X1hq5XZRph38nH2&v=3&_hsenc=p2ANqtz-8o30uAahV8weoRHHC-q8vFf9wUdz9jhtlNuihHMMoRsxDMxbRazCf2mnX4hhLcEfk6BmiLnR57jeAC0KePyor0n5ji5w&_hsmi=222923188 )\n",
            "\n",
            "Manage preferences (https://hs-20078598.s.hubspotemail.net/hs/manage-preferences/unsubscribe?languagePreference=en&d=VngbxK72nzT6VW6Wsf43X4SyW4fGBYD3T0pK8W3P3Q7w3ZsjYmW3_fQLS7jMpMwVmWFfq7nypfbN72tPFg25D9_W6m9Sf58yj2JwVWR31C5fVrxqMXk_7QbvXk6W1tCYsL8gpZq9W14X1hq5XZRph38nH2&v=3&_hsenc=p2ANqtz-8o30uAahV8weoRHHC-q8vFf9wUdz9jhtlNuihHMMoRsxDMxbRazCf2mnX4hhLcEfk6BmiLnR57jeAC0KePyor0n5ji5w&_hsmi=222923188 )\n",
            "====================================================================================================\n",
            "Subject: Getting to know Mailosaur\n",
            "From: Mailosaur <hello@mailosaur.com>\n",
            "Hopefully you’re set up and ready to start testing your emails and SMS. These are some of our key features to help you get started.\n",
            "\n",
            "Solutions for every testing scenario\n",
            "\n",
            "Hi there,\n",
            "\n",
            "Hopefully you’re set up and ready to start testing your emails and SMS. Take a look at some of our key features that could help you on your way.\n",
            "\n",
            "phone-bulk-solid (https://d2mwGW04.na1.hubspotlinks.com/Ctc/LZ+113/d2mwGW04/MW0tYSXQM7yW7NCkBZ19F8PRW89-nNw4WhBb_N5XFYmG3pl2SV1-WJV7CgZ4yN8KwZhp2VM1RVPl2lF5GNZ75W6jpRFF4WhCb_W8hw_Vn3N0SgZW53rr2F3KCwYYW8_vVdt6nxhx4N3183JjBKVZxW2fymvR6Lpz8kW6YwDCX8Sm-XrN7KsLzNM1nfdW3X_ksP6tQpK5W2qP7707LRnZWW8ns89K6r6DDxW6TrNnb5L25gGW6f4k4n6JNrNRN51Yz8j8b69YW8xby5y8BLYFXW7gwk-y1d-TwqW8ygrjT1Zf2l2W63Vf668XSCktVhHt3C7htq5XW3-_tjz1KyLY-W4hnblT424Mx5W578Wpk4Nq6QB3c291 )\n",
            "\n",
            "SMS testing\n",
            "\n",
            "Create end-to-end tests that cover identity verification, alerting, promotional messages and more. Available on Business, Professional and Enterprise plans.\n",
            "\n",
            "mail-bulk-solid (https://d2mwGW04.na1.hubspotlinks.com/Ctc/LZ+113/d2mwGW04/MW0tYSXQM7yW7NCkBZ19F8PRW89-nNw4WhBb_N5XFYmG3pl2SV1-WJV7CgZ4yN8KwZhp2VM1RVPl2lF5GNZ75W6jpRFF4WhCb_W8hw_Vn3N0SgZW53rr2F3KCwYYW8_vVdt6nxhx4N3183JjBKVZxW2fymvR6Lpz8kW6YwDCX8Sm-XrN7KsLzNM1nfdW3X_ksP6tQpK5W2qP7707LRnZWW8ns89K6r6DDxW6TrNnb5L25gGW6f4k4n6JNrNRN51Yz8j8b69YW8xby5y8BLYFXW7gwk-y1d-TwqW8ygrjT1Zf2l2W63Vf668XSCktVhHt3C7htq5XW3-_tjz1KyLY-W4hnblT424Mx5W578Wpk4Nq6QB3c291 )\n",
            "\n",
            "Email previews\n",
            "\n",
            "See how your email renders across different email clients and devices, ensuring the best version of your email is landing in your customers’ inboxes.\n",
            "\n",
            "building-bulk-solid (https://d2mwGW04.na1.hubspotlinks.com/Ctc/LZ+113/d2mwGW04/MW0tYSXQM7yW7NCkBZ19F8PRW89-nNw4WhBb_N5XFYmG3pl2SV1-WJV7CgZ4yN8KwZhp2VM1RVPl2lF5GNZ75W6jpRFF4WhCb_W8hw_Vn3N0SgZW53rr2F3KCwYYW8_vVdt6nxhx4N3183JjBKVZxW2fymvR6Lpz8kW6YwDCX8Sm-XrN7KsLzNM1nfdW3X_ksP6tQpK5W2qP7707LRnZWW8ns89K6r6DDxW6TrNnb5L25gGW6f4k4n6JNrNRN51Yz8j8b69YW8xby5y8BLYFXW7gwk-y1d-TwqW8ygrjT1Zf2l2W63Vf668XSCktVhHt3C7htq5XW3-_tjz1KyLY-W4hnblT424Mx5W578Wpk4Nq6QB3c291 )\n",
            "\n",
            "Custom domains\n",
            "\n",
            "Create unlimited, recognisable and easily distinguishable test email addresses for your brand.\n",
            "\n",
            "server-bulk-solid (https://d2mwGW04.na1.hubspotlinks.com/Ctc/LZ+113/d2mwGW04/MW0tYSXQM7yW7NCkBZ19F8PRW89-nNw4WhBb_N5XFYmG3pl2SV1-WJV7CgZ4yN8KwZhp2VM1RVPl2lF5GNZ75W6jpRFF4WhCb_W8hw_Vn3N0SgZW53rr2F3KCwYYW8_vVdt6nxhx4N3183JjBKVZxW2fymvR6Lpz8kW6YwDCX8Sm-XrN7KsLzNM1nfdW3X_ksP6tQpK5W2qP7707LRnZWW8ns89K6r6DDxW6TrNnb5L25gGW6f4k4n6JNrNRN51Yz8j8b69YW8xby5y8BLYFXW7gwk-y1d-TwqW8ygrjT1Zf2l2W63Vf668XSCktVhHt3C7htq5XW3-_tjz1KyLY-W4hnblT424Mx5W578Wpk4Nq6QB3c291 )\n",
            "\n",
            "Virtual SMTP servers\n",
            "\n",
            "A catch-all email server for your testing environment, so that your customers do not accidentally receive one of your test emails.\n",
            "\n",
            "Click below to get started and begin getting the most out of your email and SMS automation.\n",
            "\n",
            "If you have any questions get in touch (https://d2mwGW04.na1.hubspotlinks.com/Ctc/LZ+113/d2mwGW04/MW0tYSXQM7yW7NCkBZ19F8PRW89-nNw4WhBb_N5XFYmG3pl2SV1-WJV7CgY9KW1pZSNG8N19-bW500bZF5JZV0HW57W-P63gkxm5W5hLb8F7bMdCwW86zmYk6CWsTVW7ZW0r93v0C-SN57DdFthJHnKN8B7X8fjxlb8W5f0gv-6NFqt2N4Rd047gFFGNW14qNrT8Hd9_0W7DW-134GNnHsW416vS58NfcD7W8W1BD494cmb7W4KPzr01SLK4SW1Zr8Dn32_MTfW6LdX9T2dg8FbW25cd812PXW-zW7Nlyxv6rnv-zW8f4ZMV5ScVwjW8f0CZn1m5908N5PGzTGj-ScnN1z1czvhJ7CBVP-xqZ8lkHJM313_1 ) and let us know how we can help.\n",
            "\n",
            "Go to your account\n",
            "(https://d2mwGW04.na1.hubspotlinks.com/Ctc/LZ+113/d2mwGW04/MW0tYSXQM7yW7NCkBZ19F8PRW89-nNw4WhBb_N5XFYmZ3pl37V1-WJV7CgZSZW4d113k5fhwK5W6mpYWh9fcVX2N1kBpWYWPqR-N62TQj-FrLGbW1S4kxP7G9XTCW7SxByY1LvxJhW7VSRCc8RwTlbW2Zn44M1dgV7RN1W71bs7ZYh4W6C4Plf91v4RcW5cKyV92N9bv7W81_NC02rYJnnW3g7D8d4tHM-2W2tYR0V39CkV_W5BqR2h5Bf4Y5W3L0lPh4bK546W3PlqRf2SByqSW8SrqwK5_5nFFW6Gkx503rTzHKW1rGgjN5QYMPpW7w65Ln4XWLffVfPJNs8Vx_hLW6TP5cW3Hlv6CVxQszC6vT-CcTqnZh2XzmtcW3rSNH15Ng6Mc353h1 )\n",
            "\n",
            "Documentation (https://d2mwGW04.na1.hubspotlinks.com/Ctc/LZ+113/d2mwGW04/MW0tYSXQM7yW7NCkBZ19F8PRW89-nNw4WhBb_N5XFYmG3pl2SV1-WJV7CgXQKW27nZLd5NDYtJW2Jr4Np3mmVhKW5xrS9J5_C0S0N88YPnHzS2cfW1WCq1_1B3KX0W8LP9z533wzBjN7BNJ_4hwygHW29SH0h6F65s3W2FfL-h9cpTVZW6L8W5H3XLlQtVh0Qbb5MjJ4ZW1vwMLd2PbkJCN4wgQqcCBqWfW4sLg-c7wwWzjW2_XDQw83xNvdN5zX6jrZmjGjW6sfJX96GRQwcVgMxYW1WKFQNW3mbBxf90D6VCVBJ8bB9cFNclVYXPPs5ZJjlSVjdPPk2lFN39W3ZfYTd4Np131W6WbT065tWkNF2rX1 )\n",
            "\n",
            "Explore our Mailosaur guides and API documentation.\n",
            "\n",
            "Pricing (https://d2mwGW04.na1.hubspotlinks.com/Ctc/LZ+113/d2mwGW04/MW0tYSXQM7yW7NCkBZ19F8PRW89-nNw4WhBb_N5XFYmG3pl2SV1-WJV7CgNp3W66rbVj30wnhxW3JkWtk7kT2rPW6XhDC799nG9GW6mRcZs8tFZ3_W6xF-gR21wHjzW6c2GfS3sGq2qW4G12rP2-Zx6VW9g77ND4Dzx_JW80J23x9h3jJWW6RFcT13C9fKyW7myJGW6_B1RXW1-cWZC61pRlcW7GhBHw50dzYFW2kwGDY5q_mh8W5QmHjL39yR23W1s9py-407Qd6W6WYVM25hmkNvW1JSBfZ3n_0mZW86pXK05YBScrW2708zF6xWSVtN8msnXbcTWc7W4k27CZ4VszGDW5kPVGs6Qc9hXW5SkKvZ8b6bLq39xq1 )\n",
            "\n",
            "Plans to fit any size of business. No commitments, cancel anytime.\n",
            "\n",
            "Blogs (https://d2mwGW04.na1.hubspotlinks.com/Ctc/LZ+113/d2mwGW04/MW0tYSXQM7yW7NCkBZ19F8PRW89-nNw4WhBb_N5XFYmG3pl2SV1-WJV7CgXPxW903yvy7Jh20nW1GtHgv4Kgg0DW2Y7rVd74RtvHW4sT5By4HccW7W7FJ9bl3yH-X9VcHkBf2Dr1ZXW31x-Ry2pncd5W91-0cc1BKtqpN4g4HjP8TJMdW900fj21_dH43W7mTgbN6Z0h7qW684Z7-6nXPJjW73MBCB8vYmqyW9hj6M96wXwWZW6H8LJX8f8CdgW65mYSP1HHLMyW4BvsdQ7L7P4XW30RdBp4VGPXjW6wvwkl4_B_BLW3fKxnH5C2YBnVKCdrJ7RGvxQW89hmwf7-bmjYW532D0W7S7_XsW3Cqxj77z_MyW31cl1 )\n",
            "\n",
            "Updates, ideas, and ramblings from Mailosaur, the email testing software.\n",
            "\n",
            "Have any further questions?\n",
            "\n",
            "Get in touch and let us know how we can help (https://d2mwGW04.na1.hubspotlinks.com/Ctc/LZ+113/d2mwGW04/MW0tYSXQM7yW7NCkBZ19F8PRW89-nNw4WhBb_N5XFYmG3pl2SV1-WJV7CgY9KW1pZSNG8N19-bW500bZF5JZV0HW57W-P63gkxm5W5hLb8F7bMdCwW86zmYk6CWsTVW7ZW0r93v0C-SN57DdFthJHnKN8B7X8fjxlb8W5f0gv-6NFqt2N4Rd047gFFGNW14qNrT8Hd9_0W7DW-134GNnHsW416vS58NfcD7W8W1BD494cmb7W4KPzr01SLK4SW1Zr8Dn32_MTfW6LdX9T2dg8FbW25cd812PXW-zW7Nlyxv6rnv-zW8f4ZMV5ScVwjW8f0CZn1m5908N5PGzTGj-ScnN1z1czvhJ7CBVP-xqZ8lkHJM313_1 ) .\n",
            "\n",
            "Twitter (https://d2mwGW04.na1.hubspotlinks.com/Ctc/LZ+113/d2mwGW04/MW0tYSXQM7yW7NCkBZ19F8PRW89-nNw4WhBb_N5XFYmG3pl2SV1-WJV7CgJHFW5CRpMR66j742W4S31d177mSxWW5lHVtk3-8m-vW1dkvJM5cskGHW7H5dKj4G_hxtVdnYGp5M__qHW7RWFN05Tgbh4W19Gr9V1JhWpkW2KGThQ4kc4w2W7zcTBK4pKNSgW73-xH07Zzpz8W2L3mPs3d0RN_W805gs-3Nd7c_N7Nf2ktqGTX8W63wCqT7xgThyW1gVL4R34MPQ2VMSm0r6FhSTrW4W9zY95bYy3dW388sQw3pM6-jW4mj0P271RdwbW24fQlb8cKzJFN6C_WpBFwYpyW5vpdW_5ZygcZN2FC4hJ5klxx3fW41 )\n",
            "\n",
            "YouTube (https://d2mwGW04.na1.hubspotlinks.com/Ctc/LZ+113/d2mwGW04/MW0tYSXQM7yW7NCkBZ19F8PRW89-nNw4WhBb_N5XFYnf3pl3rV1-WJV7CgLR0W3-g1rG2GHL8LW1gW3ln44lP4-N93l-btnXt4CW5S25SD3gHZdWW6R-jSv8QPJB9W6ppHPb5LJl_mW9gfG8w4B74rwW7DJy9r4xFy7LW7SJzBW8NHttHW2wWhvl99mSNCW86m1191ldbKlW2RBpxy5mFRzhW6YFX062rTXwSN9kZkk4hFvPPN90YSfY4V0TbW92vZff3qfk-WW67VVvz5HsYl4N8DM6KV6wgbrW2sslM38jNm5_W1cLPsV3kPq_hW1LN4Zp8L2w68W43K-m62mxsH5W2dDM_11rvsYDW170GfK1_XW49W4Btf7w5WGprFW7GxMvm1y6yhxW5JSWyQ1QDtyfW1XgJdC7MK3-P2T61 )\n",
            "\n",
            "Mailosaur Ltd, PO Box 170, Winchester, Hampshire SO24 4BP, United Kingdom\n",
            "\n",
            "Unsubscribe (https://hs-20078598.s.hubspotemail.net/hs/manage-preferences/unsubscribe-all?languagePreference=en&d=VnfP3472nzT6VW6Wsf43X4SyW4fGBYD3T0pK8W3P3Q7w3ZsjYmW3_fQLS7jMpMvVmWcP85kWpTRN60T7_V25yNfW6w6XlZ5SHjwqW5Y-1R788mSFkV1yf0N31pb70N6VNVtjFDtgDVVrQMG6JmMfR23j3&v=3&_hsenc=p2ANqtz-95QcpQuTo4stI55krQt8Qe4pibYQk-BfeFZJBkw-HOQN9bLdiYrlioEyb2UQLJu8APLzUkVY8KrOGiThmpLWT546IPZw&_hsmi=222923623 )\n",
            "\n",
            "Manage preferences (https://hs-20078598.s.hubspotemail.net/hs/manage-preferences/unsubscribe?languagePreference=en&d=VnfP3472nzT6VW6Wsf43X4SyW4fGBYD3T0pK8W3P3Q7w3ZsjYmW3_fQLS7jMpMvVmWcP85kWpTRN60T7_V25yNfW6w6XlZ5SHjwqW5Y-1R788mSFkV1yf0N31pb70N6VNVtjFDtgDVVrQMG6JmMfR23j3&v=3&_hsenc=p2ANqtz-95QcpQuTo4stI55krQt8Qe4pibYQk-BfeFZJBkw-HOQN9bLdiYrlioEyb2UQLJu8APLzUkVY8KrOGiThmpLWT546IPZw&_hsmi=222923623 )\n",
            "====================================================================================================\n",
            "Subject: Welcome to Mailosaur\n",
            "From: Mailosaur <hello@mailosaur.com>\n",
            "Begin getting the most out of your email and SMS automation. Begin getting the most out of your email and SMS automation.\n",
            "\n",
            "Welcome to Mailosaur!\n",
            "\n",
            "Click below to get started and begin getting the most out of your email and SMS automation.\n",
            "\n",
            "If you have any questions get in touch (https://d2mwGW04.na1.hubspotlinks.com/Ctc/LZ+113/d2mwGW04/VWFgMJ2FW2DGVhbwQG55fbybW5r_q0D4WfrsPN5SJSmh3pl2SV1-WJV7CgZJrW10RYGb3byXQcW2P6Rvm8Z88gKW8_5Ycz85yJlVW4KC3FD1FZgn2W65MXQ64K-MB1W7PzXfN5DgXdCW2SH2yS13q7vmVcvP7v8cDk8sW3jjXST7pZR_TW17vfMz5VfpNCW2MW4LK6gPzCGW1RKvc82Mb40qW98v9mC3bgd2GW21DGzP4XHK6nW8NmnR14FBYJGVNqb9w3xFpjCW2xVzzm1zdZ_nW70vQly7Qp25-W90VJcd2rPknHV1WCJ58JQ4T3W8TmXSN1B7sQgW1QW7Ms6gNzZXW93nWHh8d1vP6W6RgKdL5MKgmN3kXX1 ) and let us know how we can help.\n",
            "\n",
            "Get started\n",
            "(https://d2mwGW04.na1.hubspotlinks.com/Ctc/LZ+113/d2mwGW04/VWFgMJ2FW2DGVhbwQG55fbybW5r_q0D4WfrsPN5SJSmB3pl37V1-WJV7CgD_mW1ywWT_5tWSQQW9dV6wT3bz1tqW8mN-zl79-VMPV2WdZv2lwqFMW7M_n973NJy9SW8sdsfz1qpGRdW7w643R43M1g5N7bR6gdPpZrTW8yVm062bwkTZW7cL9M06mB7qZVnxrLS8txm2lW1y67ky8bGllyVBH8pp5vpwpSVgF4615QFJRzW8rWDwm1ymj1rN840xmDq7Q8fW8Qc-F94KhlmTW90Cywh6PP5gNW7h0sBC3bg9y-W4QnKVR82_yQsW24zT6R5DjWJHW3FrbSX62d8t9W1XphJK1YkYlCW1nJz5b5q0LQsW91-pTr6KBwtZW77b0py6wpwnh3lQs1 )\n",
            "\n",
            "Documentation (https://d2mwGW04.na1.hubspotlinks.com/Ctc/LZ+113/d2mwGW04/VWFgMJ2FW2DGVhbwQG55fbybW5r_q0D4WfrsPN5SJSmh3pl2SV1-WJV7CgB2dW7rfDPw82ZXncW2JKZ_83_pCzQW81x4Lp871X2yW2GHHfS2rjdnmN95zcWfxBysBW6t4fyv3z4krpW9ccxcG8-HpN-W56cdf-2skJXTW53ld1G7w6vZMW7VPrxM8BmS2YW7vv9Fn1HF0wfVtpRD41fPHMVW7m3QQK5xBx_DW8FctjR54P1vPW1c0K9c57z7njW94bcjl4sLy4qW91g6j580tKVkW77P18T66W08mVv-9Fw2sm5vXW5hPPZL4stc_4W6_g5WL4ypj8qN5lJBXL-RyJFW92nvL83cs-NCVX-t9h75WdPr37hF1 )\n",
            "\n",
            "Explore our Mailosaur guides and API documentation.\n",
            "\n",
            "Pricing (https://d2mwGW04.na1.hubspotlinks.com/Ctc/LZ+113/d2mwGW04/VWFgMJ2FW2DGVhbwQG55fbybW5r_q0D4WfrsPN5SJSmh3pl2SV1-WJV7CgQ-JW7yBsj28YWyLdW1Htt8l4Svr8PW1WYS5z8mB3F9W65LnsJ2Tn5K_W54VVn01z0YrcW5c44mB1lTkLyW1Vtk8l1MsnwFV683GB6lgBRrN2-6K5h69BFzW5YT6J6563qwmW4_F5ql4jK4RTW76YdLc25PsGsN3Ync2GHJl_FW5tbdv96rBzF8W6-VMNc9lB9BXN24TH_ynNbSmW3wgZ-n3mLb3nM6j9cpHrQN2W3C2ngc5dklNZVwpC04416rb5W1t4z6v25G2J7W3XkX8C1Zc29TW59dsl75-dQ0_W4Dn-nQ3bbq6J3q3Y1 )\n",
            "\n",
            "Plans to fit any size of business. No commitments, cancel anytime.\n",
            "\n",
            "Blogs (https://d2mwGW04.na1.hubspotlinks.com/Ctc/LZ+113/d2mwGW04/VWFgMJ2FW2DGVhbwQG55fbybW5r_q0D4WfrsPN5SJSmh3pl2SV1-WJV7Cg-w-W5_W6HT2XcdCZW98JLPw2JN-WsW7MPhSY10glqrW1P5jyy4Gn5dWW43GLtm91J-dVN1spPr02TzVXW7rYQby4CTbNsW7nYZnb4L9rSYW34hJMS7GXWW9W4nDQpX53lT5pW8tplq778X61zW4Vt3GK1YT3NsW7ln1Yj7TBWVXW6_v2VY38RgZkW968F4V80GDYSW9gQBQw6dSzyDV1BMTD6v40PhW1mCr_h2Wjz3MW4NM4Mb8ZPW06W9gvtXV5HHf6kW97P08x8mjyMSMhk4BSVFw6FW8xzNgl6QC5PmW83-80z6f5dBT3l7-1 )\n",
            "\n",
            "Updates, ideas, and ramblings from Mailosaur, the email testing software.\n",
            "\n",
            "Have any further questions?\n",
            "\n",
            "Get in touch and let us know how we can help (https://d2mwGW04.na1.hubspotlinks.com/Ctc/LZ+113/d2mwGW04/VWFgMJ2FW2DGVhbwQG55fbybW5r_q0D4WfrsPN5SJSmh3pl2SV1-WJV7CgZJrW10RYGb3byXQcW2P6Rvm8Z88gKW8_5Ycz85yJlVW4KC3FD1FZgn2W65MXQ64K-MB1W7PzXfN5DgXdCW2SH2yS13q7vmVcvP7v8cDk8sW3jjXST7pZR_TW17vfMz5VfpNCW2MW4LK6gPzCGW1RKvc82Mb40qW98v9mC3bgd2GW21DGzP4XHK6nW8NmnR14FBYJGVNqb9w3xFpjCW2xVzzm1zdZ_nW70vQly7Qp25-W90VJcd2rPknHV1WCJ58JQ4T3W8TmXSN1B7sQgW1QW7Ms6gNzZXW93nWHh8d1vP6W6RgKdL5MKgmN3kXX1 ) .\n",
            "\n",
            "Twitter (https://d2mwGW04.na1.hubspotlinks.com/Ctc/LZ+113/d2mwGW04/VWFgMJ2FW2DGVhbwQG55fbybW5r_q0D4WfrsPN5SJSmh3pl2SV1-WJV7CgPThW6Q2nbl8PqWG_W8XyrKD6V1W2ZW1G0Cs_389VBmW1RyJfJ17_HZqN9ct9nrFzkp6N1jP1VgdxDD1W5gBg3782cbMWW1c79RG8GMZ8wW6R5NCr8hClYKVTZg_n38XyyBW37Ct-z5tVM-KN1kSgD-mPP2PW6PP3W-2sfW63W34j0BR6f_XfNN6JQ3RLgYnWYW4WdfZD4372CZW89Fzff6H3mtmVcGtC88lxYwfW3MXy0L8bG8CNN5q545kqCLhvW2vwZ5435VGDjW78bRVB2gq0z_W5cbkY16Jj2BvW1Lcx4V2GTY6X39W91 )\n",
            "\n",
            "YouTube (https://d2mwGW04.na1.hubspotlinks.com/Ctc/LZ+113/d2mwGW04/VWFgMJ2FW2DGVhbwQG55fbybW5r_q0D4WfrsPN5SJSmV3pl3rV1-WJV7CgMKTW1z3qBd7DHc43W2GT2Kf98WN6dW2FRQSJ5jhDkHW7jfdlJ341rSQW2K9Wqb6GhzsyW8LmJZL2Fg6jdW6NWQhR4G2D-VW84kgQX7QcsYqW7XL0294lMSc7V3h6sR7nL3L6W6RxNTK15sgb4W7Vlm9W2hZyZVW1gnZ6F5PV99DVRpQ525qnJsRW8nLx541nC7mJW9l84Qk8JPcHWW4ldyYC1ZKyjgW6yjwbw3DD-B4W5Zy7lp8CNC0mW3p_Ywv8SdKnBW1_02S_7kwS0FW3NkBDK2VRQmdW527Nrp6qN9zkW5XvHCV3s6NZFF85Sw8FPqJWW7d0wWk7ty0xQW3HW4Xp4TqF5qW3cqbv21kw6rj3mx71 )\n",
            "\n",
            "Mailosaur Ltd, PO Box 170, Winchester, Hampshire SO24 4BP, United Kingdom\n",
            "\n",
            "Unsubscribe (https://hs-20078598.s.hubspotemail.net/hs/manage-preferences/unsubscribe-all?languagePreference=en&d=VngbxK72nzT6VW6Wsf43X4SyW4fGBYD3T0pK8W3P3Q7w3ZsjYmW3_fQLS7jMpMwVmWFdp8S3M9tN6w1zCZ25q_HW6FRfVQ5fjRMXVWC3vr8Bqkp0MXk_7Qbw88bN5JNpJTR5R4mW5lNSTT7hp7sL36r62&v=3&_hsenc=p2ANqtz-8U7-7lv5gFnc7ZikWK56Q4WdegBbb8mb9OxSievXDR8HWgVRWzDl3erqybxqBNP4D4ZiQouiBOK5mEHI-vFe5vyHUtmA&_hsmi=222922993 )\n",
            "\n",
            "Manage preferences (https://hs-20078598.s.hubspotemail.net/hs/manage-preferences/unsubscribe?languagePreference=en&d=VngbxK72nzT6VW6Wsf43X4SyW4fGBYD3T0pK8W3P3Q7w3ZsjYmW3_fQLS7jMpMwVmWFdp8S3M9tN6w1zCZ25q_HW6FRfVQ5fjRMXVWC3vr8Bqkp0MXk_7Qbw88bN5JNpJTR5R4mW5lNSTT7hp7sL36r62&v=3&_hsenc=p2ANqtz-8U7-7lv5gFnc7ZikWK56Q4WdegBbb8mb9OxSievXDR8HWgVRWzDl3erqybxqBNP4D4ZiQouiBOK5mEHI-vFe5vyHUtmA&_hsmi=222922993 )\n",
            "====================================================================================================\n",
            "Subject: Example message\n",
            "From: 1u0mtfsV@8byfvbb9.mailosaur.net\n",
            "\n",
            "9b7546a541ab380cac91f2ae09cde6fd.png\n",
            "====================================================================================================\n"
          ]
        },
        {
          "output_type": "execute_result",
          "data": {
            "text/plain": [
              "('BYE', [b'LOGOUT Requested'])"
            ]
          },
          "metadata": {},
          "execution_count": 3
        }
      ],
      "source": [
        "from typing_extensions import Text\n",
        "import imaplib\n",
        "import email\n",
        "import webbrowser\n",
        "import os\n",
        "\n",
        "# account credentials\n",
        "user = 'demotestemail4@gmail.com'\n",
        "password = 'eecljdmtlffdjray'\n",
        "\n",
        "# use your email provider's IMAP server\n",
        "imap_server = 'imap.gmail.com'\n",
        "\n",
        "def clean(text):\n",
        "    # clean text for creating a folder\n",
        "    return \"\".join(c if c.isalnum() else \"_\" for c in text)\n",
        "\n",
        "# create an IMAP4 class with SSL \n",
        "imap = imaplib.IMAP4_SSL(imap_server)\n",
        "\n",
        "# authenticate\n",
        "imap.login(user, password)\n",
        "\n",
        "status, messages = imap.select(\"INBOX\")\n",
        "# number of top emails to fetch\n",
        "N = 10\n",
        "# total number of emails\n",
        "messages = int(messages[0])\n",
        "text = []\n",
        "attachment = []\n",
        "\n",
        "for i in range(messages, messages-N, -1):\n",
        "    # fetch the email message by ID\n",
        "    res, msg = imap.fetch(str(i), \"(RFC822)\")\n",
        "    for response in msg:\n",
        "        if isinstance(response, tuple):\n",
        "            # parse a bytes email into a message object\n",
        "            msg = email.message_from_bytes(response[1])\n",
        "            # decode the email subject\n",
        "            subject, encoding = email.header.decode_header(msg[\"Subject\"])[0]\n",
        "            if isinstance(subject, bytes):\n",
        "                # if it's a bytes, decode to str\n",
        "                subject = subject.decode(encoding)\n",
        "            # decode email sender\n",
        "            From, encoding = email.header.decode_header(msg.get(\"From\"))[0]\n",
        "            if isinstance(From, bytes):\n",
        "                From = From.decode(encoding)\n",
        "            print(\"Subject:\", subject)\n",
        "            print(\"From:\", From)\n",
        "            # if the email message is multipart\n",
        "            if msg.is_multipart():\n",
        "                # iterate over email parts\n",
        "                for part in msg.walk():\n",
        "                    # extract content type of email\n",
        "                    content_type = part.get_content_type()\n",
        "                    content_disposition = str(part.get(\"Content-Disposition\"))\n",
        "                    try:\n",
        "                        # get the email body\n",
        "                        body = part.get_payload(decode=True).decode()\n",
        "                    except:\n",
        "                        pass\n",
        "                    if content_type == \"text/plain\" and \"attachment\" not in content_disposition:\n",
        "                        # print text/plain emails and skip attachments\n",
        "                        print(body)\n",
        "                        text.append(body)\n",
        "                    elif \"attachment\" in content_disposition:\n",
        "                        # get file attachment\n",
        "                        filename = part.get_filename()\n",
        "                        print(filename)\n",
        "                        attachment.append(filename)\n",
        "                        if filename:\n",
        "                            folder_name = clean(subject)\n",
        "                            if not os.path.isdir(folder_name):\n",
        "                                # make a folder for this email (named after the subject)\n",
        "                                os.mkdir(folder_name)\n",
        "                            filepath = os.path.join(folder_name, filename)\n",
        "                            # download attachment and save it\n",
        "                            open(filepath, \"wb\").write(part.get_payload(decode=True))\n",
        "            else:\n",
        "                # extract content type of email\n",
        "                content_type = msg.get_content_type()\n",
        "                # get the email body\n",
        "                body = msg.get_payload(decode=True).decode()\n",
        "                if content_type == \"text/plain\":\n",
        "                    # print only text email parts\n",
        "                    print(body)\n",
        "                    text.append(body)\n",
        "            if content_type == \"text/html\":\n",
        "                # if it's HTML, create a new HTML file and open it in browser\n",
        "                folder_name = clean(subject)\n",
        "                if not os.path.isdir(folder_name):\n",
        "                    # make a folder for this email (named after the subject)\n",
        "                    os.mkdir(folder_name)\n",
        "                filename = \"index.html\"\n",
        "                filepath = os.path.join(folder_name, filename)\n",
        "                # write the file\n",
        "                open(filepath, \"w\").write(body)\n",
        "                # open in the default browser\n",
        "                webbrowser.open(filepath)\n",
        "            print(\"=\"*100)\n",
        "# close the connection and logout\n",
        "imap.close()\n",
        "imap.logout()"
      ]
    },
    {
      "cell_type": "code",
      "execution_count": null,
      "metadata": {
        "colab": {
          "base_uri": "https://localhost:8080/"
        },
        "id": "AHwIYXyZ9k4Q",
        "outputId": "ee6a6be4-dd62-4cf8-cd91-9fe32a031876"
      },
      "outputs": [
        {
          "output_type": "stream",
          "name": "stdout",
          "text": [
            "1\n"
          ]
        }
      ],
      "source": [
        "print(len(attachment))"
      ]
    },
    {
      "cell_type": "code",
      "source": [
        "len(text)"
      ],
      "metadata": {
        "colab": {
          "base_uri": "https://localhost:8080/"
        },
        "id": "9Yyj9PxOKa1Z",
        "outputId": "ea83d705-8ac5-47ac-cb23-929e392a7fb8"
      },
      "execution_count": null,
      "outputs": [
        {
          "output_type": "execute_result",
          "data": {
            "text/plain": [
              "10"
            ]
          },
          "metadata": {},
          "execution_count": 5
        }
      ]
    },
    {
      "cell_type": "markdown",
      "metadata": {
        "id": "79fQOGFr1xME"
      },
      "source": [
        "# Neural networks"
      ]
    },
    {
      "cell_type": "code",
      "execution_count": null,
      "metadata": {
        "id": "An5qHkLgtqxf",
        "colab": {
          "base_uri": "https://localhost:8080/"
        },
        "outputId": "675f24a0-246a-482a-dfe4-d3cb3e7d48d4"
      },
      "outputs": [
        {
          "output_type": "stream",
          "name": "stderr",
          "text": [
            "[nltk_data] Downloading package punkt to /root/nltk_data...\n",
            "[nltk_data]   Unzipping tokenizers/punkt.zip.\n",
            "[nltk_data] Downloading package stopwords to /root/nltk_data...\n",
            "[nltk_data]   Unzipping corpora/stopwords.zip.\n"
          ]
        },
        {
          "output_type": "execute_result",
          "data": {
            "text/plain": [
              "True"
            ]
          },
          "metadata": {},
          "execution_count": 6
        }
      ],
      "source": [
        "# import necessary libraries\n",
        "\n",
        "import tensorflow\n",
        "import keras\n",
        "import nltk\n",
        "import numpy as np\n",
        "nltk.download('punkt')\n",
        "nltk.download('stopwords')"
      ]
    },
    {
      "cell_type": "code",
      "execution_count": null,
      "metadata": {
        "colab": {
          "base_uri": "https://localhost:8080/",
          "height": 73
        },
        "id": "nHXhPONHxvQs",
        "outputId": "3bdeaa1d-95dc-432a-8d1b-b0e37b2d37d7"
      },
      "outputs": [
        {
          "output_type": "display_data",
          "data": {
            "text/plain": [
              "<IPython.core.display.HTML object>"
            ],
            "text/html": [
              "\n",
              "     <input type=\"file\" id=\"files-0cd959a2-d184-439a-92af-5ddd5fd3c9c3\" name=\"files[]\" multiple disabled\n",
              "        style=\"border:none\" />\n",
              "     <output id=\"result-0cd959a2-d184-439a-92af-5ddd5fd3c9c3\">\n",
              "      Upload widget is only available when the cell has been executed in the\n",
              "      current browser session. Please rerun this cell to enable.\n",
              "      </output>\n",
              "      <script>// Copyright 2017 Google LLC\n",
              "//\n",
              "// Licensed under the Apache License, Version 2.0 (the \"License\");\n",
              "// you may not use this file except in compliance with the License.\n",
              "// You may obtain a copy of the License at\n",
              "//\n",
              "//      http://www.apache.org/licenses/LICENSE-2.0\n",
              "//\n",
              "// Unless required by applicable law or agreed to in writing, software\n",
              "// distributed under the License is distributed on an \"AS IS\" BASIS,\n",
              "// WITHOUT WARRANTIES OR CONDITIONS OF ANY KIND, either express or implied.\n",
              "// See the License for the specific language governing permissions and\n",
              "// limitations under the License.\n",
              "\n",
              "/**\n",
              " * @fileoverview Helpers for google.colab Python module.\n",
              " */\n",
              "(function(scope) {\n",
              "function span(text, styleAttributes = {}) {\n",
              "  const element = document.createElement('span');\n",
              "  element.textContent = text;\n",
              "  for (const key of Object.keys(styleAttributes)) {\n",
              "    element.style[key] = styleAttributes[key];\n",
              "  }\n",
              "  return element;\n",
              "}\n",
              "\n",
              "// Max number of bytes which will be uploaded at a time.\n",
              "const MAX_PAYLOAD_SIZE = 100 * 1024;\n",
              "\n",
              "function _uploadFiles(inputId, outputId) {\n",
              "  const steps = uploadFilesStep(inputId, outputId);\n",
              "  const outputElement = document.getElementById(outputId);\n",
              "  // Cache steps on the outputElement to make it available for the next call\n",
              "  // to uploadFilesContinue from Python.\n",
              "  outputElement.steps = steps;\n",
              "\n",
              "  return _uploadFilesContinue(outputId);\n",
              "}\n",
              "\n",
              "// This is roughly an async generator (not supported in the browser yet),\n",
              "// where there are multiple asynchronous steps and the Python side is going\n",
              "// to poll for completion of each step.\n",
              "// This uses a Promise to block the python side on completion of each step,\n",
              "// then passes the result of the previous step as the input to the next step.\n",
              "function _uploadFilesContinue(outputId) {\n",
              "  const outputElement = document.getElementById(outputId);\n",
              "  const steps = outputElement.steps;\n",
              "\n",
              "  const next = steps.next(outputElement.lastPromiseValue);\n",
              "  return Promise.resolve(next.value.promise).then((value) => {\n",
              "    // Cache the last promise value to make it available to the next\n",
              "    // step of the generator.\n",
              "    outputElement.lastPromiseValue = value;\n",
              "    return next.value.response;\n",
              "  });\n",
              "}\n",
              "\n",
              "/**\n",
              " * Generator function which is called between each async step of the upload\n",
              " * process.\n",
              " * @param {string} inputId Element ID of the input file picker element.\n",
              " * @param {string} outputId Element ID of the output display.\n",
              " * @return {!Iterable<!Object>} Iterable of next steps.\n",
              " */\n",
              "function* uploadFilesStep(inputId, outputId) {\n",
              "  const inputElement = document.getElementById(inputId);\n",
              "  inputElement.disabled = false;\n",
              "\n",
              "  const outputElement = document.getElementById(outputId);\n",
              "  outputElement.innerHTML = '';\n",
              "\n",
              "  const pickedPromise = new Promise((resolve) => {\n",
              "    inputElement.addEventListener('change', (e) => {\n",
              "      resolve(e.target.files);\n",
              "    });\n",
              "  });\n",
              "\n",
              "  const cancel = document.createElement('button');\n",
              "  inputElement.parentElement.appendChild(cancel);\n",
              "  cancel.textContent = 'Cancel upload';\n",
              "  const cancelPromise = new Promise((resolve) => {\n",
              "    cancel.onclick = () => {\n",
              "      resolve(null);\n",
              "    };\n",
              "  });\n",
              "\n",
              "  // Wait for the user to pick the files.\n",
              "  const files = yield {\n",
              "    promise: Promise.race([pickedPromise, cancelPromise]),\n",
              "    response: {\n",
              "      action: 'starting',\n",
              "    }\n",
              "  };\n",
              "\n",
              "  cancel.remove();\n",
              "\n",
              "  // Disable the input element since further picks are not allowed.\n",
              "  inputElement.disabled = true;\n",
              "\n",
              "  if (!files) {\n",
              "    return {\n",
              "      response: {\n",
              "        action: 'complete',\n",
              "      }\n",
              "    };\n",
              "  }\n",
              "\n",
              "  for (const file of files) {\n",
              "    const li = document.createElement('li');\n",
              "    li.append(span(file.name, {fontWeight: 'bold'}));\n",
              "    li.append(span(\n",
              "        `(${file.type || 'n/a'}) - ${file.size} bytes, ` +\n",
              "        `last modified: ${\n",
              "            file.lastModifiedDate ? file.lastModifiedDate.toLocaleDateString() :\n",
              "                                    'n/a'} - `));\n",
              "    const percent = span('0% done');\n",
              "    li.appendChild(percent);\n",
              "\n",
              "    outputElement.appendChild(li);\n",
              "\n",
              "    const fileDataPromise = new Promise((resolve) => {\n",
              "      const reader = new FileReader();\n",
              "      reader.onload = (e) => {\n",
              "        resolve(e.target.result);\n",
              "      };\n",
              "      reader.readAsArrayBuffer(file);\n",
              "    });\n",
              "    // Wait for the data to be ready.\n",
              "    let fileData = yield {\n",
              "      promise: fileDataPromise,\n",
              "      response: {\n",
              "        action: 'continue',\n",
              "      }\n",
              "    };\n",
              "\n",
              "    // Use a chunked sending to avoid message size limits. See b/62115660.\n",
              "    let position = 0;\n",
              "    do {\n",
              "      const length = Math.min(fileData.byteLength - position, MAX_PAYLOAD_SIZE);\n",
              "      const chunk = new Uint8Array(fileData, position, length);\n",
              "      position += length;\n",
              "\n",
              "      const base64 = btoa(String.fromCharCode.apply(null, chunk));\n",
              "      yield {\n",
              "        response: {\n",
              "          action: 'append',\n",
              "          file: file.name,\n",
              "          data: base64,\n",
              "        },\n",
              "      };\n",
              "\n",
              "      let percentDone = fileData.byteLength === 0 ?\n",
              "          100 :\n",
              "          Math.round((position / fileData.byteLength) * 100);\n",
              "      percent.textContent = `${percentDone}% done`;\n",
              "\n",
              "    } while (position < fileData.byteLength);\n",
              "  }\n",
              "\n",
              "  // All done.\n",
              "  yield {\n",
              "    response: {\n",
              "      action: 'complete',\n",
              "    }\n",
              "  };\n",
              "}\n",
              "\n",
              "scope.google = scope.google || {};\n",
              "scope.google.colab = scope.google.colab || {};\n",
              "scope.google.colab._files = {\n",
              "  _uploadFiles,\n",
              "  _uploadFilesContinue,\n",
              "};\n",
              "})(self);\n",
              "</script> "
            ]
          },
          "metadata": {}
        },
        {
          "output_type": "stream",
          "name": "stdout",
          "text": [
            "Saving phishing_email_dataset.csv to phishing_email_dataset.csv\n"
          ]
        }
      ],
      "source": [
        "# to upload the dataset\n",
        "\n",
        "from google.colab import files\n",
        "uploaded = files.upload()"
      ]
    },
    {
      "cell_type": "code",
      "execution_count": null,
      "metadata": {
        "id": "YIBt8P-mxxWy"
      },
      "outputs": [],
      "source": [
        "# to load dataset \n",
        "\n",
        "import pandas as pd\n",
        " \n",
        "df = pd.read_csv('phishing_email_dataset.csv')"
      ]
    },
    {
      "cell_type": "code",
      "execution_count": null,
      "metadata": {
        "colab": {
          "base_uri": "https://localhost:8080/",
          "height": 206
        },
        "id": "MY77Xjgm5yU7",
        "outputId": "c313d72b-7ad8-4e0d-c393-9abf4c64e864"
      },
      "outputs": [
        {
          "output_type": "execute_result",
          "data": {
            "text/plain": [
              "   Unnamed: 0                                               text  \\\n",
              "0           0  Subject: ena offsite my suggestions : 1 ) moun...   \n",
              "1           1  Subject: allegheny energy s - 3 i received wor...   \n",
              "2           2  The University of Washington System is sharing...   \n",
              "3           3  Dear user@stanford.edu, A private document has...   \n",
              "4           4  Subject: james valverde - interview schedule a...   \n",
              "\n",
              "                                              source  is_phishing  \n",
              "0                                              ENRON            0  \n",
              "1                                              ENRON            0  \n",
              "2  https://ciso.uw.edu/education/more-phishing-ex...            1  \n",
              "3                  https://uit.stanford.edu/phishing            1  \n",
              "4                                              ENRON            0  "
            ],
            "text/html": [
              "\n",
              "  <div id=\"df-e7d32e82-6f1b-4735-bf9b-e9a83e6148c6\">\n",
              "    <div class=\"colab-df-container\">\n",
              "      <div>\n",
              "<style scoped>\n",
              "    .dataframe tbody tr th:only-of-type {\n",
              "        vertical-align: middle;\n",
              "    }\n",
              "\n",
              "    .dataframe tbody tr th {\n",
              "        vertical-align: top;\n",
              "    }\n",
              "\n",
              "    .dataframe thead th {\n",
              "        text-align: right;\n",
              "    }\n",
              "</style>\n",
              "<table border=\"1\" class=\"dataframe\">\n",
              "  <thead>\n",
              "    <tr style=\"text-align: right;\">\n",
              "      <th></th>\n",
              "      <th>Unnamed: 0</th>\n",
              "      <th>text</th>\n",
              "      <th>source</th>\n",
              "      <th>is_phishing</th>\n",
              "    </tr>\n",
              "  </thead>\n",
              "  <tbody>\n",
              "    <tr>\n",
              "      <th>0</th>\n",
              "      <td>0</td>\n",
              "      <td>Subject: ena offsite my suggestions : 1 ) moun...</td>\n",
              "      <td>ENRON</td>\n",
              "      <td>0</td>\n",
              "    </tr>\n",
              "    <tr>\n",
              "      <th>1</th>\n",
              "      <td>1</td>\n",
              "      <td>Subject: allegheny energy s - 3 i received wor...</td>\n",
              "      <td>ENRON</td>\n",
              "      <td>0</td>\n",
              "    </tr>\n",
              "    <tr>\n",
              "      <th>2</th>\n",
              "      <td>2</td>\n",
              "      <td>The University of Washington System is sharing...</td>\n",
              "      <td>https://ciso.uw.edu/education/more-phishing-ex...</td>\n",
              "      <td>1</td>\n",
              "    </tr>\n",
              "    <tr>\n",
              "      <th>3</th>\n",
              "      <td>3</td>\n",
              "      <td>Dear user@stanford.edu, A private document has...</td>\n",
              "      <td>https://uit.stanford.edu/phishing</td>\n",
              "      <td>1</td>\n",
              "    </tr>\n",
              "    <tr>\n",
              "      <th>4</th>\n",
              "      <td>4</td>\n",
              "      <td>Subject: james valverde - interview schedule a...</td>\n",
              "      <td>ENRON</td>\n",
              "      <td>0</td>\n",
              "    </tr>\n",
              "  </tbody>\n",
              "</table>\n",
              "</div>\n",
              "      <button class=\"colab-df-convert\" onclick=\"convertToInteractive('df-e7d32e82-6f1b-4735-bf9b-e9a83e6148c6')\"\n",
              "              title=\"Convert this dataframe to an interactive table.\"\n",
              "              style=\"display:none;\">\n",
              "        \n",
              "  <svg xmlns=\"http://www.w3.org/2000/svg\" height=\"24px\"viewBox=\"0 0 24 24\"\n",
              "       width=\"24px\">\n",
              "    <path d=\"M0 0h24v24H0V0z\" fill=\"none\"/>\n",
              "    <path d=\"M18.56 5.44l.94 2.06.94-2.06 2.06-.94-2.06-.94-.94-2.06-.94 2.06-2.06.94zm-11 1L8.5 8.5l.94-2.06 2.06-.94-2.06-.94L8.5 2.5l-.94 2.06-2.06.94zm10 10l.94 2.06.94-2.06 2.06-.94-2.06-.94-.94-2.06-.94 2.06-2.06.94z\"/><path d=\"M17.41 7.96l-1.37-1.37c-.4-.4-.92-.59-1.43-.59-.52 0-1.04.2-1.43.59L10.3 9.45l-7.72 7.72c-.78.78-.78 2.05 0 2.83L4 21.41c.39.39.9.59 1.41.59.51 0 1.02-.2 1.41-.59l7.78-7.78 2.81-2.81c.8-.78.8-2.07 0-2.86zM5.41 20L4 18.59l7.72-7.72 1.47 1.35L5.41 20z\"/>\n",
              "  </svg>\n",
              "      </button>\n",
              "      \n",
              "  <style>\n",
              "    .colab-df-container {\n",
              "      display:flex;\n",
              "      flex-wrap:wrap;\n",
              "      gap: 12px;\n",
              "    }\n",
              "\n",
              "    .colab-df-convert {\n",
              "      background-color: #E8F0FE;\n",
              "      border: none;\n",
              "      border-radius: 50%;\n",
              "      cursor: pointer;\n",
              "      display: none;\n",
              "      fill: #1967D2;\n",
              "      height: 32px;\n",
              "      padding: 0 0 0 0;\n",
              "      width: 32px;\n",
              "    }\n",
              "\n",
              "    .colab-df-convert:hover {\n",
              "      background-color: #E2EBFA;\n",
              "      box-shadow: 0px 1px 2px rgba(60, 64, 67, 0.3), 0px 1px 3px 1px rgba(60, 64, 67, 0.15);\n",
              "      fill: #174EA6;\n",
              "    }\n",
              "\n",
              "    [theme=dark] .colab-df-convert {\n",
              "      background-color: #3B4455;\n",
              "      fill: #D2E3FC;\n",
              "    }\n",
              "\n",
              "    [theme=dark] .colab-df-convert:hover {\n",
              "      background-color: #434B5C;\n",
              "      box-shadow: 0px 1px 3px 1px rgba(0, 0, 0, 0.15);\n",
              "      filter: drop-shadow(0px 1px 2px rgba(0, 0, 0, 0.3));\n",
              "      fill: #FFFFFF;\n",
              "    }\n",
              "  </style>\n",
              "\n",
              "      <script>\n",
              "        const buttonEl =\n",
              "          document.querySelector('#df-e7d32e82-6f1b-4735-bf9b-e9a83e6148c6 button.colab-df-convert');\n",
              "        buttonEl.style.display =\n",
              "          google.colab.kernel.accessAllowed ? 'block' : 'none';\n",
              "\n",
              "        async function convertToInteractive(key) {\n",
              "          const element = document.querySelector('#df-e7d32e82-6f1b-4735-bf9b-e9a83e6148c6');\n",
              "          const dataTable =\n",
              "            await google.colab.kernel.invokeFunction('convertToInteractive',\n",
              "                                                     [key], {});\n",
              "          if (!dataTable) return;\n",
              "\n",
              "          const docLinkHtml = 'Like what you see? Visit the ' +\n",
              "            '<a target=\"_blank\" href=https://colab.research.google.com/notebooks/data_table.ipynb>data table notebook</a>'\n",
              "            + ' to learn more about interactive tables.';\n",
              "          element.innerHTML = '';\n",
              "          dataTable['output_type'] = 'display_data';\n",
              "          await google.colab.output.renderOutput(dataTable, element);\n",
              "          const docLink = document.createElement('div');\n",
              "          docLink.innerHTML = docLinkHtml;\n",
              "          element.appendChild(docLink);\n",
              "        }\n",
              "      </script>\n",
              "    </div>\n",
              "  </div>\n",
              "  "
            ]
          },
          "metadata": {},
          "execution_count": 9
        }
      ],
      "source": [
        "# display first 5 rows of the dataset\n",
        "\n",
        "df.head()"
      ]
    },
    {
      "cell_type": "code",
      "execution_count": null,
      "metadata": {
        "colab": {
          "base_uri": "https://localhost:8080/"
        },
        "id": "yPBNPtMZxvR-",
        "outputId": "f75e47a5-f385-41c7-f554-3998614a3989"
      },
      "outputs": [
        {
          "output_type": "stream",
          "name": "stdout",
          "text": [
            "0      Subject ena offsite suggestions mountains jack...\n",
            "1      Subject allegheny energy received word mike mo...\n",
            "2      The University Washington System sharing funds...\n",
            "3      Dear user A private document sent Human Resour...\n",
            "4      Subject james valverde interview schedule atta...\n",
            "                             ...                        \n",
            "321    Subject oto office thru vacation questions mik...\n",
            "322    Subject calpine daily gas nomiantion per phone...\n",
            "323    Dear Colleague Lehigh University upgraded Univ...\n",
            "324    Linkedin Important Profile Changes Just click ...\n",
            "325    Name Are desk I need send email attachment ind...\n",
            "Length: 326, dtype: object\n"
          ]
        }
      ],
      "source": [
        "# to remove stop words from the email text\n",
        "\n",
        "from nltk.corpus import stopwords\n",
        "from nltk.tokenize import word_tokenize\n",
        "\n",
        "def remove_stop_words(text):\n",
        "  text.lower()\n",
        "  text = word_tokenize(text)\n",
        "  stop_words = set(stopwords.words('english'))\n",
        "  text = [word for word in text if word.isalpha() and not word in stop_words]\n",
        "  return ' '.join(text)\n",
        "\n",
        "x = df.apply(lambda row: remove_stop_words(row['text']), axis=1)\n",
        "y = df['is_phishing']\n",
        "\n",
        "print(x)"
      ]
    },
    {
      "cell_type": "code",
      "execution_count": null,
      "metadata": {
        "colab": {
          "base_uri": "https://localhost:8080/"
        },
        "id": "bnd5qTNlx1yO",
        "outputId": "a800cd9b-4f43-49a6-b742-83e08b718ffb"
      },
      "outputs": [
        {
          "output_type": "stream",
          "name": "stdout",
          "text": [
            "[[   0    0    0 ...  234   46  145]\n",
            " [   0    0    0 ...  628   83   17]\n",
            " [   0    0    0 ...  487   13  357]\n",
            " ...\n",
            " [   0    0    0 ...  178  239  216]\n",
            " [   0    0    0 ...  132  669  541]\n",
            " [   0    0    0 ...   32   22 1026]]\n"
          ]
        }
      ],
      "source": [
        "# convert the words in email text to tokens\n",
        "\n",
        "from keras.preprocessing.text import Tokenizer\n",
        "from keras.utils import pad_sequences\n",
        " \n",
        "max_words = 20000\n",
        "max_length = 500\n",
        " \n",
        "tokenizer = Tokenizer(num_words=max_words)\n",
        "tokenizer.fit_on_texts(x)\n",
        "sequences = tokenizer.texts_to_sequences(x)\n",
        "x = pad_sequences(sequences, maxlen=max_length)\n",
        "print(x)"
      ]
    },
    {
      "cell_type": "code",
      "execution_count": null,
      "metadata": {
        "colab": {
          "base_uri": "https://localhost:8080/"
        },
        "id": "LCLWD1bAyrpm",
        "outputId": "9d5ced66-298c-4155-a576-c7039072ca66"
      },
      "outputs": [
        {
          "output_type": "stream",
          "name": "stdout",
          "text": [
            "Model: \"sequential\"\n",
            "_________________________________________________________________\n",
            " Layer (type)                Output Shape              Param #   \n",
            "=================================================================\n",
            " embedding (Embedding)       (None, 500, 32)           640000    \n",
            "                                                                 \n",
            " flatten (Flatten)           (None, 16000)             0         \n",
            "                                                                 \n",
            " dense (Dense)               (None, 60)                960060    \n",
            "                                                                 \n",
            " dense_1 (Dense)             (None, 40)                2440      \n",
            "                                                                 \n",
            " dense_2 (Dense)             (None, 1)                 41        \n",
            "                                                                 \n",
            "=================================================================\n",
            "Total params: 1,602,541\n",
            "Trainable params: 1,602,541\n",
            "Non-trainable params: 0\n",
            "_________________________________________________________________\n"
          ]
        }
      ],
      "source": [
        "# build a neural network (sequential network) for binary classification\n",
        "\n",
        "from keras.models import Sequential\n",
        "from keras.layers import Dense, Flatten\n",
        "from keras.layers import Embedding\n",
        " \n",
        "model = Sequential() \n",
        "model.add(Embedding(max_words, 32, input_length=max_length)) \n",
        "model.add(Flatten())\n",
        "keras.layers.Dropout(rate=0.7)\n",
        "model.add(Dense(60, activation='relu'))\n",
        "keras.layers.Dropout(rate=0.65)\n",
        "model.add(Dense(40, activation='relu'))\n",
        "model.add(Dense(1, activation='sigmoid'))\n",
        "model.compile(loss='binary_crossentropy', optimizer='adam', metrics=['accuracy']) \n",
        "model.summary()"
      ]
    },
    {
      "cell_type": "code",
      "execution_count": null,
      "metadata": {
        "id": "dEONY3HIyvff"
      },
      "outputs": [],
      "source": [
        "# spliting dataset for training and testing purposes\n",
        "\n",
        "from sklearn.model_selection import train_test_split\n",
        "\n",
        "x_train,x_test,y_train,y_test=train_test_split(x, y, test_size=0.1, random_state=7)"
      ]
    },
    {
      "cell_type": "code",
      "execution_count": null,
      "metadata": {
        "colab": {
          "base_uri": "https://localhost:8080/"
        },
        "id": "NsEZngJyyx3Q",
        "outputId": "37380966-d0e9-49cb-d08f-200fc6aee303"
      },
      "outputs": [
        {
          "output_type": "stream",
          "name": "stdout",
          "text": [
            "Epoch 1/5\n",
            "15/15 [==============================] - 2s 60ms/step - loss: 0.6614 - accuracy: 0.6388 - val_loss: 0.6901 - val_accuracy: 0.5667\n",
            "Epoch 2/5\n",
            "15/15 [==============================] - 0s 29ms/step - loss: 0.5841 - accuracy: 0.6540 - val_loss: 0.5157 - val_accuracy: 0.7333\n",
            "Epoch 3/5\n",
            "15/15 [==============================] - 0s 31ms/step - loss: 0.4519 - accuracy: 0.8023 - val_loss: 0.4828 - val_accuracy: 0.7333\n",
            "Epoch 4/5\n",
            "15/15 [==============================] - 0s 28ms/step - loss: 0.2483 - accuracy: 0.9430 - val_loss: 0.2996 - val_accuracy: 0.9000\n",
            "Epoch 5/5\n",
            "15/15 [==============================] - 0s 31ms/step - loss: 0.0916 - accuracy: 0.9962 - val_loss: 0.1702 - val_accuracy: 0.9667\n"
          ]
        }
      ],
      "source": [
        "# training the model with training set\n",
        "\n",
        "hist = model.fit(x_train, y_train, validation_split=0.1, epochs=5, batch_size=18)"
      ]
    },
    {
      "cell_type": "code",
      "execution_count": null,
      "metadata": {
        "colab": {
          "base_uri": "https://localhost:8080/",
          "height": 497
        },
        "id": "kJXSp3OCyABE",
        "outputId": "0a8bdbbe-78e9-44fc-de94-8922e78191aa"
      },
      "outputs": [
        {
          "output_type": "execute_result",
          "data": {
            "text/plain": [
              "[]"
            ]
          },
          "metadata": {},
          "execution_count": 15
        },
        {
          "output_type": "display_data",
          "data": {
            "text/plain": [
              "<Figure size 640x480 with 1 Axes>"
            ],
            "image/png": "[encoded data removed]"
          },
          "metadata": {}
        }
      ],
      "source": [
        "# graph of training and validation accuracy\n",
        "\n",
        "import seaborn as sns\n",
        "import matplotlib.pyplot as plt\n",
        "%matplotlib inline\n",
        "sns.set()\n",
        " \n",
        "acc = hist.history['accuracy']\n",
        "val = hist.history['val_accuracy']\n",
        "epochs = range(1, len(acc) + 1)\n",
        " \n",
        "plt.plot(epochs, acc, '-', label='Training accuracy')\n",
        "plt.plot(epochs, val, ':', label='Validation accuracy')\n",
        "plt.title('Training and Validation Accuracy')\n",
        "plt.xlabel('Epoch')\n",
        "plt.ylabel('Accuracy')\n",
        "plt.legend(loc='lower right')\n",
        "plt.plot()"
      ]
    },
    {
      "cell_type": "code",
      "execution_count": null,
      "metadata": {
        "colab": {
          "base_uri": "https://localhost:8080/"
        },
        "id": "EI_Dxk-gyB-u",
        "outputId": "d3c2ce41-c7a1-4c90-d1e4-24da8249f361"
      },
      "outputs": [
        {
          "output_type": "stream",
          "name": "stdout",
          "text": [
            "2/2 [==============================] - 0s 15ms/step\n"
          ]
        }
      ],
      "source": [
        "# we can give test set to the model\n",
        "# and let it make predictions whether a given email from test set is phishing or not\n",
        "\n",
        "from sklearn.metrics import accuracy_score, confusion_matrix\n",
        "\n",
        "y_pred=model.predict(x_test)"
      ]
    },
    {
      "cell_type": "code",
      "execution_count": null,
      "metadata": {
        "colab": {
          "base_uri": "https://localhost:8080/",
          "height": 455
        },
        "id": "I_jIFMq5yJmv",
        "outputId": "3c86c34d-a209-4174-e42c-bf13271a4909"
      },
      "outputs": [
        {
          "output_type": "execute_result",
          "data": {
            "text/plain": [
              "Text(0, 0.5, 'Probability whether an email is phishing or not')"
            ]
          },
          "metadata": {},
          "execution_count": 17
        },
        {
          "output_type": "display_data",
          "data": {
            "text/plain": [
              "<Figure size 1500x1000 with 1 Axes>"
            ],
            "image/png": "[encoded data removed]"
          },
          "metadata": {}
        }
      ],
      "source": [
        "# Scatterplot of true values and predicted values\n",
        "\n",
        "import matplotlib.pyplot as plt # Visual Plots\n",
        "\n",
        "fig = plt.figure(figsize=(15,10))\n",
        "ax = plt.subplot2grid((2,2),(0,0))\n",
        "plt.scatter(x= y_test, y=y_pred, color=('blue'))\n",
        "ax.set_xlabel(\"Actual binary values: 0- legitimate, 1- phishing\")\n",
        "ax.set_ylabel(\"Probability whether an email is phishing or not\")"
      ]
    },
    {
      "cell_type": "code",
      "execution_count": null,
      "metadata": {
        "id": "ogNCcrceyLgr"
      },
      "outputs": [],
      "source": [
        "# since the predicted values are in probablities (0.0 to 1.0)\n",
        "# we can assign 0 value for the predicted values less than 0.5\n",
        "# and 1 value for predicted values having more tha 0.5 value\n",
        "\n",
        "y_bin = [int(p>=0.5) for p in y_pred]"
      ]
    },
    {
      "cell_type": "code",
      "execution_count": null,
      "metadata": {
        "colab": {
          "base_uri": "https://localhost:8080/"
        },
        "id": "_lxKI3CYyMrW",
        "outputId": "89d8ec6e-f221-4f30-c9de-19ed29e7024c"
      },
      "outputs": [
        {
          "output_type": "stream",
          "name": "stdout",
          "text": [
            "[[19  2]\n",
            " [ 0 12]]\n"
          ]
        }
      ],
      "source": [
        "# confusion matrix to find false positives and false negatives\n",
        "\n",
        "A = confusion_matrix(y_test, y_bin, labels=[1,0])\n",
        "print(A)"
      ]
    },
    {
      "cell_type": "code",
      "execution_count": null,
      "metadata": {
        "colab": {
          "base_uri": "https://localhost:8080/"
        },
        "id": "b7UZ_Rrzz-NH",
        "outputId": "efc214ed-be94-4da4-fc6e-cbef50db79ca"
      },
      "outputs": [
        {
          "output_type": "stream",
          "name": "stdout",
          "text": [
            "Number of phishing emails correctly identified:  19\n",
            "Number of legitimate emails correctly identified:  12\n",
            "Number of legitimate emails wrongly identified as phishing mails:  2\n",
            "Number of phishing emails wrongly identified as legitimate mails:  0\n"
          ]
        }
      ],
      "source": [
        "print(\"Number of phishing emails correctly identified: \", A[0][0])\n",
        "print(\"Number of legitimate emails correctly identified: \", A[1][1])\n",
        "print(\"Number of legitimate emails wrongly identified as phishing mails: \", A[0][1])\n",
        "print(\"Number of phishing emails wrongly identified as legitimate mails: \", A[1][0])"
      ]
    },
    {
      "cell_type": "code",
      "execution_count": null,
      "metadata": {
        "colab": {
          "base_uri": "https://localhost:8080/"
        },
        "id": "LJcFYZKryOLi",
        "outputId": "0a3363fe-59bd-4bdd-97b9-6dbc7da15261"
      },
      "outputs": [
        {
          "output_type": "stream",
          "name": "stdout",
          "text": [
            "Accuracy: 93.94%\n"
          ]
        }
      ],
      "source": [
        "# calculating accuracy score for the model\n",
        "\n",
        "score= accuracy_score(y_test, y_bin)\n",
        "print(f'Accuracy: {round(score*100,2)}%')"
      ]
    },
    {
      "cell_type": "code",
      "source": [
        "text1 = text[0:1]"
      ],
      "metadata": {
        "id": "HVL4CjrVLdBv"
      },
      "execution_count": null,
      "outputs": []
    },
    {
      "cell_type": "markdown",
      "metadata": {
        "id": "KXYnkRJfJaZX"
      },
      "source": [
        "Applying model on email text extracted from Gmail"
      ]
    },
    {
      "cell_type": "code",
      "execution_count": null,
      "metadata": {
        "id": "_0R-d3D7CDzp"
      },
      "outputs": [],
      "source": [
        "M = []\n",
        "for r in text1:\n",
        "  remove_stop_words(r)\n",
        "  max_words = 20000\n",
        "  max_length = 500\n",
        " \n",
        "  tokenizer = Tokenizer(num_words=max_words)\n",
        "  tokenizer.fit_on_texts(r)\n",
        "  sequences = tokenizer.texts_to_sequences(r)\n",
        "  m =pad_sequences(sequences, maxlen=max_length)\n",
        "  M.append(m)"
      ]
    },
    {
      "cell_type": "code",
      "source": [
        "for i in M:\n",
        "  print(i)"
      ],
      "metadata": {
        "colab": {
          "base_uri": "https://localhost:8080/"
        },
        "id": "22CUsMsTYuk3",
        "outputId": "d927dfa9-9861-49b6-d805-dd4662381ce8"
      },
      "execution_count": null,
      "outputs": [
        {
          "output_type": "stream",
          "name": "stdout",
          "text": [
            "[[ 0  0  0 ...  0  0 34]\n",
            " [ 0  0  0 ...  0  0 16]\n",
            " [ 0  0  0 ...  0  0  0]\n",
            " ...\n",
            " [ 0  0  0 ...  0  0 10]\n",
            " [ 0  0  0 ...  0  0  0]\n",
            " [ 0  0  0 ...  0  0  0]]\n"
          ]
        }
      ]
    },
    {
      "cell_type": "code",
      "execution_count": null,
      "metadata": {
        "id": "RLDA3fN6GZYB"
      },
      "outputs": [],
      "source": [
        "def Email_body_check(M):\n",
        "  for i in M:\n",
        "    pred = []\n",
        "    r = model.predict(i)\n",
        "    pred.append(r)\n",
        "    bin = [int(p>=0.5) for p in y_pred]\n",
        "    s = sum(bin)/len(bin)\n",
        "    return s"
      ]
    },
    {
      "cell_type": "code",
      "source": [
        "email_result = Email_body_check(M)"
      ],
      "metadata": {
        "colab": {
          "base_uri": "https://localhost:8080/"
        },
        "id": "rxGW94WxXzLI",
        "outputId": "5a60ae0e-2773-4118-e064-4a08c1e69234"
      },
      "execution_count": null,
      "outputs": [
        {
          "output_type": "stream",
          "name": "stdout",
          "text": [
            "166/166 [==============================] - 2s 9ms/step\n"
          ]
        }
      ]
    },
    {
      "cell_type": "code",
      "source": [
        "print(email_result)"
      ],
      "metadata": {
        "colab": {
          "base_uri": "https://localhost:8080/"
        },
        "id": "n6UApZxDWUdD",
        "outputId": "3e780e94-9453-4a32-fc23-43341e6285c8"
      },
      "execution_count": null,
      "outputs": [
        {
          "output_type": "stream",
          "name": "stdout",
          "text": [
            "0.5757575757575758\n"
          ]
        }
      ]
    },
    {
      "cell_type": "markdown",
      "metadata": {
        "id": "Uot4f4Ux2Kqo"
      },
      "source": [
        "# URL extracting and checking for phishing features"
      ]
    },
    {
      "cell_type": "code",
      "execution_count": null,
      "metadata": {
        "id": "VrU4qSKG2KGV",
        "colab": {
          "base_uri": "https://localhost:8080/"
        },
        "outputId": "0603145f-66cb-4c9a-b167-12e60e28534f"
      },
      "outputs": [
        {
          "output_type": "stream",
          "name": "stdout",
          "text": [
            "Looking in indexes: https://pypi.org/simple, https://us-python.pkg.dev/colab-wheels/public/simple/\n",
            "Collecting python-whois\n",
            "  Downloading python-whois-0.8.0.tar.gz (109 kB)\n",
            "\u001b[2K     \u001b[90m━━━━━━━━━━━━━━━━━━━━━━━━━━━━━━━━━━━━━━━\u001b[0m \u001b[32m109.6/109.6 kB\u001b[0m \u001b[31m3.7 MB/s\u001b[0m eta \u001b[36m0:00:00\u001b[0m\n",
            "\u001b[?25h  Preparing metadata (setup.py) ... \u001b[?25l\u001b[?25hdone\n",
            "Requirement already satisfied: future in /usr/local/lib/python3.9/dist-packages (from python-whois) (0.18.3)\n",
            "Building wheels for collected packages: python-whois\n",
            "  Building wheel for python-whois (setup.py) ... \u001b[?25l\u001b[?25hdone\n",
            "  Created wheel for python-whois: filename=python_whois-0.8.0-py3-none-any.whl size=103262 sha256=2a702a657844446bf8608a0fd3789d39384f323c4a1aba7f35862af7b6232652\n",
            "  Stored in directory: /root/.cache/pip/wheels/e6/e9/d3/1e41a6c95b398de12c5a332ff28805aa44e68aa317ea60266d\n",
            "Successfully built python-whois\n",
            "Installing collected packages: python-whois\n",
            "Successfully installed python-whois-0.8.0\n",
            "Looking in indexes: https://pypi.org/simple, https://us-python.pkg.dev/colab-wheels/public/simple/\n",
            "Collecting mechanicalsoup\n",
            "  Downloading MechanicalSoup-1.2.0-py3-none-any.whl (19 kB)\n",
            "Requirement already satisfied: requests>=2.22.0 in /usr/local/lib/python3.9/dist-packages (from mechanicalsoup) (2.27.1)\n",
            "Requirement already satisfied: beautifulsoup4>=4.7 in /usr/local/lib/python3.9/dist-packages (from mechanicalsoup) (4.11.2)\n",
            "Requirement already satisfied: lxml in /usr/local/lib/python3.9/dist-packages (from mechanicalsoup) (4.9.2)\n",
            "Requirement already satisfied: soupsieve>1.2 in /usr/local/lib/python3.9/dist-packages (from beautifulsoup4>=4.7->mechanicalsoup) (2.4.1)\n",
            "Requirement already satisfied: urllib3<1.27,>=1.21.1 in /usr/local/lib/python3.9/dist-packages (from requests>=2.22.0->mechanicalsoup) (1.26.15)\n",
            "Requirement already satisfied: idna<4,>=2.5 in /usr/local/lib/python3.9/dist-packages (from requests>=2.22.0->mechanicalsoup) (3.4)\n",
            "Requirement already satisfied: certifi>=2017.4.17 in /usr/local/lib/python3.9/dist-packages (from requests>=2.22.0->mechanicalsoup) (2022.12.7)\n",
            "Requirement already satisfied: charset-normalizer~=2.0.0 in /usr/local/lib/python3.9/dist-packages (from requests>=2.22.0->mechanicalsoup) (2.0.12)\n",
            "Installing collected packages: mechanicalsoup\n",
            "Successfully installed mechanicalsoup-1.2.0\n"
          ]
        }
      ],
      "source": [
        "! pip install python-whois\n",
        "! pip install mechanicalsoup"
      ]
    },
    {
      "cell_type": "code",
      "execution_count": null,
      "metadata": {
        "id": "_vIJrrAs2PRm"
      },
      "outputs": [],
      "source": [
        "import re\n",
        "from whois import whois\n",
        "import datetime\n",
        "from datetime import date\n",
        "import mechanicalsoup"
      ]
    },
    {
      "cell_type": "code",
      "source": [
        "from google.colab import files\n",
        "uploaded = files.upload()"
      ],
      "metadata": {
        "colab": {
          "base_uri": "https://localhost:8080/",
          "height": 73
        },
        "id": "CdJzCGHzgzma",
        "outputId": "588c71b7-4882-467f-ccb4-fe6364713597"
      },
      "execution_count": null,
      "outputs": [
        {
          "output_type": "display_data",
          "data": {
            "text/plain": [
              "<IPython.core.display.HTML object>"
            ],
            "text/html": [
              "\n",
              "     <input type=\"file\" id=\"files-6035b2a9-d76c-4483-8bef-bfcf12244bee\" name=\"files[]\" multiple disabled\n",
              "        style=\"border:none\" />\n",
              "     <output id=\"result-6035b2a9-d76c-4483-8bef-bfcf12244bee\">\n",
              "      Upload widget is only available when the cell has been executed in the\n",
              "      current browser session. Please rerun this cell to enable.\n",
              "      </output>\n",
              "      <script>// Copyright 2017 Google LLC\n",
              "//\n",
              "// Licensed under the Apache License, Version 2.0 (the \"License\");\n",
              "// you may not use this file except in compliance with the License.\n",
              "// You may obtain a copy of the License at\n",
              "//\n",
              "//      http://www.apache.org/licenses/LICENSE-2.0\n",
              "//\n",
              "// Unless required by applicable law or agreed to in writing, software\n",
              "// distributed under the License is distributed on an \"AS IS\" BASIS,\n",
              "// WITHOUT WARRANTIES OR CONDITIONS OF ANY KIND, either express or implied.\n",
              "// See the License for the specific language governing permissions and\n",
              "// limitations under the License.\n",
              "\n",
              "/**\n",
              " * @fileoverview Helpers for google.colab Python module.\n",
              " */\n",
              "(function(scope) {\n",
              "function span(text, styleAttributes = {}) {\n",
              "  const element = document.createElement('span');\n",
              "  element.textContent = text;\n",
              "  for (const key of Object.keys(styleAttributes)) {\n",
              "    element.style[key] = styleAttributes[key];\n",
              "  }\n",
              "  return element;\n",
              "}\n",
              "\n",
              "// Max number of bytes which will be uploaded at a time.\n",
              "const MAX_PAYLOAD_SIZE = 100 * 1024;\n",
              "\n",
              "function _uploadFiles(inputId, outputId) {\n",
              "  const steps = uploadFilesStep(inputId, outputId);\n",
              "  const outputElement = document.getElementById(outputId);\n",
              "  // Cache steps on the outputElement to make it available for the next call\n",
              "  // to uploadFilesContinue from Python.\n",
              "  outputElement.steps = steps;\n",
              "\n",
              "  return _uploadFilesContinue(outputId);\n",
              "}\n",
              "\n",
              "// This is roughly an async generator (not supported in the browser yet),\n",
              "// where there are multiple asynchronous steps and the Python side is going\n",
              "// to poll for completion of each step.\n",
              "// This uses a Promise to block the python side on completion of each step,\n",
              "// then passes the result of the previous step as the input to the next step.\n",
              "function _uploadFilesContinue(outputId) {\n",
              "  const outputElement = document.getElementById(outputId);\n",
              "  const steps = outputElement.steps;\n",
              "\n",
              "  const next = steps.next(outputElement.lastPromiseValue);\n",
              "  return Promise.resolve(next.value.promise).then((value) => {\n",
              "    // Cache the last promise value to make it available to the next\n",
              "    // step of the generator.\n",
              "    outputElement.lastPromiseValue = value;\n",
              "    return next.value.response;\n",
              "  });\n",
              "}\n",
              "\n",
              "/**\n",
              " * Generator function which is called between each async step of the upload\n",
              " * process.\n",
              " * @param {string} inputId Element ID of the input file picker element.\n",
              " * @param {string} outputId Element ID of the output display.\n",
              " * @return {!Iterable<!Object>} Iterable of next steps.\n",
              " */\n",
              "function* uploadFilesStep(inputId, outputId) {\n",
              "  const inputElement = document.getElementById(inputId);\n",
              "  inputElement.disabled = false;\n",
              "\n",
              "  const outputElement = document.getElementById(outputId);\n",
              "  outputElement.innerHTML = '';\n",
              "\n",
              "  const pickedPromise = new Promise((resolve) => {\n",
              "    inputElement.addEventListener('change', (e) => {\n",
              "      resolve(e.target.files);\n",
              "    });\n",
              "  });\n",
              "\n",
              "  const cancel = document.createElement('button');\n",
              "  inputElement.parentElement.appendChild(cancel);\n",
              "  cancel.textContent = 'Cancel upload';\n",
              "  const cancelPromise = new Promise((resolve) => {\n",
              "    cancel.onclick = () => {\n",
              "      resolve(null);\n",
              "    };\n",
              "  });\n",
              "\n",
              "  // Wait for the user to pick the files.\n",
              "  const files = yield {\n",
              "    promise: Promise.race([pickedPromise, cancelPromise]),\n",
              "    response: {\n",
              "      action: 'starting',\n",
              "    }\n",
              "  };\n",
              "\n",
              "  cancel.remove();\n",
              "\n",
              "  // Disable the input element since further picks are not allowed.\n",
              "  inputElement.disabled = true;\n",
              "\n",
              "  if (!files) {\n",
              "    return {\n",
              "      response: {\n",
              "        action: 'complete',\n",
              "      }\n",
              "    };\n",
              "  }\n",
              "\n",
              "  for (const file of files) {\n",
              "    const li = document.createElement('li');\n",
              "    li.append(span(file.name, {fontWeight: 'bold'}));\n",
              "    li.append(span(\n",
              "        `(${file.type || 'n/a'}) - ${file.size} bytes, ` +\n",
              "        `last modified: ${\n",
              "            file.lastModifiedDate ? file.lastModifiedDate.toLocaleDateString() :\n",
              "                                    'n/a'} - `));\n",
              "    const percent = span('0% done');\n",
              "    li.appendChild(percent);\n",
              "\n",
              "    outputElement.appendChild(li);\n",
              "\n",
              "    const fileDataPromise = new Promise((resolve) => {\n",
              "      const reader = new FileReader();\n",
              "      reader.onload = (e) => {\n",
              "        resolve(e.target.result);\n",
              "      };\n",
              "      reader.readAsArrayBuffer(file);\n",
              "    });\n",
              "    // Wait for the data to be ready.\n",
              "    let fileData = yield {\n",
              "      promise: fileDataPromise,\n",
              "      response: {\n",
              "        action: 'continue',\n",
              "      }\n",
              "    };\n",
              "\n",
              "    // Use a chunked sending to avoid message size limits. See b/62115660.\n",
              "    let position = 0;\n",
              "    do {\n",
              "      const length = Math.min(fileData.byteLength - position, MAX_PAYLOAD_SIZE);\n",
              "      const chunk = new Uint8Array(fileData, position, length);\n",
              "      position += length;\n",
              "\n",
              "      const base64 = btoa(String.fromCharCode.apply(null, chunk));\n",
              "      yield {\n",
              "        response: {\n",
              "          action: 'append',\n",
              "          file: file.name,\n",
              "          data: base64,\n",
              "        },\n",
              "      };\n",
              "\n",
              "      let percentDone = fileData.byteLength === 0 ?\n",
              "          100 :\n",
              "          Math.round((position / fileData.byteLength) * 100);\n",
              "      percent.textContent = `${percentDone}% done`;\n",
              "\n",
              "    } while (position < fileData.byteLength);\n",
              "  }\n",
              "\n",
              "  // All done.\n",
              "  yield {\n",
              "    response: {\n",
              "      action: 'complete',\n",
              "    }\n",
              "  };\n",
              "}\n",
              "\n",
              "scope.google = scope.google || {};\n",
              "scope.google.colab = scope.google.colab || {};\n",
              "scope.google.colab._files = {\n",
              "  _uploadFiles,\n",
              "  _uploadFilesContinue,\n",
              "};\n",
              "})(self);\n",
              "</script> "
            ]
          },
          "metadata": {}
        },
        {
          "output_type": "stream",
          "name": "stdout",
          "text": [
            "Saving phishing_site_urls_random sample.csv to phishing_site_urls_random sample.csv\n"
          ]
        }
      ]
    },
    {
      "cell_type": "code",
      "source": [
        "# Read the data\n",
        "import io\n",
        "tdf = pd.read_csv(io.BytesIO(uploaded['phishing_site_urls_random sample.csv']))\n",
        "# Dataset is now stored in a Pandas Dataframe"
      ],
      "metadata": {
        "id": "SUHFn0T3xsyX"
      },
      "execution_count": null,
      "outputs": []
    },
    {
      "cell_type": "code",
      "source": [
        "df2 = tdf.loc[0:]"
      ],
      "metadata": {
        "id": "2g7r2e9hvGPI"
      },
      "execution_count": null,
      "outputs": []
    },
    {
      "cell_type": "code",
      "source": [
        "df2.head(10)"
      ],
      "metadata": {
        "colab": {
          "base_uri": "https://localhost:8080/",
          "height": 363
        },
        "id": "aOnxGRzOgNQC",
        "outputId": "cdf2cbcd-ec96-4046-a5a7-f701df08321b"
      },
      "execution_count": null,
      "outputs": [
        {
          "output_type": "execute_result",
          "data": {
            "text/plain": [
              "                                             URL Label\n",
              "0              outaplaceshave.cn/krp3cmg/images/   bad\n",
              "1                  ebayisapidlld.altervista.org/   bad\n",
              "2                           javaupdatecache.com/   bad\n",
              "3                  lopertopgo.su/krp3cmg/images/   bad\n",
              "4          promusic.co/components/interbank.com/   bad\n",
              "5            wreathsacrossamerica.org/locations/  good\n",
              "6                     goyanok.at/krp3cmg/images/   bad\n",
              "7   worldswithoutend.com/books_Locus-F_index.asp  good\n",
              "8  worldswithoutend.com/books_Locus-SF_index.asp  good\n",
              "9                  therepalon.su/krp3cmg/images/   bad"
            ],
            "text/html": [
              "\n",
              "  <div id=\"df-b78f97b6-9108-4371-9d9c-bcf7228d8b87\">\n",
              "    <div class=\"colab-df-container\">\n",
              "      <div>\n",
              "<style scoped>\n",
              "    .dataframe tbody tr th:only-of-type {\n",
              "        vertical-align: middle;\n",
              "    }\n",
              "\n",
              "    .dataframe tbody tr th {\n",
              "        vertical-align: top;\n",
              "    }\n",
              "\n",
              "    .dataframe thead th {\n",
              "        text-align: right;\n",
              "    }\n",
              "</style>\n",
              "<table border=\"1\" class=\"dataframe\">\n",
              "  <thead>\n",
              "    <tr style=\"text-align: right;\">\n",
              "      <th></th>\n",
              "      <th>URL</th>\n",
              "      <th>Label</th>\n",
              "    </tr>\n",
              "  </thead>\n",
              "  <tbody>\n",
              "    <tr>\n",
              "      <th>0</th>\n",
              "      <td>outaplaceshave.cn/krp3cmg/images/</td>\n",
              "      <td>bad</td>\n",
              "    </tr>\n",
              "    <tr>\n",
              "      <th>1</th>\n",
              "      <td>ebayisapidlld.altervista.org/</td>\n",
              "      <td>bad</td>\n",
              "    </tr>\n",
              "    <tr>\n",
              "      <th>2</th>\n",
              "      <td>javaupdatecache.com/</td>\n",
              "      <td>bad</td>\n",
              "    </tr>\n",
              "    <tr>\n",
              "      <th>3</th>\n",
              "      <td>lopertopgo.su/krp3cmg/images/</td>\n",
              "      <td>bad</td>\n",
              "    </tr>\n",
              "    <tr>\n",
              "      <th>4</th>\n",
              "      <td>promusic.co/components/interbank.com/</td>\n",
              "      <td>bad</td>\n",
              "    </tr>\n",
              "    <tr>\n",
              "      <th>5</th>\n",
              "      <td>wreathsacrossamerica.org/locations/</td>\n",
              "      <td>good</td>\n",
              "    </tr>\n",
              "    <tr>\n",
              "      <th>6</th>\n",
              "      <td>goyanok.at/krp3cmg/images/</td>\n",
              "      <td>bad</td>\n",
              "    </tr>\n",
              "    <tr>\n",
              "      <th>7</th>\n",
              "      <td>worldswithoutend.com/books_Locus-F_index.asp</td>\n",
              "      <td>good</td>\n",
              "    </tr>\n",
              "    <tr>\n",
              "      <th>8</th>\n",
              "      <td>worldswithoutend.com/books_Locus-SF_index.asp</td>\n",
              "      <td>good</td>\n",
              "    </tr>\n",
              "    <tr>\n",
              "      <th>9</th>\n",
              "      <td>therepalon.su/krp3cmg/images/</td>\n",
              "      <td>bad</td>\n",
              "    </tr>\n",
              "  </tbody>\n",
              "</table>\n",
              "</div>\n",
              "      <button class=\"colab-df-convert\" onclick=\"convertToInteractive('df-b78f97b6-9108-4371-9d9c-bcf7228d8b87')\"\n",
              "              title=\"Convert this dataframe to an interactive table.\"\n",
              "              style=\"display:none;\">\n",
              "        \n",
              "  <svg xmlns=\"http://www.w3.org/2000/svg\" height=\"24px\"viewBox=\"0 0 24 24\"\n",
              "       width=\"24px\">\n",
              "    <path d=\"M0 0h24v24H0V0z\" fill=\"none\"/>\n",
              "    <path d=\"M18.56 5.44l.94 2.06.94-2.06 2.06-.94-2.06-.94-.94-2.06-.94 2.06-2.06.94zm-11 1L8.5 8.5l.94-2.06 2.06-.94-2.06-.94L8.5 2.5l-.94 2.06-2.06.94zm10 10l.94 2.06.94-2.06 2.06-.94-2.06-.94-.94-2.06-.94 2.06-2.06.94z\"/><path d=\"M17.41 7.96l-1.37-1.37c-.4-.4-.92-.59-1.43-.59-.52 0-1.04.2-1.43.59L10.3 9.45l-7.72 7.72c-.78.78-.78 2.05 0 2.83L4 21.41c.39.39.9.59 1.41.59.51 0 1.02-.2 1.41-.59l7.78-7.78 2.81-2.81c.8-.78.8-2.07 0-2.86zM5.41 20L4 18.59l7.72-7.72 1.47 1.35L5.41 20z\"/>\n",
              "  </svg>\n",
              "      </button>\n",
              "      \n",
              "  <style>\n",
              "    .colab-df-container {\n",
              "      display:flex;\n",
              "      flex-wrap:wrap;\n",
              "      gap: 12px;\n",
              "    }\n",
              "\n",
              "    .colab-df-convert {\n",
              "      background-color: #E8F0FE;\n",
              "      border: none;\n",
              "      border-radius: 50%;\n",
              "      cursor: pointer;\n",
              "      display: none;\n",
              "      fill: #1967D2;\n",
              "      height: 32px;\n",
              "      padding: 0 0 0 0;\n",
              "      width: 32px;\n",
              "    }\n",
              "\n",
              "    .colab-df-convert:hover {\n",
              "      background-color: #E2EBFA;\n",
              "      box-shadow: 0px 1px 2px rgba(60, 64, 67, 0.3), 0px 1px 3px 1px rgba(60, 64, 67, 0.15);\n",
              "      fill: #174EA6;\n",
              "    }\n",
              "\n",
              "    [theme=dark] .colab-df-convert {\n",
              "      background-color: #3B4455;\n",
              "      fill: #D2E3FC;\n",
              "    }\n",
              "\n",
              "    [theme=dark] .colab-df-convert:hover {\n",
              "      background-color: #434B5C;\n",
              "      box-shadow: 0px 1px 3px 1px rgba(0, 0, 0, 0.15);\n",
              "      filter: drop-shadow(0px 1px 2px rgba(0, 0, 0, 0.3));\n",
              "      fill: #FFFFFF;\n",
              "    }\n",
              "  </style>\n",
              "\n",
              "      <script>\n",
              "        const buttonEl =\n",
              "          document.querySelector('#df-b78f97b6-9108-4371-9d9c-bcf7228d8b87 button.colab-df-convert');\n",
              "        buttonEl.style.display =\n",
              "          google.colab.kernel.accessAllowed ? 'block' : 'none';\n",
              "\n",
              "        async function convertToInteractive(key) {\n",
              "          const element = document.querySelector('#df-b78f97b6-9108-4371-9d9c-bcf7228d8b87');\n",
              "          const dataTable =\n",
              "            await google.colab.kernel.invokeFunction('convertToInteractive',\n",
              "                                                     [key], {});\n",
              "          if (!dataTable) return;\n",
              "\n",
              "          const docLinkHtml = 'Like what you see? Visit the ' +\n",
              "            '<a target=\"_blank\" href=https://colab.research.google.com/notebooks/data_table.ipynb>data table notebook</a>'\n",
              "            + ' to learn more about interactive tables.';\n",
              "          element.innerHTML = '';\n",
              "          dataTable['output_type'] = 'display_data';\n",
              "          await google.colab.output.renderOutput(dataTable, element);\n",
              "          const docLink = document.createElement('div');\n",
              "          docLink.innerHTML = docLinkHtml;\n",
              "          element.appendChild(docLink);\n",
              "        }\n",
              "      </script>\n",
              "    </div>\n",
              "  </div>\n",
              "  "
            ]
          },
          "metadata": {},
          "execution_count": 33
        }
      ]
    },
    {
      "cell_type": "code",
      "source": [
        "from sklearn.preprocessing import OneHotEncoder\n",
        "\n",
        "#creating instance of one-hot-encoder\n",
        "encoder = OneHotEncoder(handle_unknown='ignore')\n",
        "\n",
        "#perform one-hot encoding on 'team' column \n",
        "encoder_df = pd.DataFrame(encoder.fit_transform(df2[['Label']]).toarray())\n",
        "\n",
        "#merge one-hot encoded columns back with original DataFrame\n",
        "df3 = df2.join(encoder_df)"
      ],
      "metadata": {
        "id": "-b3ik7MwvWDk"
      },
      "execution_count": null,
      "outputs": []
    },
    {
      "cell_type": "code",
      "source": [
        "df3 = df3.drop(['Label'], axis=1)"
      ],
      "metadata": {
        "id": "-W1uwWTkDal1"
      },
      "execution_count": null,
      "outputs": []
    },
    {
      "cell_type": "code",
      "source": [
        "df3.columns = ['URL', 'Label_bad', 'Label_good']"
      ],
      "metadata": {
        "id": "8D7DRvW0GH11"
      },
      "execution_count": null,
      "outputs": []
    },
    {
      "cell_type": "code",
      "source": [
        "df3.head(15)"
      ],
      "metadata": {
        "colab": {
          "base_uri": "https://localhost:8080/",
          "height": 519
        },
        "id": "QVDxoG80Wy7t",
        "outputId": "a5039f11-0ad6-4b0a-c3b3-6ba6aee45de0"
      },
      "execution_count": null,
      "outputs": [
        {
          "output_type": "execute_result",
          "data": {
            "text/plain": [
              "                                                  URL  Label_bad  Label_good\n",
              "0                   outaplaceshave.cn/krp3cmg/images/        1.0         0.0\n",
              "1                       ebayisapidlld.altervista.org/        1.0         0.0\n",
              "2                                javaupdatecache.com/        1.0         0.0\n",
              "3                       lopertopgo.su/krp3cmg/images/        1.0         0.0\n",
              "4               promusic.co/components/interbank.com/        1.0         0.0\n",
              "5                 wreathsacrossamerica.org/locations/        0.0         1.0\n",
              "6                          goyanok.at/krp3cmg/images/        1.0         0.0\n",
              "7        worldswithoutend.com/books_Locus-F_index.asp        0.0         1.0\n",
              "8       worldswithoutend.com/books_Locus-SF_index.asp        0.0         1.0\n",
              "9                       therepalon.su/krp3cmg/images/        1.0         0.0\n",
              "10              allen.oh.bargainforeclosurehomes.com/        0.0         1.0\n",
              "11  www.revitolcream.org/wp-content/plugins/all-in...        1.0         0.0\n",
              "12  youthleaguesusa.com/potomacsoccer/2011/Tournam...        0.0         1.0\n",
              "13                        pergozip.at/krp3cmg/images/        1.0         0.0\n",
              "14  uvb.lg.ua/templates/a216/.PayPaI/e9d83d4fd35ff...        1.0         0.0"
            ],
            "text/html": [
              "\n",
              "  <div id=\"df-1630bdeb-2280-417d-9b49-e0c9d6a252b2\">\n",
              "    <div class=\"colab-df-container\">\n",
              "      <div>\n",
              "<style scoped>\n",
              "    .dataframe tbody tr th:only-of-type {\n",
              "        vertical-align: middle;\n",
              "    }\n",
              "\n",
              "    .dataframe tbody tr th {\n",
              "        vertical-align: top;\n",
              "    }\n",
              "\n",
              "    .dataframe thead th {\n",
              "        text-align: right;\n",
              "    }\n",
              "</style>\n",
              "<table border=\"1\" class=\"dataframe\">\n",
              "  <thead>\n",
              "    <tr style=\"text-align: right;\">\n",
              "      <th></th>\n",
              "      <th>URL</th>\n",
              "      <th>Label_bad</th>\n",
              "      <th>Label_good</th>\n",
              "    </tr>\n",
              "  </thead>\n",
              "  <tbody>\n",
              "    <tr>\n",
              "      <th>0</th>\n",
              "      <td>outaplaceshave.cn/krp3cmg/images/</td>\n",
              "      <td>1.0</td>\n",
              "      <td>0.0</td>\n",
              "    </tr>\n",
              "    <tr>\n",
              "      <th>1</th>\n",
              "      <td>ebayisapidlld.altervista.org/</td>\n",
              "      <td>1.0</td>\n",
              "      <td>0.0</td>\n",
              "    </tr>\n",
              "    <tr>\n",
              "      <th>2</th>\n",
              "      <td>javaupdatecache.com/</td>\n",
              "      <td>1.0</td>\n",
              "      <td>0.0</td>\n",
              "    </tr>\n",
              "    <tr>\n",
              "      <th>3</th>\n",
              "      <td>lopertopgo.su/krp3cmg/images/</td>\n",
              "      <td>1.0</td>\n",
              "      <td>0.0</td>\n",
              "    </tr>\n",
              "    <tr>\n",
              "      <th>4</th>\n",
              "      <td>promusic.co/components/interbank.com/</td>\n",
              "      <td>1.0</td>\n",
              "      <td>0.0</td>\n",
              "    </tr>\n",
              "    <tr>\n",
              "      <th>5</th>\n",
              "      <td>wreathsacrossamerica.org/locations/</td>\n",
              "      <td>0.0</td>\n",
              "      <td>1.0</td>\n",
              "    </tr>\n",
              "    <tr>\n",
              "      <th>6</th>\n",
              "      <td>goyanok.at/krp3cmg/images/</td>\n",
              "      <td>1.0</td>\n",
              "      <td>0.0</td>\n",
              "    </tr>\n",
              "    <tr>\n",
              "      <th>7</th>\n",
              "      <td>worldswithoutend.com/books_Locus-F_index.asp</td>\n",
              "      <td>0.0</td>\n",
              "      <td>1.0</td>\n",
              "    </tr>\n",
              "    <tr>\n",
              "      <th>8</th>\n",
              "      <td>worldswithoutend.com/books_Locus-SF_index.asp</td>\n",
              "      <td>0.0</td>\n",
              "      <td>1.0</td>\n",
              "    </tr>\n",
              "    <tr>\n",
              "      <th>9</th>\n",
              "      <td>therepalon.su/krp3cmg/images/</td>\n",
              "      <td>1.0</td>\n",
              "      <td>0.0</td>\n",
              "    </tr>\n",
              "    <tr>\n",
              "      <th>10</th>\n",
              "      <td>allen.oh.bargainforeclosurehomes.com/</td>\n",
              "      <td>0.0</td>\n",
              "      <td>1.0</td>\n",
              "    </tr>\n",
              "    <tr>\n",
              "      <th>11</th>\n",
              "      <td>www.revitolcream.org/wp-content/plugins/all-in...</td>\n",
              "      <td>1.0</td>\n",
              "      <td>0.0</td>\n",
              "    </tr>\n",
              "    <tr>\n",
              "      <th>12</th>\n",
              "      <td>youthleaguesusa.com/potomacsoccer/2011/Tournam...</td>\n",
              "      <td>0.0</td>\n",
              "      <td>1.0</td>\n",
              "    </tr>\n",
              "    <tr>\n",
              "      <th>13</th>\n",
              "      <td>pergozip.at/krp3cmg/images/</td>\n",
              "      <td>1.0</td>\n",
              "      <td>0.0</td>\n",
              "    </tr>\n",
              "    <tr>\n",
              "      <th>14</th>\n",
              "      <td>uvb.lg.ua/templates/a216/.PayPaI/e9d83d4fd35ff...</td>\n",
              "      <td>1.0</td>\n",
              "      <td>0.0</td>\n",
              "    </tr>\n",
              "  </tbody>\n",
              "</table>\n",
              "</div>\n",
              "      <button class=\"colab-df-convert\" onclick=\"convertToInteractive('df-1630bdeb-2280-417d-9b49-e0c9d6a252b2')\"\n",
              "              title=\"Convert this dataframe to an interactive table.\"\n",
              "              style=\"display:none;\">\n",
              "        \n",
              "  <svg xmlns=\"http://www.w3.org/2000/svg\" height=\"24px\"viewBox=\"0 0 24 24\"\n",
              "       width=\"24px\">\n",
              "    <path d=\"M0 0h24v24H0V0z\" fill=\"none\"/>\n",
              "    <path d=\"M18.56 5.44l.94 2.06.94-2.06 2.06-.94-2.06-.94-.94-2.06-.94 2.06-2.06.94zm-11 1L8.5 8.5l.94-2.06 2.06-.94-2.06-.94L8.5 2.5l-.94 2.06-2.06.94zm10 10l.94 2.06.94-2.06 2.06-.94-2.06-.94-.94-2.06-.94 2.06-2.06.94z\"/><path d=\"M17.41 7.96l-1.37-1.37c-.4-.4-.92-.59-1.43-.59-.52 0-1.04.2-1.43.59L10.3 9.45l-7.72 7.72c-.78.78-.78 2.05 0 2.83L4 21.41c.39.39.9.59 1.41.59.51 0 1.02-.2 1.41-.59l7.78-7.78 2.81-2.81c.8-.78.8-2.07 0-2.86zM5.41 20L4 18.59l7.72-7.72 1.47 1.35L5.41 20z\"/>\n",
              "  </svg>\n",
              "      </button>\n",
              "      \n",
              "  <style>\n",
              "    .colab-df-container {\n",
              "      display:flex;\n",
              "      flex-wrap:wrap;\n",
              "      gap: 12px;\n",
              "    }\n",
              "\n",
              "    .colab-df-convert {\n",
              "      background-color: #E8F0FE;\n",
              "      border: none;\n",
              "      border-radius: 50%;\n",
              "      cursor: pointer;\n",
              "      display: none;\n",
              "      fill: #1967D2;\n",
              "      height: 32px;\n",
              "      padding: 0 0 0 0;\n",
              "      width: 32px;\n",
              "    }\n",
              "\n",
              "    .colab-df-convert:hover {\n",
              "      background-color: #E2EBFA;\n",
              "      box-shadow: 0px 1px 2px rgba(60, 64, 67, 0.3), 0px 1px 3px 1px rgba(60, 64, 67, 0.15);\n",
              "      fill: #174EA6;\n",
              "    }\n",
              "\n",
              "    [theme=dark] .colab-df-convert {\n",
              "      background-color: #3B4455;\n",
              "      fill: #D2E3FC;\n",
              "    }\n",
              "\n",
              "    [theme=dark] .colab-df-convert:hover {\n",
              "      background-color: #434B5C;\n",
              "      box-shadow: 0px 1px 3px 1px rgba(0, 0, 0, 0.15);\n",
              "      filter: drop-shadow(0px 1px 2px rgba(0, 0, 0, 0.3));\n",
              "      fill: #FFFFFF;\n",
              "    }\n",
              "  </style>\n",
              "\n",
              "      <script>\n",
              "        const buttonEl =\n",
              "          document.querySelector('#df-1630bdeb-2280-417d-9b49-e0c9d6a252b2 button.colab-df-convert');\n",
              "        buttonEl.style.display =\n",
              "          google.colab.kernel.accessAllowed ? 'block' : 'none';\n",
              "\n",
              "        async function convertToInteractive(key) {\n",
              "          const element = document.querySelector('#df-1630bdeb-2280-417d-9b49-e0c9d6a252b2');\n",
              "          const dataTable =\n",
              "            await google.colab.kernel.invokeFunction('convertToInteractive',\n",
              "                                                     [key], {});\n",
              "          if (!dataTable) return;\n",
              "\n",
              "          const docLinkHtml = 'Like what you see? Visit the ' +\n",
              "            '<a target=\"_blank\" href=https://colab.research.google.com/notebooks/data_table.ipynb>data table notebook</a>'\n",
              "            + ' to learn more about interactive tables.';\n",
              "          element.innerHTML = '';\n",
              "          dataTable['output_type'] = 'display_data';\n",
              "          await google.colab.output.renderOutput(dataTable, element);\n",
              "          const docLink = document.createElement('div');\n",
              "          docLink.innerHTML = docLinkHtml;\n",
              "          element.appendChild(docLink);\n",
              "        }\n",
              "      </script>\n",
              "    </div>\n",
              "  </div>\n",
              "  "
            ]
          },
          "metadata": {},
          "execution_count": 37
        }
      ]
    },
    {
      "cell_type": "code",
      "source": [
        "df3 = df3.drop(['Label_good'], axis=1)"
      ],
      "metadata": {
        "id": "9SdGCnBSGnpG"
      },
      "execution_count": null,
      "outputs": []
    },
    {
      "cell_type": "code",
      "execution_count": null,
      "metadata": {
        "id": "vLUaLgpDfupS"
      },
      "outputs": [],
      "source": [
        "# function for extracting urls from email body \n",
        "\n",
        "def Find(content):\n",
        "    regex = r\"(?i)\\b((?:https?://|www\\d{0,3}[.]|[a-z0-9.\\-]+[.][a-z]{2,4}/)(?:[^\\s()<>]+|\\(([^\\s()<>]+|(\\([^\\s()<>]+\\)))*\\))+(?:\\(([^\\s()<>]+|(\\([^\\s()<>]+\\)))*\\)|[^\\s`!()\\[\\]{};:'\\\".,<>?«»“”‘’]))\"\n",
        "    url = re.findall(regex, content)\n",
        "    return [x[0] for x in url]\n",
        "\n",
        "# defining functions for each of the phishing features\n",
        "  \n",
        "def phishtank_check(i):\n",
        "  browser = mechanicalsoup.StatefulBrowser()\n",
        "  browser.open(\"https://www.phishtank.com/\")\n",
        "  try:\n",
        "    form = browser.select_form(selector='form', nr=1)\n",
        "    browser[\"isaphishurl\"] = i\n",
        "    my_button = browser.get_current_page().find('input', value='Is it a phish?')\n",
        "    response = browser.submit_selected(btnName = my_button)\n",
        "    s1 = 'This site is not a phishing site.'\n",
        "    s2 = 'Is a phish'\n",
        "    if s1 in response.text:\n",
        "      return 0\n",
        "    elif s2 in response.text:\n",
        "      return 1\n",
        "    else:\n",
        "      return 0.5\n",
        "  except:\n",
        "    return 0.7\n",
        "\n",
        "def numOfDays(date1, date2):\n",
        "    return (date2-date1).days\n",
        "\n",
        "def domain_check(i):\n",
        "    try: \n",
        "      W = whois(i)\n",
        "      if type(W[\"creation_date\"]) == list:\n",
        "        S = str(W[\"creation_date\"][0])\n",
        "        s = S[0:10]\n",
        "      else:\n",
        "        s = str(W[\"creation_date\"])\n",
        "      year, month, day = int(s[0:10][0:4]), int(s[0:10][5:7]), int(s[0:10][8:10])\n",
        "      date1 = date(year, month, day)\n",
        "      date2 = date(2023, 2, 6)\n",
        "      n = numOfDays(date1, date2)\n",
        "      if n <= 150:\n",
        "        return 1\n",
        "      else:\n",
        "        return 0\n",
        "    except:\n",
        "      return 1\n",
        "\n",
        "def url_character_check(i):\n",
        "  if '@' in i:\n",
        "    return 1\n",
        "  else:\n",
        "    return 0\n",
        "\n",
        "def ip_check(i):\n",
        "  if 'www.' in i:\n",
        "    p = i.index('www.')\n",
        "    if type(i[p+4]) == int:\n",
        "      return 1\n",
        "    else:\n",
        "      return 0\n",
        "  else:\n",
        "    return 0\n",
        "\n",
        "def url_length(i):\n",
        "  if len(i) > 100:   \n",
        "    return 1\n",
        "  else:\n",
        "    return 0\n",
        "\n",
        "def form_tag_check(i):\n",
        "  browser = mechanicalsoup.StatefulBrowser()\n",
        "  try:\n",
        "    browser.open(i)\n",
        "    form = browser.select_form()\n",
        "    return 0\n",
        "  except:\n",
        "    return 1\n",
        "\n",
        "def count(l):\n",
        "  c = 0\n",
        "  for x in l:\n",
        "    c += 1\n",
        "  if c > 0:\n",
        "      return 1\n",
        "  else:\n",
        "    return 0  "
      ]
    },
    {
      "cell_type": "code",
      "source": [
        "df3['link'] = df3.apply(lambda row: count(row['URL']), axis=1)\n",
        "df3['length'] = df3.apply(lambda row: url_length(row['URL']), axis=1)\n",
        "df3['phishtank'] = df3.apply(lambda row: phishtank_check(row['URL']), axis=1)\n",
        "df3['domain'] = df3.apply(lambda row: domain_check(row['URL']), axis=1)\n",
        "df3['ip_address'] = df3.apply(lambda row: ip_check(row['URL']), axis=1)\n",
        "df3['attherate'] = df3.apply(lambda row: url_character_check(row['URL']), axis=1)\n",
        "df3['form_tag'] = df3.apply(lambda row: form_tag_check(row['URL']), axis=1)"
      ],
      "metadata": {
        "id": "2deBj3prdUgR",
        "colab": {
          "base_uri": "https://localhost:8080/"
        },
        "outputId": "1b1d0d05-aee4-465b-f1d5-b271a96ee876"
      },
      "execution_count": null,
      "outputs": [
        {
          "output_type": "stream",
          "name": "stdout",
          "text": [
            "Error trying to connect to socket: closing socket - timed out\n"
          ]
        }
      ]
    },
    {
      "cell_type": "code",
      "source": [
        "df3.head(10)"
      ],
      "metadata": {
        "colab": {
          "base_uri": "https://localhost:8080/",
          "height": 363
        },
        "id": "IS2oywamMbZS",
        "outputId": "1cf1c4f2-b754-47ce-b902-4da0dd3f376e"
      },
      "execution_count": null,
      "outputs": [
        {
          "output_type": "execute_result",
          "data": {
            "text/plain": [
              "                                             URL  Label_bad  link  length  \\\n",
              "0              outaplaceshave.cn/krp3cmg/images/        1.0     1       0   \n",
              "1                  ebayisapidlld.altervista.org/        1.0     1       0   \n",
              "2                           javaupdatecache.com/        1.0     1       0   \n",
              "3                  lopertopgo.su/krp3cmg/images/        1.0     1       0   \n",
              "4          promusic.co/components/interbank.com/        1.0     1       0   \n",
              "5            wreathsacrossamerica.org/locations/        0.0     1       0   \n",
              "6                     goyanok.at/krp3cmg/images/        1.0     1       0   \n",
              "7   worldswithoutend.com/books_Locus-F_index.asp        0.0     1       0   \n",
              "8  worldswithoutend.com/books_Locus-SF_index.asp        0.0     1       0   \n",
              "9                  therepalon.su/krp3cmg/images/        1.0     1       0   \n",
              "\n",
              "   phishtank  domain  ip_address  attherate  form_tag  \n",
              "0        0.5       1           0          0         1  \n",
              "1        0.5       1           0          0         1  \n",
              "2        0.5       1           0          0         1  \n",
              "3        0.5       1           0          0         1  \n",
              "4        0.5       1           0          0         1  \n",
              "5        0.5       0           0          0         1  \n",
              "6        0.5       1           0          0         1  \n",
              "7        0.5       0           0          0         1  \n",
              "8        0.5       0           0          0         1  \n",
              "9        0.5       1           0          0         1  "
            ],
            "text/html": [
              "\n",
              "  <div id=\"df-114320f8-7121-4e76-b0fd-32081a26dde6\">\n",
              "    <div class=\"colab-df-container\">\n",
              "      <div>\n",
              "<style scoped>\n",
              "    .dataframe tbody tr th:only-of-type {\n",
              "        vertical-align: middle;\n",
              "    }\n",
              "\n",
              "    .dataframe tbody tr th {\n",
              "        vertical-align: top;\n",
              "    }\n",
              "\n",
              "    .dataframe thead th {\n",
              "        text-align: right;\n",
              "    }\n",
              "</style>\n",
              "<table border=\"1\" class=\"dataframe\">\n",
              "  <thead>\n",
              "    <tr style=\"text-align: right;\">\n",
              "      <th></th>\n",
              "      <th>URL</th>\n",
              "      <th>Label_bad</th>\n",
              "      <th>link</th>\n",
              "      <th>length</th>\n",
              "      <th>phishtank</th>\n",
              "      <th>domain</th>\n",
              "      <th>ip_address</th>\n",
              "      <th>attherate</th>\n",
              "      <th>form_tag</th>\n",
              "    </tr>\n",
              "  </thead>\n",
              "  <tbody>\n",
              "    <tr>\n",
              "      <th>0</th>\n",
              "      <td>outaplaceshave.cn/krp3cmg/images/</td>\n",
              "      <td>1.0</td>\n",
              "      <td>1</td>\n",
              "      <td>0</td>\n",
              "      <td>0.5</td>\n",
              "      <td>1</td>\n",
              "      <td>0</td>\n",
              "      <td>0</td>\n",
              "      <td>1</td>\n",
              "    </tr>\n",
              "    <tr>\n",
              "      <th>1</th>\n",
              "      <td>ebayisapidlld.altervista.org/</td>\n",
              "      <td>1.0</td>\n",
              "      <td>1</td>\n",
              "      <td>0</td>\n",
              "      <td>0.5</td>\n",
              "      <td>1</td>\n",
              "      <td>0</td>\n",
              "      <td>0</td>\n",
              "      <td>1</td>\n",
              "    </tr>\n",
              "    <tr>\n",
              "      <th>2</th>\n",
              "      <td>javaupdatecache.com/</td>\n",
              "      <td>1.0</td>\n",
              "      <td>1</td>\n",
              "      <td>0</td>\n",
              "      <td>0.5</td>\n",
              "      <td>1</td>\n",
              "      <td>0</td>\n",
              "      <td>0</td>\n",
              "      <td>1</td>\n",
              "    </tr>\n",
              "    <tr>\n",
              "      <th>3</th>\n",
              "      <td>lopertopgo.su/krp3cmg/images/</td>\n",
              "      <td>1.0</td>\n",
              "      <td>1</td>\n",
              "      <td>0</td>\n",
              "      <td>0.5</td>\n",
              "      <td>1</td>\n",
              "      <td>0</td>\n",
              "      <td>0</td>\n",
              "      <td>1</td>\n",
              "    </tr>\n",
              "    <tr>\n",
              "      <th>4</th>\n",
              "      <td>promusic.co/components/interbank.com/</td>\n",
              "      <td>1.0</td>\n",
              "      <td>1</td>\n",
              "      <td>0</td>\n",
              "      <td>0.5</td>\n",
              "      <td>1</td>\n",
              "      <td>0</td>\n",
              "      <td>0</td>\n",
              "      <td>1</td>\n",
              "    </tr>\n",
              "    <tr>\n",
              "      <th>5</th>\n",
              "      <td>wreathsacrossamerica.org/locations/</td>\n",
              "      <td>0.0</td>\n",
              "      <td>1</td>\n",
              "      <td>0</td>\n",
              "      <td>0.5</td>\n",
              "      <td>0</td>\n",
              "      <td>0</td>\n",
              "      <td>0</td>\n",
              "      <td>1</td>\n",
              "    </tr>\n",
              "    <tr>\n",
              "      <th>6</th>\n",
              "      <td>goyanok.at/krp3cmg/images/</td>\n",
              "      <td>1.0</td>\n",
              "      <td>1</td>\n",
              "      <td>0</td>\n",
              "      <td>0.5</td>\n",
              "      <td>1</td>\n",
              "      <td>0</td>\n",
              "      <td>0</td>\n",
              "      <td>1</td>\n",
              "    </tr>\n",
              "    <tr>\n",
              "      <th>7</th>\n",
              "      <td>worldswithoutend.com/books_Locus-F_index.asp</td>\n",
              "      <td>0.0</td>\n",
              "      <td>1</td>\n",
              "      <td>0</td>\n",
              "      <td>0.5</td>\n",
              "      <td>0</td>\n",
              "      <td>0</td>\n",
              "      <td>0</td>\n",
              "      <td>1</td>\n",
              "    </tr>\n",
              "    <tr>\n",
              "      <th>8</th>\n",
              "      <td>worldswithoutend.com/books_Locus-SF_index.asp</td>\n",
              "      <td>0.0</td>\n",
              "      <td>1</td>\n",
              "      <td>0</td>\n",
              "      <td>0.5</td>\n",
              "      <td>0</td>\n",
              "      <td>0</td>\n",
              "      <td>0</td>\n",
              "      <td>1</td>\n",
              "    </tr>\n",
              "    <tr>\n",
              "      <th>9</th>\n",
              "      <td>therepalon.su/krp3cmg/images/</td>\n",
              "      <td>1.0</td>\n",
              "      <td>1</td>\n",
              "      <td>0</td>\n",
              "      <td>0.5</td>\n",
              "      <td>1</td>\n",
              "      <td>0</td>\n",
              "      <td>0</td>\n",
              "      <td>1</td>\n",
              "    </tr>\n",
              "  </tbody>\n",
              "</table>\n",
              "</div>\n",
              "      <button class=\"colab-df-convert\" onclick=\"convertToInteractive('df-114320f8-7121-4e76-b0fd-32081a26dde6')\"\n",
              "              title=\"Convert this dataframe to an interactive table.\"\n",
              "              style=\"display:none;\">\n",
              "        \n",
              "  <svg xmlns=\"http://www.w3.org/2000/svg\" height=\"24px\"viewBox=\"0 0 24 24\"\n",
              "       width=\"24px\">\n",
              "    <path d=\"M0 0h24v24H0V0z\" fill=\"none\"/>\n",
              "    <path d=\"M18.56 5.44l.94 2.06.94-2.06 2.06-.94-2.06-.94-.94-2.06-.94 2.06-2.06.94zm-11 1L8.5 8.5l.94-2.06 2.06-.94-2.06-.94L8.5 2.5l-.94 2.06-2.06.94zm10 10l.94 2.06.94-2.06 2.06-.94-2.06-.94-.94-2.06-.94 2.06-2.06.94z\"/><path d=\"M17.41 7.96l-1.37-1.37c-.4-.4-.92-.59-1.43-.59-.52 0-1.04.2-1.43.59L10.3 9.45l-7.72 7.72c-.78.78-.78 2.05 0 2.83L4 21.41c.39.39.9.59 1.41.59.51 0 1.02-.2 1.41-.59l7.78-7.78 2.81-2.81c.8-.78.8-2.07 0-2.86zM5.41 20L4 18.59l7.72-7.72 1.47 1.35L5.41 20z\"/>\n",
              "  </svg>\n",
              "      </button>\n",
              "      \n",
              "  <style>\n",
              "    .colab-df-container {\n",
              "      display:flex;\n",
              "      flex-wrap:wrap;\n",
              "      gap: 12px;\n",
              "    }\n",
              "\n",
              "    .colab-df-convert {\n",
              "      background-color: #E8F0FE;\n",
              "      border: none;\n",
              "      border-radius: 50%;\n",
              "      cursor: pointer;\n",
              "      display: none;\n",
              "      fill: #1967D2;\n",
              "      height: 32px;\n",
              "      padding: 0 0 0 0;\n",
              "      width: 32px;\n",
              "    }\n",
              "\n",
              "    .colab-df-convert:hover {\n",
              "      background-color: #E2EBFA;\n",
              "      box-shadow: 0px 1px 2px rgba(60, 64, 67, 0.3), 0px 1px 3px 1px rgba(60, 64, 67, 0.15);\n",
              "      fill: #174EA6;\n",
              "    }\n",
              "\n",
              "    [theme=dark] .colab-df-convert {\n",
              "      background-color: #3B4455;\n",
              "      fill: #D2E3FC;\n",
              "    }\n",
              "\n",
              "    [theme=dark] .colab-df-convert:hover {\n",
              "      background-color: #434B5C;\n",
              "      box-shadow: 0px 1px 3px 1px rgba(0, 0, 0, 0.15);\n",
              "      filter: drop-shadow(0px 1px 2px rgba(0, 0, 0, 0.3));\n",
              "      fill: #FFFFFF;\n",
              "    }\n",
              "  </style>\n",
              "\n",
              "      <script>\n",
              "        const buttonEl =\n",
              "          document.querySelector('#df-114320f8-7121-4e76-b0fd-32081a26dde6 button.colab-df-convert');\n",
              "        buttonEl.style.display =\n",
              "          google.colab.kernel.accessAllowed ? 'block' : 'none';\n",
              "\n",
              "        async function convertToInteractive(key) {\n",
              "          const element = document.querySelector('#df-114320f8-7121-4e76-b0fd-32081a26dde6');\n",
              "          const dataTable =\n",
              "            await google.colab.kernel.invokeFunction('convertToInteractive',\n",
              "                                                     [key], {});\n",
              "          if (!dataTable) return;\n",
              "\n",
              "          const docLinkHtml = 'Like what you see? Visit the ' +\n",
              "            '<a target=\"_blank\" href=https://colab.research.google.com/notebooks/data_table.ipynb>data table notebook</a>'\n",
              "            + ' to learn more about interactive tables.';\n",
              "          element.innerHTML = '';\n",
              "          dataTable['output_type'] = 'display_data';\n",
              "          await google.colab.output.renderOutput(dataTable, element);\n",
              "          const docLink = document.createElement('div');\n",
              "          docLink.innerHTML = docLinkHtml;\n",
              "          element.appendChild(docLink);\n",
              "        }\n",
              "      </script>\n",
              "    </div>\n",
              "  </div>\n",
              "  "
            ]
          },
          "metadata": {},
          "execution_count": 41
        }
      ]
    },
    {
      "cell_type": "code",
      "source": [
        "# Import the model we are using\n",
        "from sklearn.ensemble import RandomForestRegressor\n",
        "# Instantiate model with 1000 decision trees\n",
        "rf = RandomForestRegressor(n_estimators = 20, random_state = 42)"
      ],
      "metadata": {
        "id": "BrKsiBJUdgEk"
      },
      "execution_count": null,
      "outputs": []
    },
    {
      "cell_type": "code",
      "source": [
        "# Use numpy to convert to arrays\n",
        "import numpy as np\n",
        "# Labels are the values we want to predict\n",
        "labels = np.array(df3['Label_bad'])\n",
        "# axis 1 refers to the columns\n",
        "df4 = df3.drop(['URL'], axis = 1)\n",
        "features= df4.drop(['Label_bad'], axis = 1)\n",
        "# Saving feature names for later use\n",
        "feature_list = list(features.columns)\n",
        "# Convert to numpy array\n",
        "features = np.array(features)"
      ],
      "metadata": {
        "id": "nxYsmT3EdiAh"
      },
      "execution_count": null,
      "outputs": []
    },
    {
      "cell_type": "code",
      "source": [
        "# Using Skicit-learn to split data into training and testing sets\n",
        "from sklearn.model_selection import train_test_split\n",
        "# Split the data into training and testing sets\n",
        "train_features, test_features, train_labels, test_labels = train_test_split(features, labels, test_size = 0.25, random_state = 42)"
      ],
      "metadata": {
        "id": "mB9JrQPBdkHa"
      },
      "execution_count": null,
      "outputs": []
    },
    {
      "cell_type": "code",
      "source": [
        "# Train the model on training data\n",
        "rf.fit(train_features, train_labels);"
      ],
      "metadata": {
        "id": "v4hmkqDgdmLQ"
      },
      "execution_count": null,
      "outputs": []
    },
    {
      "cell_type": "code",
      "source": [
        "predictions = rf.predict(test_features)"
      ],
      "metadata": {
        "id": "nkCh2FrZdnwN"
      },
      "execution_count": null,
      "outputs": []
    },
    {
      "cell_type": "code",
      "source": [
        "# Calculate the absolute errors\n",
        "errors = abs(predictions - test_labels)\n",
        "# Print out the mean absolute error (mae)\n",
        "mae = round(np.mean(errors),2)\n",
        "print('Mean Absolute Error:', mae)"
      ],
      "metadata": {
        "id": "cOtgt6PddoXF",
        "colab": {
          "base_uri": "https://localhost:8080/"
        },
        "outputId": "0ef63a8c-b329-49e0-cd04-2604fb562bbe"
      },
      "execution_count": null,
      "outputs": [
        {
          "output_type": "stream",
          "name": "stdout",
          "text": [
            "Mean Absolute Error: 0.34\n"
          ]
        }
      ]
    },
    {
      "cell_type": "code",
      "source": [
        "# Calculate mean absolute percentage error (MAPE)\n",
        "mape = (mae / len(test_labels))*100\n",
        "# Calculate and display accuracy\n",
        "accuracy = 100 - np.mean(mape)\n",
        "print('Accuracy:', round(accuracy, 2), '%.')"
      ],
      "metadata": {
        "id": "z4BAe14bdqWA",
        "colab": {
          "base_uri": "https://localhost:8080/"
        },
        "outputId": "fc5205bd-c6a2-4004-f728-5a159c175712"
      },
      "execution_count": null,
      "outputs": [
        {
          "output_type": "stream",
          "name": "stdout",
          "text": [
            "Accuracy: 98.64 %.\n"
          ]
        }
      ]
    },
    {
      "cell_type": "markdown",
      "source": [
        "Actual Check"
      ],
      "metadata": {
        "id": "ny8CPUYpAdf2"
      }
    },
    {
      "cell_type": "code",
      "source": [
        "url = []\n",
        "for msg in text1:\n",
        "  link = re.findall('https?://.*', msg)\n",
        "  for i in link:\n",
        "    m = ''\n",
        "    for j in i:\n",
        "      if j != ' ':\n",
        "        m += j\n",
        "      else:\n",
        "        break\n",
        "    print(m)\n",
        "    url.append(m)\n",
        "url = [*set(url)]  "
      ],
      "metadata": {
        "id": "aQYfU25_OgzF",
        "colab": {
          "base_uri": "https://localhost:8080/"
        },
        "outputId": "05c133c2-7b99-497a-91a0-248c5293e76a"
      },
      "execution_count": null,
      "outputs": [
        {
          "output_type": "stream",
          "name": "stdout",
          "text": [
            "https://d2mwGW04.na1.hubspotlinks.com/Ctc/LZ+113/d2mwGW04/VWmzK75btGkTW4_PK-74jVvgJW7HlLKX4WQsNZN1xVmZL3pl37V1-WJV7CgRc6W1ZQQXl1HF0FhW2Tj3KK8nKCxLW5M76lM65CsGkN2_ZkC6Zn5sVW6T8Vd93BNbbhW6qxF8k7QJ5QqW6LlFRs4T0zY-W2W81D55rPQ28W8ZTqmy4fdx0ZW1nx48C1d-4G0W2WdcnZ6KBbFqN982C9jH8VnkW276_d92lmqSKW6XrDB07mcNthW91-Zl29f16vvW9dt-_H2_wK9FW5qfRM-7t4szlW17FyTF86_lD0W8gZBxS3gMl38W67LPHc6ck5XYW1B0Flv6ZM5d5W2pBcqK76Xc1vVwbwRG3RpDnrW8bKRRb8QfdTDN8N5C9Mv1PvzW5XPZXK7n__2331yM1\n",
            "https://d2mwGW04.na1.hubspotlinks.com/Ctc/LZ+113/d2mwGW04/VWmzK75btGkTW4_PK-74jVvgJW7HlLKX4WQsNZN1xVmZL3pl37V1-WJV7CgHldV6z2zJ6gcfFfVRjD6P1ZfFRvW4mVNkY8ZglQ-W1D9XDP5tSBvWW8vT-tt3LkffQW6ymwSj7YhTJSW8CF_CC9k1M0xW4N1Xw35jNXNfW5t93pg4MW5bGW35lhRr6pPNyVW7YvqjQ4dCkHJVyCb9b7rh95dW4HrGMd1Rcz5PW60VC4P97G_jcW2MYrvs4y5yHqVyR3l76zTF3FW1fFfkt2V6Y3SVnnsxh21j6ycW6gwzjf17WsHpW5WX-_j5-xr1DW8t2-TN8ZVv1nN5mKSqPbdvwVW2b5VYQ7zkckFW30C5c335SXZyW1Jx_FQ72g8nvW9hgHPd41lWtg360z1\n",
            "https://d2mwGW04.na1.hubspotlinks.com/Ctc/LZ+113/d2mwGW04/VWmzK75btGkTW4_PK-74jVvgJW7HlLKX4WQsNZN1xVmZr3pl2SV1-WJV7CgLcmW3DSx8V6cHlwqN53mtsXZTKPkW7ZDTPw63fkNGW3jVHZK97S21mW1wyPsS6v9NR8W3C15CF5jljbLW6KCrgP1mKmSNW6r9kT1326mN3W1cgNkB7lFPzKW91ffRB5kpsrKW3zwhQj4DpPx3W3NQp_l35fp_cW4_jz1K8bQMQsW5SyvSw10SkrMW5SFx853f26GNW3LKxmF3rY_X5W7CW_2S7-DGs_W861nc174NnhnW2C2t4n1pqsX3W2HF4fY4352b2W8WtxKr2p5tLJW2QNynK5Yqb-JW8Rnk5m3k25dyW5nSBtN1bVxC03jzV1\n",
            "https://d2mwGW04.na1.hubspotlinks.com/Ctc/LZ+113/d2mwGW04/VWmzK75btGkTW4_PK-74jVvgJW7HlLKX4WQsNZN1xVmZL3pl37V1-WJV7CgTyPW7mwSzj7y6XhxN8jt255V159GW4MLW8H932GWZW7ZK2x45ykkwHW7sQ95X28fFJQN7_hFv8Vq5Z_W8Ycy5g6pkfpWW19VtlB8MgQckW1g482v8VRj_jW5gXYCZ1p3Q14W6D8bNR6Qw3TzW7MMbGn5SMjMHW19lk-p7l0c0sW6Fngzx7Zx2dvW8xyrF-1bDLCFV1tDW89flYcWW8rpLwl6qcvJcW2vkyPF35c7ZKV48sFh7XhrrNN4tSMwrNN6XzW7JqhzT4KmLQ5W7QLQM61--qwKW5NwP_-5lBkBqW15b01z8tlkMDVtFjly8m12w0W1WZRDm21sx0B37MW1\n",
            "https://d2mwGW04.na1.hubspotlinks.com/Ctc/LZ+113/d2mwGW04/VWmzK75btGkTW4_PK-74jVvgJW7HlLKX4WQsNZN1xVmZr3pl2SV1-WJV7CgzNGV-Sg864tjTcvW9kJSZr1frHg9W59TQz_5tW2ybN2xnZ3Nd5VxRN6WN7G_3SR9dW867gNc5qvVpdW5gwtr36JYcB9W7gr5SN8WSD06W7mfbNd4H9FvkW6hyGQw2Wr5xtW8lmLq01T3CVNW908R_m34LLwBW1kXPGx81d4CKW59G_CY3nlSDxW343p_n46wFBFN4ZkxnHhr0RDW3bcxmG1Klnn5N9g9gLFxRLqWN3dtZwnr8lW1W8M_K2l42FlNQN2Wf_BJVSH7_VMRD0q1mDw_VW8Zr-4R8yWVRtW8SmDXT1x_-ZP369Q1\n",
            "https://d2mwGW04.na1.hubspotlinks.com/Ctc/LZ+113/d2mwGW04/VWmzK75btGkTW4_PK-74jVvgJW7HlLKX4WQsNZN1xVmZL3pl37V1-WJV7CgRc6W1ZQQXl1HF0FhW2Tj3KK8nKCxLW5M76lM65CsGkN2_ZkC6Zn5sVW6T8Vd93BNbbhW6qxF8k7QJ5QqW6LlFRs4T0zY-W2W81D55rPQ28W8ZTqmy4fdx0ZW1nx48C1d-4G0W2WdcnZ6KBbFqN982C9jH8VnkW276_d92lmqSKW6XrDB07mcNthW91-Zl29f16vvW9dt-_H2_wK9FW5qfRM-7t4szlW17FyTF86_lD0W8gZBxS3gMl38W67LPHc6ck5XYW1B0Flv6ZM5d5W2pBcqK76Xc1vVwbwRG3RpDnrW8bKRRb8QfdTDN8N5C9Mv1PvzW5XPZXK7n__2331yM1\n",
            "https://d2mwGW04.na1.hubspotlinks.com/Ctc/LZ+113/d2mwGW04/VWmzK75btGkTW4_PK-74jVvgJW7HlLKX4WQsNZN1xVmZr3pl2SV1-WJV7CgHs-W5BF3N11BVkmvW6cY9fW3hqhR0W1g4s_K5s3msKW8T5Zw68xry3SW8vRBfS4Ypjd0W4vJyRk6dhHbvW6R91Ng3W5-tVW2wLxXL38YY4zW8hDnLM2NWLYjW5PR2pt3f3tz3N1XfDt9yvnt5W7PK-H76RDTQVW3FSg-V7lPFlrW7ZQggc5yvk7WW424-dr1FMcz6W92G_6X7_TwhtVd86DZ5vVP2gVFPRsd7gzSs9W3RGLhZ3JSxnSW4xvbJf4N2kskW1V2V1t8WffbbW939Mg96ql5gBW3flckZ8PXF48W4_zjds3rw_vY363_1\n",
            "https://d2mwGW04.na1.hubspotlinks.com/Ctc/LZ+113/d2mwGW04/VWmzK75btGkTW4_PK-74jVvgJW7HlLKX4WQsNZN1xVm-13pl3rV1-WJV7CgCyDW40YH2l6JSs6vVfjvrj1FzYgJW4YxjY84M7PVmW3c63KD28DsHFN57NCS0M3dQcW1S8Z435kkBt8W8F4PwR4qfZWkW7HYCJT8114WvN42pMzFlBsWgW4Rb32g359sCWW6s8X-M6Y1pJjVVB9zR7D-lgcW5LnZs987xzz3W1hg3k69b7bRtW6hWY-X1LG8JbW8JD0YW6DwhlQW95Drpg8pS7DTW14RG8Q3_WxZMW5Tbn8P33JkmQW2BqJm03NJzlJW3NpF6K1pHqTtW3L3CY74gbgMlW4w8qjt5DkCPhN2nGwXHdx6k-W1xwh2x4PC1-mVpcYmj3VHWzhW1WglX817bv2MW4QC7FQ16sdVs33Jk1\n",
            "https://hs-20078598.s.hubspotemail.net/hs/manage-preferences/unsubscribe-all?languagePreference=en&d=VngbxK72nzT6VW6Wsf43X4SyW4fGBYD3T0pK8W3P3Q7w3ZsjYmW3_fQLS7jMpMwVmWFfx7Mgt7YN8LmFn425r4JW8-Q7JB8hLvL7VWH4fD6h7_2vMXk_7Qbw650W2cGffG2byr4gN7LVT9m1NNgz39Nq2&v=3&_hsenc=p2ANqtz-9buXxQV3ht8yuFsO-qPNzl5mOF86eTy8FoBlXANrw7Gpto_plMQC81BtkCm7qAOXXI6iIqRPpcx98MHAvYAx7OHVs9Yg&_hsmi=222923341\n",
            "https://hs-20078598.s.hubspotemail.net/hs/manage-preferences/unsubscribe?languagePreference=en&d=VngbxK72nzT6VW6Wsf43X4SyW4fGBYD3T0pK8W3P3Q7w3ZsjYmW3_fQLS7jMpMwVmWFfx7Mgt7YN8LmFn425r4JW8-Q7JB8hLvL7VWH4fD6h7_2vMXk_7Qbw650W2cGffG2byr4gN7LVT9m1NNgz39Nq2&v=3&_hsenc=p2ANqtz-9buXxQV3ht8yuFsO-qPNzl5mOF86eTy8FoBlXANrw7Gpto_plMQC81BtkCm7qAOXXI6iIqRPpcx98MHAvYAx7OHVs9Yg&_hsmi=222923341\n"
          ]
        }
      ]
    },
    {
      "cell_type": "code",
      "source": [
        "data = {'url': url}"
      ],
      "metadata": {
        "id": "HaDGKMwCMqgO"
      },
      "execution_count": null,
      "outputs": []
    },
    {
      "cell_type": "code",
      "source": [
        "udf = pd.DataFrame(data)"
      ],
      "metadata": {
        "id": "NP3rq4lVM3cV"
      },
      "execution_count": null,
      "outputs": []
    },
    {
      "cell_type": "code",
      "source": [
        "udf['link'] = udf.apply(lambda row: count(row['url']), axis=1)\n",
        "udf['length'] = udf.apply(lambda row: url_length(row['url']), axis=1)\n",
        "udf['phishtank'] = udf.apply(lambda row: phishtank_check(row['url']), axis=1)\n",
        "udf['domain'] = udf.apply(lambda row: domain_check(row['url']), axis=1)\n",
        "udf['ip_address'] = udf.apply(lambda row: ip_check(row['url']), axis=1)\n",
        "udf['attherate'] = udf.apply(lambda row: url_character_check(row['url']), axis=1)\n",
        "udf['form_tag'] = udf.apply(lambda row: form_tag_check(row['url']), axis=1)"
      ],
      "metadata": {
        "id": "gahQCAY-REhI"
      },
      "execution_count": null,
      "outputs": []
    },
    {
      "cell_type": "code",
      "source": [
        "udf.head(10)"
      ],
      "metadata": {
        "colab": {
          "base_uri": "https://localhost:8080/",
          "height": 331
        },
        "id": "QogkgMQSQ_Bu",
        "outputId": "e574152e-c87b-42c0-a972-1e8cc46590e3"
      },
      "execution_count": null,
      "outputs": [
        {
          "output_type": "execute_result",
          "data": {
            "text/plain": [
              "                                                 url  link  length  phishtank  \\\n",
              "0  https://d2mwGW04.na1.hubspotlinks.com/Ctc/LZ+1...     1       1        0.7   \n",
              "1  https://hs-20078598.s.hubspotemail.net/hs/mana...     1       1        0.7   \n",
              "2  https://d2mwGW04.na1.hubspotlinks.com/Ctc/LZ+1...     1       1        0.7   \n",
              "3  https://d2mwGW04.na1.hubspotlinks.com/Ctc/LZ+1...     1       1        0.7   \n",
              "4  https://d2mwGW04.na1.hubspotlinks.com/Ctc/LZ+1...     1       1        0.7   \n",
              "5  https://d2mwGW04.na1.hubspotlinks.com/Ctc/LZ+1...     1       1        0.7   \n",
              "6  https://d2mwGW04.na1.hubspotlinks.com/Ctc/LZ+1...     1       1        0.7   \n",
              "7  https://hs-20078598.s.hubspotemail.net/hs/mana...     1       1        0.7   \n",
              "8  https://d2mwGW04.na1.hubspotlinks.com/Ctc/LZ+1...     1       1        0.7   \n",
              "\n",
              "   domain  ip_address  attherate  form_tag  \n",
              "0       0           0          0         1  \n",
              "1       0           0          0         0  \n",
              "2       0           0          0         1  \n",
              "3       0           0          0         1  \n",
              "4       0           0          0         1  \n",
              "5       0           0          0         1  \n",
              "6       0           0          0         1  \n",
              "7       0           0          0         0  \n",
              "8       0           0          0         1  "
            ],
            "text/html": [
              "\n",
              "  <div id=\"df-c5b9ba16-4de8-4ac6-9eb0-bd35b6895263\">\n",
              "    <div class=\"colab-df-container\">\n",
              "      <div>\n",
              "<style scoped>\n",
              "    .dataframe tbody tr th:only-of-type {\n",
              "        vertical-align: middle;\n",
              "    }\n",
              "\n",
              "    .dataframe tbody tr th {\n",
              "        vertical-align: top;\n",
              "    }\n",
              "\n",
              "    .dataframe thead th {\n",
              "        text-align: right;\n",
              "    }\n",
              "</style>\n",
              "<table border=\"1\" class=\"dataframe\">\n",
              "  <thead>\n",
              "    <tr style=\"text-align: right;\">\n",
              "      <th></th>\n",
              "      <th>url</th>\n",
              "      <th>link</th>\n",
              "      <th>length</th>\n",
              "      <th>phishtank</th>\n",
              "      <th>domain</th>\n",
              "      <th>ip_address</th>\n",
              "      <th>attherate</th>\n",
              "      <th>form_tag</th>\n",
              "    </tr>\n",
              "  </thead>\n",
              "  <tbody>\n",
              "    <tr>\n",
              "      <th>0</th>\n",
              "      <td>https://d2mwGW04.na1.hubspotlinks.com/Ctc/LZ+1...</td>\n",
              "      <td>1</td>\n",
              "      <td>1</td>\n",
              "      <td>0.7</td>\n",
              "      <td>0</td>\n",
              "      <td>0</td>\n",
              "      <td>0</td>\n",
              "      <td>1</td>\n",
              "    </tr>\n",
              "    <tr>\n",
              "      <th>1</th>\n",
              "      <td>https://hs-20078598.s.hubspotemail.net/hs/mana...</td>\n",
              "      <td>1</td>\n",
              "      <td>1</td>\n",
              "      <td>0.7</td>\n",
              "      <td>0</td>\n",
              "      <td>0</td>\n",
              "      <td>0</td>\n",
              "      <td>0</td>\n",
              "    </tr>\n",
              "    <tr>\n",
              "      <th>2</th>\n",
              "      <td>https://d2mwGW04.na1.hubspotlinks.com/Ctc/LZ+1...</td>\n",
              "      <td>1</td>\n",
              "      <td>1</td>\n",
              "      <td>0.7</td>\n",
              "      <td>0</td>\n",
              "      <td>0</td>\n",
              "      <td>0</td>\n",
              "      <td>1</td>\n",
              "    </tr>\n",
              "    <tr>\n",
              "      <th>3</th>\n",
              "      <td>https://d2mwGW04.na1.hubspotlinks.com/Ctc/LZ+1...</td>\n",
              "      <td>1</td>\n",
              "      <td>1</td>\n",
              "      <td>0.7</td>\n",
              "      <td>0</td>\n",
              "      <td>0</td>\n",
              "      <td>0</td>\n",
              "      <td>1</td>\n",
              "    </tr>\n",
              "    <tr>\n",
              "      <th>4</th>\n",
              "      <td>https://d2mwGW04.na1.hubspotlinks.com/Ctc/LZ+1...</td>\n",
              "      <td>1</td>\n",
              "      <td>1</td>\n",
              "      <td>0.7</td>\n",
              "      <td>0</td>\n",
              "      <td>0</td>\n",
              "      <td>0</td>\n",
              "      <td>1</td>\n",
              "    </tr>\n",
              "    <tr>\n",
              "      <th>5</th>\n",
              "      <td>https://d2mwGW04.na1.hubspotlinks.com/Ctc/LZ+1...</td>\n",
              "      <td>1</td>\n",
              "      <td>1</td>\n",
              "      <td>0.7</td>\n",
              "      <td>0</td>\n",
              "      <td>0</td>\n",
              "      <td>0</td>\n",
              "      <td>1</td>\n",
              "    </tr>\n",
              "    <tr>\n",
              "      <th>6</th>\n",
              "      <td>https://d2mwGW04.na1.hubspotlinks.com/Ctc/LZ+1...</td>\n",
              "      <td>1</td>\n",
              "      <td>1</td>\n",
              "      <td>0.7</td>\n",
              "      <td>0</td>\n",
              "      <td>0</td>\n",
              "      <td>0</td>\n",
              "      <td>1</td>\n",
              "    </tr>\n",
              "    <tr>\n",
              "      <th>7</th>\n",
              "      <td>https://hs-20078598.s.hubspotemail.net/hs/mana...</td>\n",
              "      <td>1</td>\n",
              "      <td>1</td>\n",
              "      <td>0.7</td>\n",
              "      <td>0</td>\n",
              "      <td>0</td>\n",
              "      <td>0</td>\n",
              "      <td>0</td>\n",
              "    </tr>\n",
              "    <tr>\n",
              "      <th>8</th>\n",
              "      <td>https://d2mwGW04.na1.hubspotlinks.com/Ctc/LZ+1...</td>\n",
              "      <td>1</td>\n",
              "      <td>1</td>\n",
              "      <td>0.7</td>\n",
              "      <td>0</td>\n",
              "      <td>0</td>\n",
              "      <td>0</td>\n",
              "      <td>1</td>\n",
              "    </tr>\n",
              "  </tbody>\n",
              "</table>\n",
              "</div>\n",
              "      <button class=\"colab-df-convert\" onclick=\"convertToInteractive('df-c5b9ba16-4de8-4ac6-9eb0-bd35b6895263')\"\n",
              "              title=\"Convert this dataframe to an interactive table.\"\n",
              "              style=\"display:none;\">\n",
              "        \n",
              "  <svg xmlns=\"http://www.w3.org/2000/svg\" height=\"24px\"viewBox=\"0 0 24 24\"\n",
              "       width=\"24px\">\n",
              "    <path d=\"M0 0h24v24H0V0z\" fill=\"none\"/>\n",
              "    <path d=\"M18.56 5.44l.94 2.06.94-2.06 2.06-.94-2.06-.94-.94-2.06-.94 2.06-2.06.94zm-11 1L8.5 8.5l.94-2.06 2.06-.94-2.06-.94L8.5 2.5l-.94 2.06-2.06.94zm10 10l.94 2.06.94-2.06 2.06-.94-2.06-.94-.94-2.06-.94 2.06-2.06.94z\"/><path d=\"M17.41 7.96l-1.37-1.37c-.4-.4-.92-.59-1.43-.59-.52 0-1.04.2-1.43.59L10.3 9.45l-7.72 7.72c-.78.78-.78 2.05 0 2.83L4 21.41c.39.39.9.59 1.41.59.51 0 1.02-.2 1.41-.59l7.78-7.78 2.81-2.81c.8-.78.8-2.07 0-2.86zM5.41 20L4 18.59l7.72-7.72 1.47 1.35L5.41 20z\"/>\n",
              "  </svg>\n",
              "      </button>\n",
              "      \n",
              "  <style>\n",
              "    .colab-df-container {\n",
              "      display:flex;\n",
              "      flex-wrap:wrap;\n",
              "      gap: 12px;\n",
              "    }\n",
              "\n",
              "    .colab-df-convert {\n",
              "      background-color: #E8F0FE;\n",
              "      border: none;\n",
              "      border-radius: 50%;\n",
              "      cursor: pointer;\n",
              "      display: none;\n",
              "      fill: #1967D2;\n",
              "      height: 32px;\n",
              "      padding: 0 0 0 0;\n",
              "      width: 32px;\n",
              "    }\n",
              "\n",
              "    .colab-df-convert:hover {\n",
              "      background-color: #E2EBFA;\n",
              "      box-shadow: 0px 1px 2px rgba(60, 64, 67, 0.3), 0px 1px 3px 1px rgba(60, 64, 67, 0.15);\n",
              "      fill: #174EA6;\n",
              "    }\n",
              "\n",
              "    [theme=dark] .colab-df-convert {\n",
              "      background-color: #3B4455;\n",
              "      fill: #D2E3FC;\n",
              "    }\n",
              "\n",
              "    [theme=dark] .colab-df-convert:hover {\n",
              "      background-color: #434B5C;\n",
              "      box-shadow: 0px 1px 3px 1px rgba(0, 0, 0, 0.15);\n",
              "      filter: drop-shadow(0px 1px 2px rgba(0, 0, 0, 0.3));\n",
              "      fill: #FFFFFF;\n",
              "    }\n",
              "  </style>\n",
              "\n",
              "      <script>\n",
              "        const buttonEl =\n",
              "          document.querySelector('#df-c5b9ba16-4de8-4ac6-9eb0-bd35b6895263 button.colab-df-convert');\n",
              "        buttonEl.style.display =\n",
              "          google.colab.kernel.accessAllowed ? 'block' : 'none';\n",
              "\n",
              "        async function convertToInteractive(key) {\n",
              "          const element = document.querySelector('#df-c5b9ba16-4de8-4ac6-9eb0-bd35b6895263');\n",
              "          const dataTable =\n",
              "            await google.colab.kernel.invokeFunction('convertToInteractive',\n",
              "                                                     [key], {});\n",
              "          if (!dataTable) return;\n",
              "\n",
              "          const docLinkHtml = 'Like what you see? Visit the ' +\n",
              "            '<a target=\"_blank\" href=https://colab.research.google.com/notebooks/data_table.ipynb>data table notebook</a>'\n",
              "            + ' to learn more about interactive tables.';\n",
              "          element.innerHTML = '';\n",
              "          dataTable['output_type'] = 'display_data';\n",
              "          await google.colab.output.renderOutput(dataTable, element);\n",
              "          const docLink = document.createElement('div');\n",
              "          docLink.innerHTML = docLinkHtml;\n",
              "          element.appendChild(docLink);\n",
              "        }\n",
              "      </script>\n",
              "    </div>\n",
              "  </div>\n",
              "  "
            ]
          },
          "metadata": {},
          "execution_count": 53
        }
      ]
    },
    {
      "cell_type": "code",
      "source": [
        "features= udf.drop(['url'], axis = 1)\n",
        "# Saving feature names for later use\n",
        "feature_list = list(features.columns)\n",
        "# Convert to numpy array\n",
        "features = np.array(features)"
      ],
      "metadata": {
        "id": "8WKIjBWARefC"
      },
      "execution_count": null,
      "outputs": []
    },
    {
      "cell_type": "code",
      "source": [
        "predictions = rf.predict(features)"
      ],
      "metadata": {
        "id": "gG_4p6GBRqc8"
      },
      "execution_count": null,
      "outputs": []
    },
    {
      "cell_type": "code",
      "source": [
        "print(predictions)"
      ],
      "metadata": {
        "colab": {
          "base_uri": "https://localhost:8080/"
        },
        "id": "9brM0b4oX3Ow",
        "outputId": "90e52b94-359c-4cde-e99f-5052b2146d62"
      },
      "execution_count": null,
      "outputs": [
        {
          "output_type": "stream",
          "name": "stdout",
          "text": [
            "[1. 1. 1. 1. 1. 1. 1. 1. 1.]\n"
          ]
        }
      ]
    },
    {
      "cell_type": "code",
      "source": [
        "url_check_result = np.sum(predictions)/len(predictions)"
      ],
      "metadata": {
        "id": "Ox3rLmrBR2-z"
      },
      "execution_count": null,
      "outputs": []
    },
    {
      "cell_type": "code",
      "source": [
        "url_check_result"
      ],
      "metadata": {
        "colab": {
          "base_uri": "https://localhost:8080/"
        },
        "id": "Izk9NFA3R28d",
        "outputId": "854e6d71-2536-4455-872b-7d6e8950e960"
      },
      "execution_count": null,
      "outputs": [
        {
          "output_type": "execute_result",
          "data": {
            "text/plain": [
              "1.0"
            ]
          },
          "metadata": {},
          "execution_count": 58
        }
      ]
    },
    {
      "cell_type": "markdown",
      "metadata": {
        "id": "JwNdYl6BIuIQ"
      },
      "source": [
        "# File Attachment check"
      ]
    },
    {
      "cell_type": "code",
      "execution_count": null,
      "metadata": {
        "colab": {
          "base_uri": "https://localhost:8080/"
        },
        "id": "YvSjU1Sm-XJ9",
        "outputId": "ff4fbace-f80f-4225-8602-b3a6ea7f385b"
      },
      "outputs": [
        {
          "output_type": "stream",
          "name": "stdout",
          "text": [
            "['9b7546a541ab380cac91f2ae09cde6fd.png']\n"
          ]
        }
      ],
      "source": [
        "print(attachment)"
      ]
    },
    {
      "cell_type": "code",
      "source": [
        "phishing = ['.7z', '.application', '.appref-ms', '.appxbundle', '.arj', '.asd', '.bgi', '.bz2', '.cab', '.daa', '.desktopthemepackfile', '.doc', '.docm', '.dot', '.dotm', '.eml', '.gadget', '.gz', '.htm', '.html', '.hwpx', '.ics', '.img', '.iqy', '.jnlp', '.library-ms', '.lnk', '.mam', '.mht', '.html', '.msrcincident', '.odt', '.oxps', '.pdf', '.pot', '.potm', '.ppa', '.ppam', '.pps', '.ppsm', '.ppt', '.pub', '.rar', '.rtf', '.scf', '.searchConnector-ms', '.settingcontents-ms', '.sldm', '.slk', '.svg', '.tar', '.theme', '.themepack', '.url', '.uue', '.wbk', '.website', '.wim', '.wiz', '.xlam', '.xll', '.xlm', '.xls', '.xlsb', '.xlsm', '.xlt', '.xltm', '.xps', '.xz', '.z', '.zip']"
      ],
      "metadata": {
        "id": "IeUaz91zQkxF"
      },
      "execution_count": null,
      "outputs": []
    },
    {
      "cell_type": "code",
      "source": [
        "executable = ['.a3x', '.appinstaller', '.applescript', '.application', '.appref-ms', '.appx', '.appxbundle', '.bat', '.chm', '.cmd', '.com', '.cpl', '.cs', '.daa', '.diagcab', '.dll', '.dmg', '.exe', '.gadget', '.hta', '.img', '.iso', '.jar', '.jnlp', '.js', '.jse', '.lnk', '.mam', '.msi', '.ocx', '.pif', '.ppa', '.ppam', '.ppkg', '.ps1', '.py', '.pyc', '.pyo', '.pyw', '.pyz', '.pyzw', '.scpt', '.scr', '.service', '.settingcontent-ms', '.sh', '.so', '.timer', '.vb', '.vbe', '.vbs', '.wim', '.ws', '.wsf', '.wsh', '.xlam', '.xll']"
      ],
      "metadata": {
        "id": "PA8tItlLQu_h"
      },
      "execution_count": null,
      "outputs": []
    },
    {
      "cell_type": "code",
      "source": [
        "file_archiver = ['.7z', '.arj', '.bz2', '.cab', '.daa', '.gadget', '.gz', '.rar', '.tar', '.uue', '.vhd', '.vhdx', '.wim', '.xz', '.z', '.zip']"
      ],
      "metadata": {
        "id": "VqNIx-fxQx4q"
      },
      "execution_count": null,
      "outputs": []
    },
    {
      "cell_type": "code",
      "source": [
        "script = ['.a3x', '.bat', '.bgi', '.cmd', '.hta', '.htm', ',html', '.js', '.jse', '.mht', '.mhtml', '.mof', '.pdf', '.ps1', '.py', '.pyc', '.pyo', '.pyw', '.pyz', '.pyzx', '.scpt', '.sct', '.service', '.sh', '.svg', '.vb', '.vbs', '.vbe', '.ws', '.wsf', '.wsh', '.xsl']"
      ],
      "metadata": {
        "id": "eP_cRBLpQyMZ"
      },
      "execution_count": null,
      "outputs": []
    },
    {
      "cell_type": "code",
      "source": [
        "double_click = ['.appinstaller', '.application', '.appref-ms', '.appx', '.appxbundle', '.asd', '.bat', '.bz2', '.chm', '.cmd', '.com', '.cpl', '.desktopthemepackfile', '.diagcab', '.dmg', '.doc', '.docm', '.dot', '.dotm', '.exe', '.gadget', '.gz', '.hta', '.htm', '.html', '.ics', '.img', '.iqy', '.iso' '.jnlp', '.js', '.jse', '.lnk', '.mam', '.mht', '.mhtml', '.msc', '.msi', '.odt', '.oxps', '.pdf', '.pot', '.potm', '.pps', '.ppsm', '.ppt', '.pptm', '.pub', '.reg', '.rtf', '.scr', '.settingcontent-ms', '.sh', '.sldm', '.slk', '.svg', '.tar', '.theme', '.themepark', '.url', '.uue', '.vbe', '.vbs', '.wbk', '.website', '.wsf', '.wsh', '.xll', '.xlm', '.xls', '.xlsb', '.xlsm', '.xls', '.xlt', '.xltm', '.xps', '.xps', '.zip']"
      ],
      "metadata": {
        "id": "aKn_o8atQzXr"
      },
      "execution_count": null,
      "outputs": []
    },
    {
      "cell_type": "code",
      "source": [
        "macros = ['.asd', '.doc', '.docm', '.docm', '.dot', '.pot', '.potm', '.pps', '.ppsm', '.ppt', '.pub', '.sldm', '.slk', '.wbk', '.xlam', '.xlm', '.xlsm', '.xlsb', '.xlt', '.xltm', '.xls']"
      ],
      "metadata": {
        "id": "vTthiIWuQ1fK"
      },
      "execution_count": null,
      "outputs": []
    },
    {
      "cell_type": "code",
      "source": [
        "def executable_check(p):\n",
        "  if p in executable:\n",
        "    return 1\n",
        "  else:\n",
        "    return 0"
      ],
      "metadata": {
        "id": "bmWlfUIcirZG"
      },
      "execution_count": null,
      "outputs": []
    },
    {
      "cell_type": "code",
      "source": [
        "def phishing_check(p):\n",
        "  if p in phishing:\n",
        "    return 1\n",
        "  else:\n",
        "    return 0"
      ],
      "metadata": {
        "id": "hx2h7myPiwwJ"
      },
      "execution_count": null,
      "outputs": []
    },
    {
      "cell_type": "code",
      "source": [
        "def macros_check(p):\n",
        "  if p in macros:\n",
        "    return 1\n",
        "  else:\n",
        "    return 0"
      ],
      "metadata": {
        "id": "lZ9PZor0i_rJ"
      },
      "execution_count": null,
      "outputs": []
    },
    {
      "cell_type": "code",
      "source": [
        "def double_click_check(p):\n",
        "  if p in double_click:\n",
        "    return 1\n",
        "  else: \n",
        "    return 0"
      ],
      "metadata": {
        "id": "yCc6oLqPjQI7"
      },
      "execution_count": null,
      "outputs": []
    },
    {
      "cell_type": "code",
      "source": [
        "def file_archiver_check(p):\n",
        "  if p in file_archiver:\n",
        "    return 1\n",
        "  else:\n",
        "    return 0"
      ],
      "metadata": {
        "id": "0svr0bx6jVwi"
      },
      "execution_count": null,
      "outputs": []
    },
    {
      "cell_type": "code",
      "source": [
        "def script_check(p):\n",
        "  if p in script:\n",
        "    return 1\n",
        "  else:\n",
        "    return 0"
      ],
      "metadata": {
        "id": "S9VG-s6hjbzB"
      },
      "execution_count": null,
      "outputs": []
    },
    {
      "cell_type": "code",
      "source": [
        "def extension_check(p):\n",
        "  executable_check(p)\n",
        "  phishing_check(p)\n",
        "  macros_check(p)\n",
        "  double_click_check(p)\n",
        "  file_archiver_check(p)\n",
        "  script_check(p)  "
      ],
      "metadata": {
        "id": "QD74aOwdidfN"
      },
      "execution_count": null,
      "outputs": []
    },
    {
      "cell_type": "code",
      "source": [
        "def split(i):\n",
        "  p = os.path.splitext(i)\n",
        "  return p[-1]"
      ],
      "metadata": {
        "id": "nQFfY9xZe-EE"
      },
      "execution_count": null,
      "outputs": []
    },
    {
      "cell_type": "code",
      "source": [
        "from google.colab import files\n",
        "uploaded = files.upload()"
      ],
      "metadata": {
        "colab": {
          "base_uri": "https://localhost:8080/",
          "height": 73
        },
        "id": "r3LdEDYOfdXv",
        "outputId": "c68fe071-1ffd-4e5e-ba9c-58a746ea561c"
      },
      "execution_count": null,
      "outputs": [
        {
          "output_type": "display_data",
          "data": {
            "text/plain": [
              "<IPython.core.display.HTML object>"
            ],
            "text/html": [
              "\n",
              "     <input type=\"file\" id=\"files-fac4bef5-8abf-44a9-870a-b9985db0d1e4\" name=\"files[]\" multiple disabled\n",
              "        style=\"border:none\" />\n",
              "     <output id=\"result-fac4bef5-8abf-44a9-870a-b9985db0d1e4\">\n",
              "      Upload widget is only available when the cell has been executed in the\n",
              "      current browser session. Please rerun this cell to enable.\n",
              "      </output>\n",
              "      <script>// Copyright 2017 Google LLC\n",
              "//\n",
              "// Licensed under the Apache License, Version 2.0 (the \"License\");\n",
              "// you may not use this file except in compliance with the License.\n",
              "// You may obtain a copy of the License at\n",
              "//\n",
              "//      http://www.apache.org/licenses/LICENSE-2.0\n",
              "//\n",
              "// Unless required by applicable law or agreed to in writing, software\n",
              "// distributed under the License is distributed on an \"AS IS\" BASIS,\n",
              "// WITHOUT WARRANTIES OR CONDITIONS OF ANY KIND, either express or implied.\n",
              "// See the License for the specific language governing permissions and\n",
              "// limitations under the License.\n",
              "\n",
              "/**\n",
              " * @fileoverview Helpers for google.colab Python module.\n",
              " */\n",
              "(function(scope) {\n",
              "function span(text, styleAttributes = {}) {\n",
              "  const element = document.createElement('span');\n",
              "  element.textContent = text;\n",
              "  for (const key of Object.keys(styleAttributes)) {\n",
              "    element.style[key] = styleAttributes[key];\n",
              "  }\n",
              "  return element;\n",
              "}\n",
              "\n",
              "// Max number of bytes which will be uploaded at a time.\n",
              "const MAX_PAYLOAD_SIZE = 100 * 1024;\n",
              "\n",
              "function _uploadFiles(inputId, outputId) {\n",
              "  const steps = uploadFilesStep(inputId, outputId);\n",
              "  const outputElement = document.getElementById(outputId);\n",
              "  // Cache steps on the outputElement to make it available for the next call\n",
              "  // to uploadFilesContinue from Python.\n",
              "  outputElement.steps = steps;\n",
              "\n",
              "  return _uploadFilesContinue(outputId);\n",
              "}\n",
              "\n",
              "// This is roughly an async generator (not supported in the browser yet),\n",
              "// where there are multiple asynchronous steps and the Python side is going\n",
              "// to poll for completion of each step.\n",
              "// This uses a Promise to block the python side on completion of each step,\n",
              "// then passes the result of the previous step as the input to the next step.\n",
              "function _uploadFilesContinue(outputId) {\n",
              "  const outputElement = document.getElementById(outputId);\n",
              "  const steps = outputElement.steps;\n",
              "\n",
              "  const next = steps.next(outputElement.lastPromiseValue);\n",
              "  return Promise.resolve(next.value.promise).then((value) => {\n",
              "    // Cache the last promise value to make it available to the next\n",
              "    // step of the generator.\n",
              "    outputElement.lastPromiseValue = value;\n",
              "    return next.value.response;\n",
              "  });\n",
              "}\n",
              "\n",
              "/**\n",
              " * Generator function which is called between each async step of the upload\n",
              " * process.\n",
              " * @param {string} inputId Element ID of the input file picker element.\n",
              " * @param {string} outputId Element ID of the output display.\n",
              " * @return {!Iterable<!Object>} Iterable of next steps.\n",
              " */\n",
              "function* uploadFilesStep(inputId, outputId) {\n",
              "  const inputElement = document.getElementById(inputId);\n",
              "  inputElement.disabled = false;\n",
              "\n",
              "  const outputElement = document.getElementById(outputId);\n",
              "  outputElement.innerHTML = '';\n",
              "\n",
              "  const pickedPromise = new Promise((resolve) => {\n",
              "    inputElement.addEventListener('change', (e) => {\n",
              "      resolve(e.target.files);\n",
              "    });\n",
              "  });\n",
              "\n",
              "  const cancel = document.createElement('button');\n",
              "  inputElement.parentElement.appendChild(cancel);\n",
              "  cancel.textContent = 'Cancel upload';\n",
              "  const cancelPromise = new Promise((resolve) => {\n",
              "    cancel.onclick = () => {\n",
              "      resolve(null);\n",
              "    };\n",
              "  });\n",
              "\n",
              "  // Wait for the user to pick the files.\n",
              "  const files = yield {\n",
              "    promise: Promise.race([pickedPromise, cancelPromise]),\n",
              "    response: {\n",
              "      action: 'starting',\n",
              "    }\n",
              "  };\n",
              "\n",
              "  cancel.remove();\n",
              "\n",
              "  // Disable the input element since further picks are not allowed.\n",
              "  inputElement.disabled = true;\n",
              "\n",
              "  if (!files) {\n",
              "    return {\n",
              "      response: {\n",
              "        action: 'complete',\n",
              "      }\n",
              "    };\n",
              "  }\n",
              "\n",
              "  for (const file of files) {\n",
              "    const li = document.createElement('li');\n",
              "    li.append(span(file.name, {fontWeight: 'bold'}));\n",
              "    li.append(span(\n",
              "        `(${file.type || 'n/a'}) - ${file.size} bytes, ` +\n",
              "        `last modified: ${\n",
              "            file.lastModifiedDate ? file.lastModifiedDate.toLocaleDateString() :\n",
              "                                    'n/a'} - `));\n",
              "    const percent = span('0% done');\n",
              "    li.appendChild(percent);\n",
              "\n",
              "    outputElement.appendChild(li);\n",
              "\n",
              "    const fileDataPromise = new Promise((resolve) => {\n",
              "      const reader = new FileReader();\n",
              "      reader.onload = (e) => {\n",
              "        resolve(e.target.result);\n",
              "      };\n",
              "      reader.readAsArrayBuffer(file);\n",
              "    });\n",
              "    // Wait for the data to be ready.\n",
              "    let fileData = yield {\n",
              "      promise: fileDataPromise,\n",
              "      response: {\n",
              "        action: 'continue',\n",
              "      }\n",
              "    };\n",
              "\n",
              "    // Use a chunked sending to avoid message size limits. See b/62115660.\n",
              "    let position = 0;\n",
              "    do {\n",
              "      const length = Math.min(fileData.byteLength - position, MAX_PAYLOAD_SIZE);\n",
              "      const chunk = new Uint8Array(fileData, position, length);\n",
              "      position += length;\n",
              "\n",
              "      const base64 = btoa(String.fromCharCode.apply(null, chunk));\n",
              "      yield {\n",
              "        response: {\n",
              "          action: 'append',\n",
              "          file: file.name,\n",
              "          data: base64,\n",
              "        },\n",
              "      };\n",
              "\n",
              "      let percentDone = fileData.byteLength === 0 ?\n",
              "          100 :\n",
              "          Math.round((position / fileData.byteLength) * 100);\n",
              "      percent.textContent = `${percentDone}% done`;\n",
              "\n",
              "    } while (position < fileData.byteLength);\n",
              "  }\n",
              "\n",
              "  // All done.\n",
              "  yield {\n",
              "    response: {\n",
              "      action: 'complete',\n",
              "    }\n",
              "  };\n",
              "}\n",
              "\n",
              "scope.google = scope.google || {};\n",
              "scope.google.colab = scope.google.colab || {};\n",
              "scope.google.colab._files = {\n",
              "  _uploadFiles,\n",
              "  _uploadFilesContinue,\n",
              "};\n",
              "})(self);\n",
              "</script> "
            ]
          },
          "metadata": {}
        },
        {
          "output_type": "stream",
          "name": "stdout",
          "text": [
            "Saving Filenames.csv to Filenames.csv\n"
          ]
        }
      ]
    },
    {
      "cell_type": "code",
      "source": [
        "import io\n",
        "df = pd.read_csv(io.BytesIO(uploaded['Filenames.csv']))"
      ],
      "metadata": {
        "id": "Axg-Q0ByfgWj"
      },
      "execution_count": null,
      "outputs": []
    },
    {
      "cell_type": "code",
      "source": [
        "df['Extension'] = df.apply(lambda row: split(row['Filename']), axis=1)"
      ],
      "metadata": {
        "id": "-ElfdvJSU786"
      },
      "execution_count": null,
      "outputs": []
    },
    {
      "cell_type": "code",
      "source": [
        "df['phishing'] = df.apply(lambda row: phishing_check(row['Extension']), axis=1)"
      ],
      "metadata": {
        "id": "P8l4Xl_7VkH_"
      },
      "execution_count": null,
      "outputs": []
    },
    {
      "cell_type": "code",
      "source": [
        "df['executable'] = df.apply(lambda row: executable_check(row['Extension']), axis=1)"
      ],
      "metadata": {
        "id": "skmY0vrifsC0"
      },
      "execution_count": null,
      "outputs": []
    },
    {
      "cell_type": "code",
      "source": [
        "df['macros'] = df.apply(lambda row: macros_check(row['Extension']), axis=1)"
      ],
      "metadata": {
        "id": "5Gq6ACjnfsKX"
      },
      "execution_count": null,
      "outputs": []
    },
    {
      "cell_type": "code",
      "source": [
        "df['double_click'] = df.apply(lambda row: double_click_check(row['Extension']), axis=1)"
      ],
      "metadata": {
        "id": "5VWEA5nJfsSq"
      },
      "execution_count": null,
      "outputs": []
    },
    {
      "cell_type": "code",
      "source": [
        "df['file_archiver'] = df.apply(lambda row: file_archiver_check(row['Extension']), axis=1)"
      ],
      "metadata": {
        "id": "pjMQfNENfsdK"
      },
      "execution_count": null,
      "outputs": []
    },
    {
      "cell_type": "code",
      "source": [
        "df['script'] = df.apply(lambda row: file_archiver_check(row['Extension']), axis=1)"
      ],
      "metadata": {
        "id": "0vlSQGhhW-zh"
      },
      "execution_count": null,
      "outputs": []
    },
    {
      "cell_type": "code",
      "source": [
        "df.head()"
      ],
      "metadata": {
        "colab": {
          "base_uri": "https://localhost:8080/",
          "height": 206
        },
        "id": "zIFvfwzBWb_n",
        "outputId": "6c88b9d1-cc96-400d-9007-bf4a18ecdca2"
      },
      "execution_count": null,
      "outputs": [
        {
          "output_type": "execute_result",
          "data": {
            "text/plain": [
              "                             Filename  Label Extension  phishing  executable  \\\n",
              "0  AskToolbarInstaller-ATU3_TMP[4].7z      1       .7z         1           0   \n",
              "1                         Mathron.tst      1      .tst         0           0   \n",
              "2              Contest_guidelines.pdf      0      .pdf         1           0   \n",
              "3                         mbtCCDF.scr      1      .scr         0           1   \n",
              "4                         iThemes.dll      1      .dll         0           1   \n",
              "\n",
              "   macros  double_click  file_archiver  script  \n",
              "0       0             0              1       1  \n",
              "1       0             0              0       0  \n",
              "2       0             1              0       0  \n",
              "3       0             1              0       0  \n",
              "4       0             0              0       0  "
            ],
            "text/html": [
              "\n",
              "  <div id=\"df-af73773b-e6f5-4d73-ad2f-b4117c5163b1\">\n",
              "    <div class=\"colab-df-container\">\n",
              "      <div>\n",
              "<style scoped>\n",
              "    .dataframe tbody tr th:only-of-type {\n",
              "        vertical-align: middle;\n",
              "    }\n",
              "\n",
              "    .dataframe tbody tr th {\n",
              "        vertical-align: top;\n",
              "    }\n",
              "\n",
              "    .dataframe thead th {\n",
              "        text-align: right;\n",
              "    }\n",
              "</style>\n",
              "<table border=\"1\" class=\"dataframe\">\n",
              "  <thead>\n",
              "    <tr style=\"text-align: right;\">\n",
              "      <th></th>\n",
              "      <th>Filename</th>\n",
              "      <th>Label</th>\n",
              "      <th>Extension</th>\n",
              "      <th>phishing</th>\n",
              "      <th>executable</th>\n",
              "      <th>macros</th>\n",
              "      <th>double_click</th>\n",
              "      <th>file_archiver</th>\n",
              "      <th>script</th>\n",
              "    </tr>\n",
              "  </thead>\n",
              "  <tbody>\n",
              "    <tr>\n",
              "      <th>0</th>\n",
              "      <td>AskToolbarInstaller-ATU3_TMP[4].7z</td>\n",
              "      <td>1</td>\n",
              "      <td>.7z</td>\n",
              "      <td>1</td>\n",
              "      <td>0</td>\n",
              "      <td>0</td>\n",
              "      <td>0</td>\n",
              "      <td>1</td>\n",
              "      <td>1</td>\n",
              "    </tr>\n",
              "    <tr>\n",
              "      <th>1</th>\n",
              "      <td>Mathron.tst</td>\n",
              "      <td>1</td>\n",
              "      <td>.tst</td>\n",
              "      <td>0</td>\n",
              "      <td>0</td>\n",
              "      <td>0</td>\n",
              "      <td>0</td>\n",
              "      <td>0</td>\n",
              "      <td>0</td>\n",
              "    </tr>\n",
              "    <tr>\n",
              "      <th>2</th>\n",
              "      <td>Contest_guidelines.pdf</td>\n",
              "      <td>0</td>\n",
              "      <td>.pdf</td>\n",
              "      <td>1</td>\n",
              "      <td>0</td>\n",
              "      <td>0</td>\n",
              "      <td>1</td>\n",
              "      <td>0</td>\n",
              "      <td>0</td>\n",
              "    </tr>\n",
              "    <tr>\n",
              "      <th>3</th>\n",
              "      <td>mbtCCDF.scr</td>\n",
              "      <td>1</td>\n",
              "      <td>.scr</td>\n",
              "      <td>0</td>\n",
              "      <td>1</td>\n",
              "      <td>0</td>\n",
              "      <td>1</td>\n",
              "      <td>0</td>\n",
              "      <td>0</td>\n",
              "    </tr>\n",
              "    <tr>\n",
              "      <th>4</th>\n",
              "      <td>iThemes.dll</td>\n",
              "      <td>1</td>\n",
              "      <td>.dll</td>\n",
              "      <td>0</td>\n",
              "      <td>1</td>\n",
              "      <td>0</td>\n",
              "      <td>0</td>\n",
              "      <td>0</td>\n",
              "      <td>0</td>\n",
              "    </tr>\n",
              "  </tbody>\n",
              "</table>\n",
              "</div>\n",
              "      <button class=\"colab-df-convert\" onclick=\"convertToInteractive('df-af73773b-e6f5-4d73-ad2f-b4117c5163b1')\"\n",
              "              title=\"Convert this dataframe to an interactive table.\"\n",
              "              style=\"display:none;\">\n",
              "        \n",
              "  <svg xmlns=\"http://www.w3.org/2000/svg\" height=\"24px\"viewBox=\"0 0 24 24\"\n",
              "       width=\"24px\">\n",
              "    <path d=\"M0 0h24v24H0V0z\" fill=\"none\"/>\n",
              "    <path d=\"M18.56 5.44l.94 2.06.94-2.06 2.06-.94-2.06-.94-.94-2.06-.94 2.06-2.06.94zm-11 1L8.5 8.5l.94-2.06 2.06-.94-2.06-.94L8.5 2.5l-.94 2.06-2.06.94zm10 10l.94 2.06.94-2.06 2.06-.94-2.06-.94-.94-2.06-.94 2.06-2.06.94z\"/><path d=\"M17.41 7.96l-1.37-1.37c-.4-.4-.92-.59-1.43-.59-.52 0-1.04.2-1.43.59L10.3 9.45l-7.72 7.72c-.78.78-.78 2.05 0 2.83L4 21.41c.39.39.9.59 1.41.59.51 0 1.02-.2 1.41-.59l7.78-7.78 2.81-2.81c.8-.78.8-2.07 0-2.86zM5.41 20L4 18.59l7.72-7.72 1.47 1.35L5.41 20z\"/>\n",
              "  </svg>\n",
              "      </button>\n",
              "      \n",
              "  <style>\n",
              "    .colab-df-container {\n",
              "      display:flex;\n",
              "      flex-wrap:wrap;\n",
              "      gap: 12px;\n",
              "    }\n",
              "\n",
              "    .colab-df-convert {\n",
              "      background-color: #E8F0FE;\n",
              "      border: none;\n",
              "      border-radius: 50%;\n",
              "      cursor: pointer;\n",
              "      display: none;\n",
              "      fill: #1967D2;\n",
              "      height: 32px;\n",
              "      padding: 0 0 0 0;\n",
              "      width: 32px;\n",
              "    }\n",
              "\n",
              "    .colab-df-convert:hover {\n",
              "      background-color: #E2EBFA;\n",
              "      box-shadow: 0px 1px 2px rgba(60, 64, 67, 0.3), 0px 1px 3px 1px rgba(60, 64, 67, 0.15);\n",
              "      fill: #174EA6;\n",
              "    }\n",
              "\n",
              "    [theme=dark] .colab-df-convert {\n",
              "      background-color: #3B4455;\n",
              "      fill: #D2E3FC;\n",
              "    }\n",
              "\n",
              "    [theme=dark] .colab-df-convert:hover {\n",
              "      background-color: #434B5C;\n",
              "      box-shadow: 0px 1px 3px 1px rgba(0, 0, 0, 0.15);\n",
              "      filter: drop-shadow(0px 1px 2px rgba(0, 0, 0, 0.3));\n",
              "      fill: #FFFFFF;\n",
              "    }\n",
              "  </style>\n",
              "\n",
              "      <script>\n",
              "        const buttonEl =\n",
              "          document.querySelector('#df-af73773b-e6f5-4d73-ad2f-b4117c5163b1 button.colab-df-convert');\n",
              "        buttonEl.style.display =\n",
              "          google.colab.kernel.accessAllowed ? 'block' : 'none';\n",
              "\n",
              "        async function convertToInteractive(key) {\n",
              "          const element = document.querySelector('#df-af73773b-e6f5-4d73-ad2f-b4117c5163b1');\n",
              "          const dataTable =\n",
              "            await google.colab.kernel.invokeFunction('convertToInteractive',\n",
              "                                                     [key], {});\n",
              "          if (!dataTable) return;\n",
              "\n",
              "          const docLinkHtml = 'Like what you see? Visit the ' +\n",
              "            '<a target=\"_blank\" href=https://colab.research.google.com/notebooks/data_table.ipynb>data table notebook</a>'\n",
              "            + ' to learn more about interactive tables.';\n",
              "          element.innerHTML = '';\n",
              "          dataTable['output_type'] = 'display_data';\n",
              "          await google.colab.output.renderOutput(dataTable, element);\n",
              "          const docLink = document.createElement('div');\n",
              "          docLink.innerHTML = docLinkHtml;\n",
              "          element.appendChild(docLink);\n",
              "        }\n",
              "      </script>\n",
              "    </div>\n",
              "  </div>\n",
              "  "
            ]
          },
          "metadata": {},
          "execution_count": 83
        }
      ]
    },
    {
      "cell_type": "code",
      "source": [
        "# Import the model we are using\n",
        "from sklearn.ensemble import RandomForestRegressor\n",
        "# Instantiate model with 1000 decision trees\n",
        "rf2 = RandomForestRegressor(n_estimators = 20, random_state = 42)"
      ],
      "metadata": {
        "id": "L9RtYlTffhQ-"
      },
      "execution_count": null,
      "outputs": []
    },
    {
      "cell_type": "code",
      "source": [
        "# Use numpy to convert to arrays\n",
        "import numpy as np\n",
        "# Labels are the values we want to predict\n",
        "labels = np.array(df['Label'])\n",
        "# axis 1 refers to the columns\n",
        "df2= df.drop(['Label'], axis = 1)\n",
        "features= df2.drop(['Filename', 'Extension'], axis = 1)\n",
        "# Saving feature names for later use\n",
        "feature_list = list(features.columns)\n",
        "# Convert to numpy array\n",
        "features = np.array(features)"
      ],
      "metadata": {
        "id": "xBmEdo5ff_mA"
      },
      "execution_count": null,
      "outputs": []
    },
    {
      "cell_type": "code",
      "source": [
        "# Using Skicit-learn to split data into training and testing sets\n",
        "from sklearn.model_selection import train_test_split\n",
        "# Split the data into training and testing sets\n",
        "train_features, test_features, train_labels, test_labels = train_test_split(features, labels, test_size = 0.25, random_state = 42)"
      ],
      "metadata": {
        "id": "qca4dviEgBWG"
      },
      "execution_count": null,
      "outputs": []
    },
    {
      "cell_type": "code",
      "source": [
        "# Train the model on training data\n",
        "rf2.fit(train_features, train_labels);"
      ],
      "metadata": {
        "id": "1p12sC7zgDt9"
      },
      "execution_count": null,
      "outputs": []
    },
    {
      "cell_type": "code",
      "source": [
        "predictions = rf2.predict(test_features)"
      ],
      "metadata": {
        "id": "uJKcrIR3gHSE"
      },
      "execution_count": null,
      "outputs": []
    },
    {
      "cell_type": "code",
      "source": [
        "# Calculate the absolute errors\n",
        "errors = abs(predictions - test_labels)\n",
        "# Print out the mean absolute error (mae)\n",
        "mae = round(np.mean(errors),2)\n",
        "print('Mean Absolute Error:', mae)"
      ],
      "metadata": {
        "colab": {
          "base_uri": "https://localhost:8080/"
        },
        "id": "7kBRFAZMgI-f",
        "outputId": "9b52a0fb-fb9f-4bd5-d79d-8103824fd7ca"
      },
      "execution_count": null,
      "outputs": [
        {
          "output_type": "stream",
          "name": "stdout",
          "text": [
            "Mean Absolute Error: 0.58\n"
          ]
        }
      ]
    },
    {
      "cell_type": "code",
      "source": [
        "# Calculate mean absolute percentage error (MAPE)\n",
        "mape = (mae / len(test_labels))*100\n",
        "# Calculate and display accuracy\n",
        "accuracy = 100 - np.mean(mape)\n",
        "print('Accuracy:', round(accuracy, 2), '%.')"
      ],
      "metadata": {
        "colab": {
          "base_uri": "https://localhost:8080/"
        },
        "id": "f-3-DnyHgJha",
        "outputId": "e1ec8d7c-3b8e-4018-c0fd-d6d0ad6fc7a3"
      },
      "execution_count": null,
      "outputs": [
        {
          "output_type": "stream",
          "name": "stdout",
          "text": [
            "Accuracy: 88.4 %.\n"
          ]
        }
      ]
    },
    {
      "cell_type": "markdown",
      "source": [
        "Applying this random forest on the extracted filenames"
      ],
      "metadata": {
        "id": "Tw1UflD5Amr8"
      }
    },
    {
      "cell_type": "code",
      "source": [
        "fdf = pd.DataFrame(attachment)"
      ],
      "metadata": {
        "id": "6fAWfwiJfpP3"
      },
      "execution_count": null,
      "outputs": []
    },
    {
      "cell_type": "code",
      "source": [
        "fdf.columns = ['Attachment']"
      ],
      "metadata": {
        "id": "rSQwOfDlf0b2"
      },
      "execution_count": null,
      "outputs": []
    },
    {
      "cell_type": "code",
      "execution_count": null,
      "metadata": {
        "id": "5EHJjiUq-bKO"
      },
      "outputs": [],
      "source": [
        "fdf['Extension'] = fdf.apply(lambda row: split(row['Attachment']), axis=1)\n",
        "fdf['phishing'] = fdf.apply(lambda row: phishing_check(row['Attachment']), axis=1)\n",
        "fdf['executable'] = fdf.apply(lambda row: executable_check(row['Attachment']), axis=1)\n",
        "fdf['script'] = fdf.apply(lambda row: script_check(row['Attachment']), axis=1)\n",
        "fdf['macros'] = fdf.apply(lambda row: macros_check(row['Attachment']), axis=1)\n",
        "fdf['double-click'] = fdf.apply(lambda row: double_click_check(row['Attachment']), axis=1)\n",
        "fdf['file_archiver'] = fdf.apply(lambda row: file_archiver_check(row['Attachment']), axis=1)              "
      ]
    },
    {
      "cell_type": "code",
      "source": [
        "fdf.head()"
      ],
      "metadata": {
        "colab": {
          "base_uri": "https://localhost:8080/",
          "height": 81
        },
        "id": "Czl7rXorf7hO",
        "outputId": "32bc6b99-1a0b-4fd4-a864-7e492717fed2"
      },
      "execution_count": null,
      "outputs": [
        {
          "output_type": "execute_result",
          "data": {
            "text/plain": [
              "                             Attachment Extension  phishing  executable  \\\n",
              "0  9b7546a541ab380cac91f2ae09cde6fd.png      .png         0           0   \n",
              "\n",
              "   script  macros  double-click  file_archiver  \n",
              "0       0       0             0              0  "
            ],
            "text/html": [
              "\n",
              "  <div id=\"df-7eb1c155-9efa-4fc6-b806-51105df3e839\">\n",
              "    <div class=\"colab-df-container\">\n",
              "      <div>\n",
              "<style scoped>\n",
              "    .dataframe tbody tr th:only-of-type {\n",
              "        vertical-align: middle;\n",
              "    }\n",
              "\n",
              "    .dataframe tbody tr th {\n",
              "        vertical-align: top;\n",
              "    }\n",
              "\n",
              "    .dataframe thead th {\n",
              "        text-align: right;\n",
              "    }\n",
              "</style>\n",
              "<table border=\"1\" class=\"dataframe\">\n",
              "  <thead>\n",
              "    <tr style=\"text-align: right;\">\n",
              "      <th></th>\n",
              "      <th>Attachment</th>\n",
              "      <th>Extension</th>\n",
              "      <th>phishing</th>\n",
              "      <th>executable</th>\n",
              "      <th>script</th>\n",
              "      <th>macros</th>\n",
              "      <th>double-click</th>\n",
              "      <th>file_archiver</th>\n",
              "    </tr>\n",
              "  </thead>\n",
              "  <tbody>\n",
              "    <tr>\n",
              "      <th>0</th>\n",
              "      <td>9b7546a541ab380cac91f2ae09cde6fd.png</td>\n",
              "      <td>.png</td>\n",
              "      <td>0</td>\n",
              "      <td>0</td>\n",
              "      <td>0</td>\n",
              "      <td>0</td>\n",
              "      <td>0</td>\n",
              "      <td>0</td>\n",
              "    </tr>\n",
              "  </tbody>\n",
              "</table>\n",
              "</div>\n",
              "      <button class=\"colab-df-convert\" onclick=\"convertToInteractive('df-7eb1c155-9efa-4fc6-b806-51105df3e839')\"\n",
              "              title=\"Convert this dataframe to an interactive table.\"\n",
              "              style=\"display:none;\">\n",
              "        \n",
              "  <svg xmlns=\"http://www.w3.org/2000/svg\" height=\"24px\"viewBox=\"0 0 24 24\"\n",
              "       width=\"24px\">\n",
              "    <path d=\"M0 0h24v24H0V0z\" fill=\"none\"/>\n",
              "    <path d=\"M18.56 5.44l.94 2.06.94-2.06 2.06-.94-2.06-.94-.94-2.06-.94 2.06-2.06.94zm-11 1L8.5 8.5l.94-2.06 2.06-.94-2.06-.94L8.5 2.5l-.94 2.06-2.06.94zm10 10l.94 2.06.94-2.06 2.06-.94-2.06-.94-.94-2.06-.94 2.06-2.06.94z\"/><path d=\"M17.41 7.96l-1.37-1.37c-.4-.4-.92-.59-1.43-.59-.52 0-1.04.2-1.43.59L10.3 9.45l-7.72 7.72c-.78.78-.78 2.05 0 2.83L4 21.41c.39.39.9.59 1.41.59.51 0 1.02-.2 1.41-.59l7.78-7.78 2.81-2.81c.8-.78.8-2.07 0-2.86zM5.41 20L4 18.59l7.72-7.72 1.47 1.35L5.41 20z\"/>\n",
              "  </svg>\n",
              "      </button>\n",
              "      \n",
              "  <style>\n",
              "    .colab-df-container {\n",
              "      display:flex;\n",
              "      flex-wrap:wrap;\n",
              "      gap: 12px;\n",
              "    }\n",
              "\n",
              "    .colab-df-convert {\n",
              "      background-color: #E8F0FE;\n",
              "      border: none;\n",
              "      border-radius: 50%;\n",
              "      cursor: pointer;\n",
              "      display: none;\n",
              "      fill: #1967D2;\n",
              "      height: 32px;\n",
              "      padding: 0 0 0 0;\n",
              "      width: 32px;\n",
              "    }\n",
              "\n",
              "    .colab-df-convert:hover {\n",
              "      background-color: #E2EBFA;\n",
              "      box-shadow: 0px 1px 2px rgba(60, 64, 67, 0.3), 0px 1px 3px 1px rgba(60, 64, 67, 0.15);\n",
              "      fill: #174EA6;\n",
              "    }\n",
              "\n",
              "    [theme=dark] .colab-df-convert {\n",
              "      background-color: #3B4455;\n",
              "      fill: #D2E3FC;\n",
              "    }\n",
              "\n",
              "    [theme=dark] .colab-df-convert:hover {\n",
              "      background-color: #434B5C;\n",
              "      box-shadow: 0px 1px 3px 1px rgba(0, 0, 0, 0.15);\n",
              "      filter: drop-shadow(0px 1px 2px rgba(0, 0, 0, 0.3));\n",
              "      fill: #FFFFFF;\n",
              "    }\n",
              "  </style>\n",
              "\n",
              "      <script>\n",
              "        const buttonEl =\n",
              "          document.querySelector('#df-7eb1c155-9efa-4fc6-b806-51105df3e839 button.colab-df-convert');\n",
              "        buttonEl.style.display =\n",
              "          google.colab.kernel.accessAllowed ? 'block' : 'none';\n",
              "\n",
              "        async function convertToInteractive(key) {\n",
              "          const element = document.querySelector('#df-7eb1c155-9efa-4fc6-b806-51105df3e839');\n",
              "          const dataTable =\n",
              "            await google.colab.kernel.invokeFunction('convertToInteractive',\n",
              "                                                     [key], {});\n",
              "          if (!dataTable) return;\n",
              "\n",
              "          const docLinkHtml = 'Like what you see? Visit the ' +\n",
              "            '<a target=\"_blank\" href=https://colab.research.google.com/notebooks/data_table.ipynb>data table notebook</a>'\n",
              "            + ' to learn more about interactive tables.';\n",
              "          element.innerHTML = '';\n",
              "          dataTable['output_type'] = 'display_data';\n",
              "          await google.colab.output.renderOutput(dataTable, element);\n",
              "          const docLink = document.createElement('div');\n",
              "          docLink.innerHTML = docLinkHtml;\n",
              "          element.appendChild(docLink);\n",
              "        }\n",
              "      </script>\n",
              "    </div>\n",
              "  </div>\n",
              "  "
            ]
          },
          "metadata": {},
          "execution_count": 94
        }
      ]
    },
    {
      "cell_type": "code",
      "source": [
        "# Use numpy to convert to arrays\n",
        "import numpy as np\n",
        "# axis 1 refers to the columns\n",
        "f= fdf.drop(['Attachment'], axis = 1)\n",
        "feature = f.drop(['Extension'], axis = 1)\n",
        "# Saving feature names for later use\n",
        "feature_list = list(feature.columns)\n",
        "# Convert to numpy array\n",
        "feature = np.array(feature)"
      ],
      "metadata": {
        "id": "qzV7hv8UiK1x"
      },
      "execution_count": null,
      "outputs": []
    },
    {
      "cell_type": "code",
      "source": [
        "pred1 = rf2.predict(feature)"
      ],
      "metadata": {
        "id": "pJ0ehNMthMiu"
      },
      "execution_count": null,
      "outputs": []
    },
    {
      "cell_type": "code",
      "source": [
        "print(pred1)"
      ],
      "metadata": {
        "colab": {
          "base_uri": "https://localhost:8080/"
        },
        "id": "5yPhCSW6WCL9",
        "outputId": "0142f9a8-0777-4ab3-e9cd-22c8a288b3ea"
      },
      "execution_count": null,
      "outputs": [
        {
          "output_type": "stream",
          "name": "stdout",
          "text": [
            "[0.05]\n"
          ]
        }
      ]
    },
    {
      "cell_type": "markdown",
      "source": [
        "# Predictor"
      ],
      "metadata": {
        "id": "v2OtKNMQYNVs"
      }
    },
    {
      "cell_type": "code",
      "source": [
        "file_attachment_check = pred1\n",
        "url_check = url_check_result\n",
        "email_text_check = email_result"
      ],
      "metadata": {
        "id": "fDAwF7enYMtE"
      },
      "execution_count": null,
      "outputs": []
    },
    {
      "cell_type": "code",
      "source": [
        "final_result = (file_attachment_check+url_check+email_text_check)/3\n",
        "print(final_result)"
      ],
      "metadata": {
        "colab": {
          "base_uri": "https://localhost:8080/"
        },
        "id": "u4BtFy8ZYCeW",
        "outputId": "47dc70a8-31b7-4bd6-8ac4-b1bbb14dfee1"
      },
      "execution_count": null,
      "outputs": [
        {
          "output_type": "stream",
          "name": "stdout",
          "text": [
            "[0.54191919]\n"
          ]
        }
      ]
    },
    {
      "cell_type": "code",
      "source": [
        "if final_result >= 0.8:\n",
        "  print(\"Very likely that your email is phishing- ignore this email, or report it\")\n",
        "elif final_result >=0.5 and final_result < 0.8:\n",
        "  print(\"Some possiblity that you email is phishing- be careful if the sender is someone you know\")\n",
        "elif final_result >= 0.3 and final_result < 0.5:\n",
        "  print(\"Some possibility that your email is not phishing- but please exercise caution while opening them\")\n",
        "elif final_result < 0.3:\n",
        "  print(\"Low possibility that your email is not phishing\")"
      ],
      "metadata": {
        "colab": {
          "base_uri": "https://localhost:8080/"
        },
        "id": "g-2QAbx4_BGC",
        "outputId": "78eecdff-c966-4486-f949-e1b4558024ce"
      },
      "execution_count": null,
      "outputs": [
        {
          "output_type": "stream",
          "name": "stdout",
          "text": [
            "Some possiblity that you email is phishing- be careful if the sender is someone you know\n"
          ]
        }
      ]
    }
  ],
  "metadata": {
    "colab": {
      "collapsed_sections": [
        "74KVRH0WjcEg",
        "Uot4f4Ux2Kqo",
        "JwNdYl6BIuIQ"
      ],
      "provenance": []
    },
    "kernelspec": {
      "display_name": "Python 3",
      "name": "python3"
    },
    "language_info": {
      "name": "python"
    }
  },
  "nbformat": 4,
  "nbformat_minor": 0
}